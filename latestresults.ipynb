{
 "cells": [
  {
   "cell_type": "code",
   "execution_count": 1,
   "id": "expected-script",
   "metadata": {},
   "outputs": [],
   "source": [
    "import re\n",
    "import requests\n",
    "import pandas as pd\n",
    "import matplotlib.pyplot as plt\n",
    "import seaborn as sns\n",
    "%matplotlib inline"
   ]
  },
  {
   "cell_type": "markdown",
   "id": "local-distribution",
   "metadata": {},
   "source": [
    "# Результаты паракрана"
   ]
  },
  {
   "cell_type": "markdown",
   "id": "specialized-template",
   "metadata": {},
   "source": [
    "Здесь можно подставить идентификатор любого другого паркрана."
   ]
  },
  {
   "cell_type": "code",
   "execution_count": 2,
   "id": "refined-surveillance",
   "metadata": {},
   "outputs": [],
   "source": [
    "parkrun = 'kuzminki'"
   ]
  },
  {
   "cell_type": "markdown",
   "id": "south-requirement",
   "metadata": {},
   "source": [
    "Список идентификаторов всех российских паркранов находится в файле `russian_parkruns.csv`."
   ]
  },
  {
   "cell_type": "markdown",
   "id": "rising-carry",
   "metadata": {},
   "source": [
    "Какие результат получаем - последние или по конкретному номеру (закомментировать одну из строк с `suff`):"
   ]
  },
  {
   "cell_type": "code",
   "execution_count": 3,
   "id": "directed-ending",
   "metadata": {},
   "outputs": [],
   "source": [
    "suff = '/latestresults/'  # результаты последнего паркрана, внесённого в систему"
   ]
  },
  {
   "cell_type": "code",
   "execution_count": 4,
   "id": "subject-election",
   "metadata": {},
   "outputs": [],
   "source": [
    "N = 100  # либо указываем номер и раскомментируем следующую строчку"
   ]
  },
  {
   "cell_type": "code",
   "execution_count": 5,
   "id": "accomplished-rolling",
   "metadata": {},
   "outputs": [],
   "source": [
    "#suff = f'/weeklyresults/?runSeqNumber={N}'"
   ]
  },
  {
   "cell_type": "code",
   "execution_count": 6,
   "id": "smoking-thing",
   "metadata": {},
   "outputs": [],
   "source": [
    "url = f'https://www.parkrun.ru/{parkrun}/results' + suff\n",
    "page_all_results = requests.get(url, headers={'User-Agent': 'Mozilla/5.0 (X11; Ubuntu; Linux x86_64; rv:86.0) Gecko/20100101 Firefox/86.0'})"
   ]
  },
  {
   "cell_type": "code",
   "execution_count": 7,
   "id": "according-listening",
   "metadata": {},
   "outputs": [],
   "source": [
    "data = pd.read_html(page_all_results.text)[0]\n",
    "unknown_runners = len(data[data['Участник'] == 'Неизвестный'])\n",
    "data = data.dropna(thresh=3)"
   ]
  },
  {
   "cell_type": "markdown",
   "id": "solar-radio",
   "metadata": {},
   "source": [
    "Количество \"неизвестных\" участников в данном забеге"
   ]
  },
  {
   "cell_type": "code",
   "execution_count": 8,
   "id": "precious-likelihood",
   "metadata": {},
   "outputs": [
    {
     "data": {
      "text/plain": [
       "10"
      ]
     },
     "execution_count": 8,
     "metadata": {},
     "output_type": "execute_result"
    }
   ],
   "source": [
    "unknown_runners"
   ]
  },
  {
   "cell_type": "code",
   "execution_count": 9,
   "id": "otherwise-warrant",
   "metadata": {},
   "outputs": [],
   "source": [
    "data['Позиция м/ж'] = data[data.columns[2]].dropna().transform(lambda s: re.search(r'(?:Мужской|Женский)[ ]+(\\d+)', s)[1])\n",
    "data[data.columns[2]] = data[data.columns[2]].dropna().transform(lambda s: re.search(r'Мужской|Женский', s)[0])\n",
    "\n",
    "data[data.columns[1]] = data[data.columns[1]].transform(lambda s: re.search(r'([^\\d]+)\\d.*|Неизвестный', s)[1])\n",
    "\n",
    "data[data.columns[3]] = data[data.columns[3]].dropna().transform(lambda s: re.search(r'\\w\\w\\d\\d-\\d\\d|ЮМ10|\\w\\w---', s)[0])\n",
    "\n",
    "data['Личник'] = data[data.columns[5]].dropna().transform(lambda s: re.search(r'(?<=\\d\\d:\\d\\d)(.*)', s)[1])\n",
    "data[data.columns[5]] = data[data.columns[5]].dropna().transform(lambda s: re.search(r'^(\\d:)?\\d\\d:\\d\\d', s)[0])\n",
    "\n",
    "#data['Клуб'].fillna('',inplace=True)"
   ]
  },
  {
   "cell_type": "code",
   "execution_count": 10,
   "id": "naval-veteran",
   "metadata": {},
   "outputs": [
    {
     "data": {
      "text/html": [
       "<div>\n",
       "<style scoped>\n",
       "    .dataframe tbody tr th:only-of-type {\n",
       "        vertical-align: middle;\n",
       "    }\n",
       "\n",
       "    .dataframe tbody tr th {\n",
       "        vertical-align: top;\n",
       "    }\n",
       "\n",
       "    .dataframe thead th {\n",
       "        text-align: right;\n",
       "    }\n",
       "</style>\n",
       "<table border=\"1\" class=\"dataframe\">\n",
       "  <thead>\n",
       "    <tr style=\"text-align: right;\">\n",
       "      <th></th>\n",
       "      <th>Позиция</th>\n",
       "      <th>Участник</th>\n",
       "      <th>Пол</th>\n",
       "      <th>Возр. группа</th>\n",
       "      <th>Клуб</th>\n",
       "      <th>Время</th>\n",
       "      <th>Позиция м/ж</th>\n",
       "      <th>Личник</th>\n",
       "    </tr>\n",
       "  </thead>\n",
       "  <tbody>\n",
       "    <tr>\n",
       "      <th>0</th>\n",
       "      <td>1</td>\n",
       "      <td>Виктор НИКОЛАЕВ</td>\n",
       "      <td>Мужской</td>\n",
       "      <td>СМ30-34</td>\n",
       "      <td>NaN</td>\n",
       "      <td>15:46</td>\n",
       "      <td>1</td>\n",
       "      <td>Новый ЛР!</td>\n",
       "    </tr>\n",
       "    <tr>\n",
       "      <th>1</th>\n",
       "      <td>2</td>\n",
       "      <td>Алексей КАТРЕНКО</td>\n",
       "      <td>Мужской</td>\n",
       "      <td>СМ30-34</td>\n",
       "      <td>NaN</td>\n",
       "      <td>17:23</td>\n",
       "      <td>2</td>\n",
       "      <td>Новый ЛР!</td>\n",
       "    </tr>\n",
       "    <tr>\n",
       "      <th>2</th>\n",
       "      <td>3</td>\n",
       "      <td>Александр ТАГАНЦЕВ</td>\n",
       "      <td>Мужской</td>\n",
       "      <td>СМ25-29</td>\n",
       "      <td>Парсек</td>\n",
       "      <td>18:06</td>\n",
       "      <td>3</td>\n",
       "      <td>ЛР 16:54</td>\n",
       "    </tr>\n",
       "    <tr>\n",
       "      <th>3</th>\n",
       "      <td>4</td>\n",
       "      <td>Владимир ИВАНОВ</td>\n",
       "      <td>Мужской</td>\n",
       "      <td>СМ25-29</td>\n",
       "      <td>NaN</td>\n",
       "      <td>18:46</td>\n",
       "      <td>4</td>\n",
       "      <td>ЛР 17:31</td>\n",
       "    </tr>\n",
       "    <tr>\n",
       "      <th>4</th>\n",
       "      <td>5</td>\n",
       "      <td>Leonardo GONZALEZ</td>\n",
       "      <td>Мужской</td>\n",
       "      <td>ВМ45-49</td>\n",
       "      <td>NaN</td>\n",
       "      <td>18:50</td>\n",
       "      <td>5</td>\n",
       "      <td>ЛР 18:40</td>\n",
       "    </tr>\n",
       "    <tr>\n",
       "      <th>...</th>\n",
       "      <td>...</td>\n",
       "      <td>...</td>\n",
       "      <td>...</td>\n",
       "      <td>...</td>\n",
       "      <td>...</td>\n",
       "      <td>...</td>\n",
       "      <td>...</td>\n",
       "      <td>...</td>\n",
       "    </tr>\n",
       "    <tr>\n",
       "      <th>149</th>\n",
       "      <td>150</td>\n",
       "      <td>Мария ЭЗАУ</td>\n",
       "      <td>Женский</td>\n",
       "      <td>СЖ20-24</td>\n",
       "      <td>NaN</td>\n",
       "      <td>38:01</td>\n",
       "      <td>47</td>\n",
       "      <td>ЛР 28:24</td>\n",
       "    </tr>\n",
       "    <tr>\n",
       "      <th>150</th>\n",
       "      <td>151</td>\n",
       "      <td>Анастасия САВЧЕНКО</td>\n",
       "      <td>Женский</td>\n",
       "      <td>СЖ20-24</td>\n",
       "      <td>NaN</td>\n",
       "      <td>42:14</td>\n",
       "      <td>48</td>\n",
       "      <td>Первый паркран!</td>\n",
       "    </tr>\n",
       "    <tr>\n",
       "      <th>151</th>\n",
       "      <td>152</td>\n",
       "      <td>Любовь КАЗАНЦЕВА</td>\n",
       "      <td>Женский</td>\n",
       "      <td>ВЖ55-59</td>\n",
       "      <td>NaN</td>\n",
       "      <td>49:47</td>\n",
       "      <td>49</td>\n",
       "      <td>ЛР 43:53</td>\n",
       "    </tr>\n",
       "    <tr>\n",
       "      <th>152</th>\n",
       "      <td>153</td>\n",
       "      <td>Андрей ЧИВИН</td>\n",
       "      <td>Мужской</td>\n",
       "      <td>ВМ40-44</td>\n",
       "      <td>Wake&amp;Run</td>\n",
       "      <td>49:58</td>\n",
       "      <td>94</td>\n",
       "      <td>ЛР 18:27</td>\n",
       "    </tr>\n",
       "    <tr>\n",
       "      <th>153</th>\n",
       "      <td>154</td>\n",
       "      <td>Марина УСИЧЕНКО</td>\n",
       "      <td>Женский</td>\n",
       "      <td>ВЖ40-44</td>\n",
       "      <td>NaN</td>\n",
       "      <td>49:58</td>\n",
       "      <td>50</td>\n",
       "      <td>ЛР 35:38</td>\n",
       "    </tr>\n",
       "  </tbody>\n",
       "</table>\n",
       "<p>144 rows × 8 columns</p>\n",
       "</div>"
      ],
      "text/plain": [
       "     Позиция            Участник      Пол Возр. группа      Клуб  Время  \\\n",
       "0          1     Виктор НИКОЛАЕВ  Мужской      СМ30-34       NaN  15:46   \n",
       "1          2    Алексей КАТРЕНКО  Мужской      СМ30-34       NaN  17:23   \n",
       "2          3  Александр ТАГАНЦЕВ  Мужской      СМ25-29    Парсек  18:06   \n",
       "3          4     Владимир ИВАНОВ  Мужской      СМ25-29       NaN  18:46   \n",
       "4          5   Leonardo GONZALEZ  Мужской      ВМ45-49       NaN  18:50   \n",
       "..       ...                 ...      ...          ...       ...    ...   \n",
       "149      150          Мария ЭЗАУ  Женский      СЖ20-24       NaN  38:01   \n",
       "150      151  Анастасия САВЧЕНКО  Женский      СЖ20-24       NaN  42:14   \n",
       "151      152    Любовь КАЗАНЦЕВА  Женский      ВЖ55-59       NaN  49:47   \n",
       "152      153        Андрей ЧИВИН  Мужской      ВМ40-44  Wake&Run  49:58   \n",
       "153      154     Марина УСИЧЕНКО  Женский      ВЖ40-44       NaN  49:58   \n",
       "\n",
       "    Позиция м/ж           Личник  \n",
       "0             1        Новый ЛР!  \n",
       "1             2        Новый ЛР!  \n",
       "2             3         ЛР 16:54  \n",
       "3             4         ЛР 17:31  \n",
       "4             5         ЛР 18:40  \n",
       "..          ...              ...  \n",
       "149          47         ЛР 28:24  \n",
       "150          48  Первый паркран!  \n",
       "151          49         ЛР 43:53  \n",
       "152          94         ЛР 18:27  \n",
       "153          50         ЛР 35:38  \n",
       "\n",
       "[144 rows x 8 columns]"
      ]
     },
     "execution_count": 10,
     "metadata": {},
     "output_type": "execute_result"
    }
   ],
   "source": [
    "data"
   ]
  },
  {
   "cell_type": "code",
   "execution_count": 11,
   "id": "concerned-farmer",
   "metadata": {},
   "outputs": [
    {
     "name": "stdout",
     "output_type": "stream",
     "text": [
      "<class 'pandas.core.frame.DataFrame'>\n",
      "Int64Index: 144 entries, 0 to 153\n",
      "Data columns (total 8 columns):\n",
      " #   Column        Non-Null Count  Dtype \n",
      "---  ------        --------------  ----- \n",
      " 0   Позиция       144 non-null    int64 \n",
      " 1   Участник      144 non-null    object\n",
      " 2   Пол           144 non-null    object\n",
      " 3   Возр. группа  144 non-null    object\n",
      " 4   Клуб          44 non-null     object\n",
      " 5   Время         144 non-null    object\n",
      " 6   Позиция м/ж   144 non-null    object\n",
      " 7   Личник        144 non-null    object\n",
      "dtypes: int64(1), object(7)\n",
      "memory usage: 10.1+ KB\n"
     ]
    }
   ],
   "source": [
    "data.info()"
   ]
  },
  {
   "cell_type": "code",
   "execution_count": 12,
   "id": "crude-draft",
   "metadata": {},
   "outputs": [
    {
     "data": {
      "text/plain": [
       "Позиция           0\n",
       "Участник          0\n",
       "Пол               0\n",
       "Возр. группа      0\n",
       "Клуб            100\n",
       "Время             0\n",
       "Позиция м/ж       0\n",
       "Личник            0\n",
       "dtype: int64"
      ]
     },
     "execution_count": 12,
     "metadata": {},
     "output_type": "execute_result"
    }
   ],
   "source": [
    "data.isnull().sum()"
   ]
  },
  {
   "cell_type": "markdown",
   "id": "chinese-diabetes",
   "metadata": {},
   "source": [
    "## Распределение участников по полу"
   ]
  },
  {
   "cell_type": "code",
   "execution_count": 13,
   "id": "expanded-blind",
   "metadata": {},
   "outputs": [
    {
     "data": {
      "text/plain": [
       "Мужской    94\n",
       "Женский    50\n",
       "Name: Пол, dtype: int64"
      ]
     },
     "execution_count": 13,
     "metadata": {},
     "output_type": "execute_result"
    }
   ],
   "source": [
    "data['Пол'].value_counts()"
   ]
  },
  {
   "cell_type": "code",
   "execution_count": 14,
   "id": "protecting-philosophy",
   "metadata": {},
   "outputs": [
    {
     "data": {
      "text/plain": [
       "<AxesSubplot:xlabel='Пол', ylabel='count'>"
      ]
     },
     "execution_count": 14,
     "metadata": {},
     "output_type": "execute_result"
    },
    {
     "data": {
      "image/png": "[encoded data removed]",
      "text/plain": [
       "<Figure size 432x288 with 1 Axes>"
      ]
     },
     "metadata": {},
     "output_type": "display_data"
    }
   ],
   "source": [
    "sns.set_style('whitegrid')\n",
    "sns.countplot(x='Пол', data=data, palette='RdBu_r')"
   ]
  },
  {
   "cell_type": "markdown",
   "id": "serial-hartford",
   "metadata": {},
   "source": [
    "## Количество участников из беговых клубов"
   ]
  },
  {
   "cell_type": "code",
   "execution_count": 15,
   "id": "dominican-essex",
   "metadata": {},
   "outputs": [],
   "source": [
    "clubs = data['Клуб'].value_counts()"
   ]
  },
  {
   "cell_type": "code",
   "execution_count": 16,
   "id": "handmade-knight",
   "metadata": {},
   "outputs": [
    {
     "data": {
      "text/plain": [
       "<AxesSubplot:xlabel='Клуб', ylabel='count'>"
      ]
     },
     "execution_count": 16,
     "metadata": {},
     "output_type": "execute_result"
    },
    {
     "data": {
      "image/png": "[encoded data removed]",
      "text/plain": [
       "<Figure size 1152x504 with 1 Axes>"
      ]
     },
     "metadata": {},
     "output_type": "display_data"
    }
   ],
   "source": [
    "plt.figure(figsize=(16, 7))\n",
    "plt.xticks(rotation=70)\n",
    "sns.set_style('whitegrid')\n",
    "sns.countplot(x='Клуб', data=data, palette='RdBu_r', order=clubs.index)"
   ]
  },
  {
   "cell_type": "markdown",
   "id": "careful-omega",
   "metadata": {},
   "source": [
    "## Распределение по возрастным группам"
   ]
  },
  {
   "cell_type": "code",
   "execution_count": 17,
   "id": "increased-uncle",
   "metadata": {},
   "outputs": [
    {
     "data": {
      "text/plain": [
       "СМ30-34    27\n",
       "ВМ35-39    20\n",
       "ВМ40-44    15\n",
       "СЖ30-34    12\n",
       "ВМ45-49     8\n",
       "СЖ25-29     8\n",
       "ВЖ35-39     8\n",
       "ВЖ40-44     7\n",
       "СМ25-29     7\n",
       "СЖ20-24     6\n",
       "ВМ60-64     4\n",
       "ВЖ45-49     4\n",
       "СМ20-24     3\n",
       "ЮМ11-14     3\n",
       "ВМ55-59     3\n",
       "ЮЖ11-14     2\n",
       "ВМ50-54     2\n",
       "ВЖ60-64     1\n",
       "ВМ65-69     1\n",
       "ЮМ10        1\n",
       "ВЖ55-59     1\n",
       "СЖ18-19     1\n",
       "Name: Возр. группа, dtype: int64"
      ]
     },
     "execution_count": 17,
     "metadata": {},
     "output_type": "execute_result"
    }
   ],
   "source": [
    "data['Возр. группа'].value_counts()"
   ]
  },
  {
   "cell_type": "code",
   "execution_count": 18,
   "id": "infinite-coating",
   "metadata": {},
   "outputs": [
    {
     "data": {
      "text/plain": [
       "<AxesSubplot:xlabel='Пол', ylabel='count'>"
      ]
     },
     "execution_count": 18,
     "metadata": {},
     "output_type": "execute_result"
    },
    {
     "data": {
      "image/png": "[encoded data removed]",
      "text/plain": [
       "<Figure size 1152x504 with 1 Axes>"
      ]
     },
     "metadata": {},
     "output_type": "display_data"
    }
   ],
   "source": [
    "plt.figure(figsize=(16, 7))\n",
    "sns.set_style('whitegrid')\n",
    "sns.countplot(x='Пол', hue='Возр. группа', data=data, palette='RdBu_r')"
   ]
  },
  {
   "cell_type": "markdown",
   "id": "documentary-field",
   "metadata": {},
   "source": [
    "### Распределение результатов участников"
   ]
  },
  {
   "cell_type": "code",
   "execution_count": 21,
   "id": "governmental-gardening",
   "metadata": {},
   "outputs": [
    {
     "data": {
      "text/plain": [
       "Text(0, 0.5, 'Количество результатов')"
      ]
     },
     "execution_count": 21,
     "metadata": {},
     "output_type": "execute_result"
    },
    {
     "data": {
      "image/png": "[encoded data removed]",
      "text/plain": [
       "<Figure size 1152x504 with 1 Axes>"
      ]
     },
     "metadata": {},
     "output_type": "display_data"
    }
   ],
   "source": [
    "plt.figure(figsize=(16, 7))\n",
    "ax = data['Время']\\\n",
    ".transform(lambda time: sum(x * int(t) for x, t in zip([1/60, 1, 60], time.split(':')[::-1])))\\\n",
    ".hist(bins=30)\n",
    "ax.set_xlabel(\"Результаты участников (минуты)\")\n",
    "ax.set_ylabel(\"Количество результатов\")"
   ]
  },
  {
   "cell_type": "code",
   "execution_count": null,
   "id": "false-drill",
   "metadata": {},
   "outputs": [],
   "source": []
  }
 ],
 "metadata": {
  "kernelspec": {
   "display_name": "Python 3",
   "language": "python",
   "name": "python3"
  },
  "language_info": {
   "codemirror_mode": {
    "name": "ipython",
    "version": 3
   },
   "file_extension": ".py",
   "mimetype": "text/x-python",
   "name": "python",
   "nbconvert_exporter": "python",
   "pygments_lexer": "ipython3",
   "version": "3.8.6"
  }
 },
 "nbformat": 4,
 "nbformat_minor": 5
}
