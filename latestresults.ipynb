{
 "cells": [
  {
   "cell_type": "code",
   "execution_count": 215,
   "source": [
    "import re\n",
    "import requests\n",
    "import pandas as pd\n",
    "import matplotlib.pyplot as plt\n",
    "from matplotlib.ticker import MultipleLocator\n",
    "from matplotlib.colors import Normalize, PowerNorm\n",
    "import seaborn as sns\n",
    "%matplotlib inline"
   ],
   "outputs": [],
   "metadata": {}
  },
  {
   "cell_type": "markdown",
   "source": [
    "# Результаты паракрана"
   ],
   "metadata": {}
  },
  {
   "cell_type": "markdown",
   "source": [
    "Здесь можно подставить идентификатор любого другого паркрана."
   ],
   "metadata": {}
  },
  {
   "cell_type": "code",
   "execution_count": 216,
   "source": [
    "parkrun = 'yoshkarolaalleyazdorovya'"
   ],
   "outputs": [],
   "metadata": {}
  },
  {
   "cell_type": "markdown",
   "source": [
    "Список идентификаторов всех российских паркранов находится в файле `russian_parkruns.csv`."
   ],
   "metadata": {}
  },
  {
   "cell_type": "markdown",
   "source": [
    "Какие результаты получить - последние или же по конкретному номеру (закомментировать одну из строк с `suff`):"
   ],
   "metadata": {}
  },
  {
   "cell_type": "code",
   "execution_count": 217,
   "source": [
    "suff = '/latestresults/'  # результаты последнего паркрана, внесённого в систему"
   ],
   "outputs": [],
   "metadata": {}
  },
  {
   "cell_type": "code",
   "execution_count": 218,
   "source": [
    "N = 100  # либо указываем номер и раскомментируем следующую строчку"
   ],
   "outputs": [],
   "metadata": {}
  },
  {
   "cell_type": "code",
   "execution_count": 219,
   "source": [
    "# suff = f'/weeklyresults/?runSeqNumber={N}'"
   ],
   "outputs": [],
   "metadata": {}
  },
  {
   "cell_type": "code",
   "execution_count": 220,
   "source": [
    "url = f'https://www.parkrun.ru/{parkrun}/results' + suff\n",
    "page_all_results = requests.get(url, headers={'User-Agent': 'Mozilla/5.0 (X11; Ubuntu; Linux x86_64; rv:86.0) Gecko/20100101 Firefox/86.0'})"
   ],
   "outputs": [],
   "metadata": {}
  },
  {
   "cell_type": "code",
   "execution_count": 221,
   "source": [
    "data = pd.read_html(page_all_results.text)[0]\n",
    "unknown_runners = len(data[data['Участник'] == 'Неизвестный'])\n",
    "number_runners = len(data)\n",
    "data.dropna(thresh=4, inplace=True, axis=0)\n",
    "data.reset_index(drop=True, inplace=True)"
   ],
   "outputs": [],
   "metadata": {}
  },
  {
   "cell_type": "code",
   "execution_count": 223,
   "source": [
    "# Общее количество участников забега\n",
    "number_runners"
   ],
   "outputs": [
    {
     "output_type": "execute_result",
     "data": {
      "text/plain": [
       "25"
      ]
     },
     "metadata": {},
     "execution_count": 223
    }
   ],
   "metadata": {}
  },
  {
   "cell_type": "code",
   "execution_count": 224,
   "source": [
    "# Количество \"неизвестных\" участников в данном забеге\n",
    "unknown_runners"
   ],
   "outputs": [
    {
     "output_type": "execute_result",
     "data": {
      "text/plain": [
       "2"
      ]
     },
     "metadata": {},
     "execution_count": 224
    }
   ],
   "metadata": {}
  },
  {
   "cell_type": "code",
   "execution_count": 225,
   "source": [
    "data['Позиция м/ж'] = data[data.columns[2]].dropna().transform(lambda s: int(re.search(r'(?:Мужской|Женский)[ ]+(\\d+)', s)[1]))\n",
    "data[data.columns[2]] = data[data.columns[2]].dropna().transform(lambda s: re.search(r'Мужской|Женский', s)[0])\n",
    "\n",
    "data[data.columns[1]] = data[data.columns[1]].transform(lambda s: re.search(r'([^\\d]+)\\d.*|Неизвестный', s)[1])\n",
    "\n",
    "data[data.columns[3]] = data[data.columns[3]].dropna().transform(lambda s: re.search(r'\\w\\w\\d\\d-\\d\\d|\\w\\w10|\\w\\w---', s)[0])\n",
    "\n",
    "data['Личник'] = data[data.columns[5]].dropna().transform(lambda s: re.search(r'(?<=\\d\\d:\\d\\d)(.*)', s)[1])\n",
    "data[data.columns[5]] = data[data.columns[5]].dropna().transform(lambda s: re.search(r'^(\\d:)?\\d\\d:\\d\\d', s)[0])\n",
    "\n",
    "#data['Клуб'].fillna('',inplace=True)"
   ],
   "outputs": [],
   "metadata": {}
  },
  {
   "cell_type": "code",
   "execution_count": 226,
   "source": [
    "data"
   ],
   "outputs": [
    {
     "output_type": "execute_result",
     "data": {
      "text/plain": [
       "    Позиция              Участник      Пол Возр. группа       Клуб  Время  \\\n",
       "0         1       Алексей МАТВЕЕВ  Мужской      ВМ40-44        NaN  17:18   \n",
       "1         2        Леонид СУВОРОВ  Мужской      ВМ35-39     Айвика  17:24   \n",
       "2         4     Александр РЫБАКОВ  Мужской      ВМ35-39     Айвика  20:33   \n",
       "3         5    Евгений ВЕТЛУЖСКИХ  Мужской      ВМ40-44        NaN  20:37   \n",
       "4         6           Peter ZDRAV  Мужской      СМ30-34        NaN  21:04   \n",
       "5         7        Богдан ИСАЕНКО  Мужской      СМ18-19        NaN  21:08   \n",
       "6         9    Сергей ПРОСВЕРИКОВ  Мужской      ВМ35-39        NaN  24:35   \n",
       "7        10    Константин СМИРНОВ  Мужской      ВМ40-44        NaN  25:10   \n",
       "8        11   Константин САМСОНОВ  Мужской      СМ30-34        NaN  25:53   \n",
       "9        12      Владимир ШИГАЛЕВ  Мужской      ВМ65-69        NaN  26:52   \n",
       "10       14    Людмила БАСТРАКОВА  Женский      ВЖ45-49        NaN  28:06   \n",
       "11       15        Руслан БАБУРОВ  Мужской      ВМ45-49  БК Митино  29:25   \n",
       "12       16     Марина ВЕТЛУЖСКИХ  Женский      СЖ30-34        NaN  29:41   \n",
       "13       17           Иван ЗЕМЦОВ  Мужской      ВМ50-54     Айвика  29:46   \n",
       "14       18  Александра САВЕЛЬЕВА  Женский      СЖ30-34        NaN  30:01   \n",
       "15       19         Тимур НЕФЁДОВ  Мужской      ЮМ11-14  БК Митино  31:30   \n",
       "16       20    Варвара ВЕТЛУЖСКИХ  Женский      ЮЖ11-14        NaN  33:01   \n",
       "17       21     Радик ШАМСУТДИНОВ  Мужской      ВМ40-44        NaN  33:10   \n",
       "18       22      Надежда БАБУРОВА  Женский      ВЖ35-39        NaN  33:46   \n",
       "19       23          Вера ЗАМКОВА  Женский      ВЖ60-64        NaN  36:43   \n",
       "20       24    Екатерина МОРОЗОВА  Женский      ЮЖ11-14        NaN  39:28   \n",
       "21       25      Валерий ПЛАТОНОВ  Мужской      ВМ60-64        NaN  39:34   \n",
       "\n",
       "    Позиция м/ж           Личник  \n",
       "0             1         ЛР 17:16  \n",
       "1             2         ЛР 17:24  \n",
       "2             3         ЛР 19:54  \n",
       "3             4         ЛР 18:20  \n",
       "4             5         ЛР 20:11  \n",
       "5             6         ЛР 21:06  \n",
       "6             7         ЛР 23:17  \n",
       "7             8         ЛР 24:38  \n",
       "8             9         ЛР 24:04  \n",
       "9            10         ЛР 25:59  \n",
       "10            1         ЛР 27:24  \n",
       "11           11  Первый паркран!  \n",
       "12            2         ЛР 27:50  \n",
       "13           12         ЛР 24:35  \n",
       "14            3  Первый паркран!  \n",
       "15           13  Первый паркран!  \n",
       "16            4         ЛР 32:14  \n",
       "17           14         ЛР 32:44  \n",
       "18            5  Первый паркран!  \n",
       "19            6         ЛР 32:22  \n",
       "20            7         ЛР 37:59  \n",
       "21           15         ЛР 24:07  "
      ],
      "text/html": [
       "<div>\n",
       "<style scoped>\n",
       "    .dataframe tbody tr th:only-of-type {\n",
       "        vertical-align: middle;\n",
       "    }\n",
       "\n",
       "    .dataframe tbody tr th {\n",
       "        vertical-align: top;\n",
       "    }\n",
       "\n",
       "    .dataframe thead th {\n",
       "        text-align: right;\n",
       "    }\n",
       "</style>\n",
       "<table border=\"1\" class=\"dataframe\">\n",
       "  <thead>\n",
       "    <tr style=\"text-align: right;\">\n",
       "      <th></th>\n",
       "      <th>Позиция</th>\n",
       "      <th>Участник</th>\n",
       "      <th>Пол</th>\n",
       "      <th>Возр. группа</th>\n",
       "      <th>Клуб</th>\n",
       "      <th>Время</th>\n",
       "      <th>Позиция м/ж</th>\n",
       "      <th>Личник</th>\n",
       "    </tr>\n",
       "  </thead>\n",
       "  <tbody>\n",
       "    <tr>\n",
       "      <th>0</th>\n",
       "      <td>1</td>\n",
       "      <td>Алексей МАТВЕЕВ</td>\n",
       "      <td>Мужской</td>\n",
       "      <td>ВМ40-44</td>\n",
       "      <td>NaN</td>\n",
       "      <td>17:18</td>\n",
       "      <td>1</td>\n",
       "      <td>ЛР 17:16</td>\n",
       "    </tr>\n",
       "    <tr>\n",
       "      <th>1</th>\n",
       "      <td>2</td>\n",
       "      <td>Леонид СУВОРОВ</td>\n",
       "      <td>Мужской</td>\n",
       "      <td>ВМ35-39</td>\n",
       "      <td>Айвика</td>\n",
       "      <td>17:24</td>\n",
       "      <td>2</td>\n",
       "      <td>ЛР 17:24</td>\n",
       "    </tr>\n",
       "    <tr>\n",
       "      <th>2</th>\n",
       "      <td>4</td>\n",
       "      <td>Александр РЫБАКОВ</td>\n",
       "      <td>Мужской</td>\n",
       "      <td>ВМ35-39</td>\n",
       "      <td>Айвика</td>\n",
       "      <td>20:33</td>\n",
       "      <td>3</td>\n",
       "      <td>ЛР 19:54</td>\n",
       "    </tr>\n",
       "    <tr>\n",
       "      <th>3</th>\n",
       "      <td>5</td>\n",
       "      <td>Евгений ВЕТЛУЖСКИХ</td>\n",
       "      <td>Мужской</td>\n",
       "      <td>ВМ40-44</td>\n",
       "      <td>NaN</td>\n",
       "      <td>20:37</td>\n",
       "      <td>4</td>\n",
       "      <td>ЛР 18:20</td>\n",
       "    </tr>\n",
       "    <tr>\n",
       "      <th>4</th>\n",
       "      <td>6</td>\n",
       "      <td>Peter ZDRAV</td>\n",
       "      <td>Мужской</td>\n",
       "      <td>СМ30-34</td>\n",
       "      <td>NaN</td>\n",
       "      <td>21:04</td>\n",
       "      <td>5</td>\n",
       "      <td>ЛР 20:11</td>\n",
       "    </tr>\n",
       "    <tr>\n",
       "      <th>5</th>\n",
       "      <td>7</td>\n",
       "      <td>Богдан ИСАЕНКО</td>\n",
       "      <td>Мужской</td>\n",
       "      <td>СМ18-19</td>\n",
       "      <td>NaN</td>\n",
       "      <td>21:08</td>\n",
       "      <td>6</td>\n",
       "      <td>ЛР 21:06</td>\n",
       "    </tr>\n",
       "    <tr>\n",
       "      <th>6</th>\n",
       "      <td>9</td>\n",
       "      <td>Сергей ПРОСВЕРИКОВ</td>\n",
       "      <td>Мужской</td>\n",
       "      <td>ВМ35-39</td>\n",
       "      <td>NaN</td>\n",
       "      <td>24:35</td>\n",
       "      <td>7</td>\n",
       "      <td>ЛР 23:17</td>\n",
       "    </tr>\n",
       "    <tr>\n",
       "      <th>7</th>\n",
       "      <td>10</td>\n",
       "      <td>Константин СМИРНОВ</td>\n",
       "      <td>Мужской</td>\n",
       "      <td>ВМ40-44</td>\n",
       "      <td>NaN</td>\n",
       "      <td>25:10</td>\n",
       "      <td>8</td>\n",
       "      <td>ЛР 24:38</td>\n",
       "    </tr>\n",
       "    <tr>\n",
       "      <th>8</th>\n",
       "      <td>11</td>\n",
       "      <td>Константин САМСОНОВ</td>\n",
       "      <td>Мужской</td>\n",
       "      <td>СМ30-34</td>\n",
       "      <td>NaN</td>\n",
       "      <td>25:53</td>\n",
       "      <td>9</td>\n",
       "      <td>ЛР 24:04</td>\n",
       "    </tr>\n",
       "    <tr>\n",
       "      <th>9</th>\n",
       "      <td>12</td>\n",
       "      <td>Владимир ШИГАЛЕВ</td>\n",
       "      <td>Мужской</td>\n",
       "      <td>ВМ65-69</td>\n",
       "      <td>NaN</td>\n",
       "      <td>26:52</td>\n",
       "      <td>10</td>\n",
       "      <td>ЛР 25:59</td>\n",
       "    </tr>\n",
       "    <tr>\n",
       "      <th>10</th>\n",
       "      <td>14</td>\n",
       "      <td>Людмила БАСТРАКОВА</td>\n",
       "      <td>Женский</td>\n",
       "      <td>ВЖ45-49</td>\n",
       "      <td>NaN</td>\n",
       "      <td>28:06</td>\n",
       "      <td>1</td>\n",
       "      <td>ЛР 27:24</td>\n",
       "    </tr>\n",
       "    <tr>\n",
       "      <th>11</th>\n",
       "      <td>15</td>\n",
       "      <td>Руслан БАБУРОВ</td>\n",
       "      <td>Мужской</td>\n",
       "      <td>ВМ45-49</td>\n",
       "      <td>БК Митино</td>\n",
       "      <td>29:25</td>\n",
       "      <td>11</td>\n",
       "      <td>Первый паркран!</td>\n",
       "    </tr>\n",
       "    <tr>\n",
       "      <th>12</th>\n",
       "      <td>16</td>\n",
       "      <td>Марина ВЕТЛУЖСКИХ</td>\n",
       "      <td>Женский</td>\n",
       "      <td>СЖ30-34</td>\n",
       "      <td>NaN</td>\n",
       "      <td>29:41</td>\n",
       "      <td>2</td>\n",
       "      <td>ЛР 27:50</td>\n",
       "    </tr>\n",
       "    <tr>\n",
       "      <th>13</th>\n",
       "      <td>17</td>\n",
       "      <td>Иван ЗЕМЦОВ</td>\n",
       "      <td>Мужской</td>\n",
       "      <td>ВМ50-54</td>\n",
       "      <td>Айвика</td>\n",
       "      <td>29:46</td>\n",
       "      <td>12</td>\n",
       "      <td>ЛР 24:35</td>\n",
       "    </tr>\n",
       "    <tr>\n",
       "      <th>14</th>\n",
       "      <td>18</td>\n",
       "      <td>Александра САВЕЛЬЕВА</td>\n",
       "      <td>Женский</td>\n",
       "      <td>СЖ30-34</td>\n",
       "      <td>NaN</td>\n",
       "      <td>30:01</td>\n",
       "      <td>3</td>\n",
       "      <td>Первый паркран!</td>\n",
       "    </tr>\n",
       "    <tr>\n",
       "      <th>15</th>\n",
       "      <td>19</td>\n",
       "      <td>Тимур НЕФЁДОВ</td>\n",
       "      <td>Мужской</td>\n",
       "      <td>ЮМ11-14</td>\n",
       "      <td>БК Митино</td>\n",
       "      <td>31:30</td>\n",
       "      <td>13</td>\n",
       "      <td>Первый паркран!</td>\n",
       "    </tr>\n",
       "    <tr>\n",
       "      <th>16</th>\n",
       "      <td>20</td>\n",
       "      <td>Варвара ВЕТЛУЖСКИХ</td>\n",
       "      <td>Женский</td>\n",
       "      <td>ЮЖ11-14</td>\n",
       "      <td>NaN</td>\n",
       "      <td>33:01</td>\n",
       "      <td>4</td>\n",
       "      <td>ЛР 32:14</td>\n",
       "    </tr>\n",
       "    <tr>\n",
       "      <th>17</th>\n",
       "      <td>21</td>\n",
       "      <td>Радик ШАМСУТДИНОВ</td>\n",
       "      <td>Мужской</td>\n",
       "      <td>ВМ40-44</td>\n",
       "      <td>NaN</td>\n",
       "      <td>33:10</td>\n",
       "      <td>14</td>\n",
       "      <td>ЛР 32:44</td>\n",
       "    </tr>\n",
       "    <tr>\n",
       "      <th>18</th>\n",
       "      <td>22</td>\n",
       "      <td>Надежда БАБУРОВА</td>\n",
       "      <td>Женский</td>\n",
       "      <td>ВЖ35-39</td>\n",
       "      <td>NaN</td>\n",
       "      <td>33:46</td>\n",
       "      <td>5</td>\n",
       "      <td>Первый паркран!</td>\n",
       "    </tr>\n",
       "    <tr>\n",
       "      <th>19</th>\n",
       "      <td>23</td>\n",
       "      <td>Вера ЗАМКОВА</td>\n",
       "      <td>Женский</td>\n",
       "      <td>ВЖ60-64</td>\n",
       "      <td>NaN</td>\n",
       "      <td>36:43</td>\n",
       "      <td>6</td>\n",
       "      <td>ЛР 32:22</td>\n",
       "    </tr>\n",
       "    <tr>\n",
       "      <th>20</th>\n",
       "      <td>24</td>\n",
       "      <td>Екатерина МОРОЗОВА</td>\n",
       "      <td>Женский</td>\n",
       "      <td>ЮЖ11-14</td>\n",
       "      <td>NaN</td>\n",
       "      <td>39:28</td>\n",
       "      <td>7</td>\n",
       "      <td>ЛР 37:59</td>\n",
       "    </tr>\n",
       "    <tr>\n",
       "      <th>21</th>\n",
       "      <td>25</td>\n",
       "      <td>Валерий ПЛАТОНОВ</td>\n",
       "      <td>Мужской</td>\n",
       "      <td>ВМ60-64</td>\n",
       "      <td>NaN</td>\n",
       "      <td>39:34</td>\n",
       "      <td>15</td>\n",
       "      <td>ЛР 24:07</td>\n",
       "    </tr>\n",
       "  </tbody>\n",
       "</table>\n",
       "</div>"
      ]
     },
     "metadata": {},
     "execution_count": 226
    }
   ],
   "metadata": {}
  },
  {
   "cell_type": "code",
   "execution_count": 227,
   "source": [
    "data['result_m'] = data['Время'].transform(lambda time: sum(x * int(t) for x, t in zip([1/60, 1, 60], time.split(':')[::-1])))\n",
    "data.info()"
   ],
   "outputs": [
    {
     "output_type": "stream",
     "name": "stdout",
     "text": [
      "<class 'pandas.core.frame.DataFrame'>\n",
      "RangeIndex: 22 entries, 0 to 21\n",
      "Data columns (total 9 columns):\n",
      " #   Column        Non-Null Count  Dtype  \n",
      "---  ------        --------------  -----  \n",
      " 0   Позиция       22 non-null     int64  \n",
      " 1   Участник      22 non-null     object \n",
      " 2   Пол           22 non-null     object \n",
      " 3   Возр. группа  22 non-null     object \n",
      " 4   Клуб          5 non-null      object \n",
      " 5   Время         22 non-null     object \n",
      " 6   Позиция м/ж   22 non-null     int64  \n",
      " 7   Личник        22 non-null     object \n",
      " 8   result_m      22 non-null     float64\n",
      "dtypes: float64(1), int64(2), object(6)\n",
      "memory usage: 1.7+ KB\n"
     ]
    }
   ],
   "metadata": {}
  },
  {
   "cell_type": "code",
   "execution_count": 228,
   "source": [
    "data.isnull().sum()"
   ],
   "outputs": [
    {
     "output_type": "execute_result",
     "data": {
      "text/plain": [
       "Позиция          0\n",
       "Участник         0\n",
       "Пол              0\n",
       "Возр. группа     0\n",
       "Клуб            17\n",
       "Время            0\n",
       "Позиция м/ж      0\n",
       "Личник           0\n",
       "result_m         0\n",
       "dtype: int64"
      ]
     },
     "metadata": {},
     "execution_count": 228
    }
   ],
   "metadata": {}
  },
  {
   "cell_type": "code",
   "execution_count": 229,
   "source": [
    "data['result_m'].describe()"
   ],
   "outputs": [
    {
     "output_type": "execute_result",
     "data": {
      "text/plain": [
       "count    22.000000\n",
       "mean     27.943182\n",
       "std       6.576076\n",
       "min      17.300000\n",
       "25%      21.995833\n",
       "50%      28.758333\n",
       "75%      32.637500\n",
       "max      39.566667\n",
       "Name: result_m, dtype: float64"
      ]
     },
     "metadata": {},
     "execution_count": 229
    }
   ],
   "metadata": {}
  },
  {
   "cell_type": "markdown",
   "source": [
    "### Топ3 мужчины и женщины"
   ],
   "metadata": {}
  },
  {
   "cell_type": "code",
   "execution_count": 230,
   "source": [
    "data[data['Позиция м/ж'] < 4].drop(data.iloc[:,[0,2,3,4,7,8]], axis=1)"
   ],
   "outputs": [
    {
     "output_type": "execute_result",
     "data": {
      "text/plain": [
       "                Участник  Время  Позиция м/ж\n",
       "0        Алексей МАТВЕЕВ  17:18            1\n",
       "1         Леонид СУВОРОВ  17:24            2\n",
       "2      Александр РЫБАКОВ  20:33            3\n",
       "10    Людмила БАСТРАКОВА  28:06            1\n",
       "12     Марина ВЕТЛУЖСКИХ  29:41            2\n",
       "14  Александра САВЕЛЬЕВА  30:01            3"
      ],
      "text/html": [
       "<div>\n",
       "<style scoped>\n",
       "    .dataframe tbody tr th:only-of-type {\n",
       "        vertical-align: middle;\n",
       "    }\n",
       "\n",
       "    .dataframe tbody tr th {\n",
       "        vertical-align: top;\n",
       "    }\n",
       "\n",
       "    .dataframe thead th {\n",
       "        text-align: right;\n",
       "    }\n",
       "</style>\n",
       "<table border=\"1\" class=\"dataframe\">\n",
       "  <thead>\n",
       "    <tr style=\"text-align: right;\">\n",
       "      <th></th>\n",
       "      <th>Участник</th>\n",
       "      <th>Время</th>\n",
       "      <th>Позиция м/ж</th>\n",
       "    </tr>\n",
       "  </thead>\n",
       "  <tbody>\n",
       "    <tr>\n",
       "      <th>0</th>\n",
       "      <td>Алексей МАТВЕЕВ</td>\n",
       "      <td>17:18</td>\n",
       "      <td>1</td>\n",
       "    </tr>\n",
       "    <tr>\n",
       "      <th>1</th>\n",
       "      <td>Леонид СУВОРОВ</td>\n",
       "      <td>17:24</td>\n",
       "      <td>2</td>\n",
       "    </tr>\n",
       "    <tr>\n",
       "      <th>2</th>\n",
       "      <td>Александр РЫБАКОВ</td>\n",
       "      <td>20:33</td>\n",
       "      <td>3</td>\n",
       "    </tr>\n",
       "    <tr>\n",
       "      <th>10</th>\n",
       "      <td>Людмила БАСТРАКОВА</td>\n",
       "      <td>28:06</td>\n",
       "      <td>1</td>\n",
       "    </tr>\n",
       "    <tr>\n",
       "      <th>12</th>\n",
       "      <td>Марина ВЕТЛУЖСКИХ</td>\n",
       "      <td>29:41</td>\n",
       "      <td>2</td>\n",
       "    </tr>\n",
       "    <tr>\n",
       "      <th>14</th>\n",
       "      <td>Александра САВЕЛЬЕВА</td>\n",
       "      <td>30:01</td>\n",
       "      <td>3</td>\n",
       "    </tr>\n",
       "  </tbody>\n",
       "</table>\n",
       "</div>"
      ]
     },
     "metadata": {},
     "execution_count": 230
    }
   ],
   "metadata": {}
  },
  {
   "cell_type": "markdown",
   "source": [
    "Медианное время"
   ],
   "metadata": {}
  },
  {
   "cell_type": "code",
   "execution_count": 231,
   "source": [
    "data['result_m'].median()"
   ],
   "outputs": [
    {
     "output_type": "execute_result",
     "data": {
      "text/plain": [
       "28.758333333333333"
      ]
     },
     "metadata": {},
     "execution_count": 231
    }
   ],
   "metadata": {}
  },
  {
   "cell_type": "markdown",
   "source": [
    "Квантиль"
   ],
   "metadata": {}
  },
  {
   "cell_type": "code",
   "execution_count": 232,
   "source": [
    "q = data['result_m'].quantile(q=0.95)\n",
    "q"
   ],
   "outputs": [
    {
     "output_type": "execute_result",
     "data": {
      "text/plain": [
       "39.329166666666666"
      ]
     },
     "metadata": {},
     "execution_count": 232
    }
   ],
   "metadata": {}
  },
  {
   "cell_type": "markdown",
   "source": [
    "## Распределение участников по полу"
   ],
   "metadata": {}
  },
  {
   "cell_type": "code",
   "execution_count": 233,
   "source": [
    "sns.set_style('whitegrid')\n",
    "ax = sns.countplot(x='Пол', data=data)\n",
    "for p, label in zip(ax.patches, data['Пол'].value_counts().values):\n",
    "    ax.annotate(label, (p.get_x()+0.375, p.get_height()+0.15))"
   ],
   "outputs": [
    {
     "output_type": "display_data",
     "data": {
      "text/plain": [
       "<Figure size 432x288 with 1 Axes>"
      ],
      "image/png": "[encoded data removed]"
     },
     "metadata": {}
    }
   ],
   "metadata": {}
  },
  {
   "cell_type": "markdown",
   "source": [
    "## Количество участников из беговых клубов"
   ],
   "metadata": {}
  },
  {
   "cell_type": "code",
   "execution_count": 234,
   "source": [
    "clubs = data['Клуб'].value_counts()\n",
    "plt.figure(figsize=(16, 7))\n",
    "plt.xticks(rotation=70)\n",
    "sns.set_style('whitegrid')\n",
    "plt.yticks(list(range(0, clubs[0], 2)))\n",
    "ax = sns.countplot(x='Клуб', data=data, palette='husl', order=clubs.index)\n",
    "for p, label in zip(ax.patches, clubs.values):\n",
    "    ax.annotate(label, (p.get_x()+0.375, p.get_height()+0.15))"
   ],
   "outputs": [
    {
     "output_type": "display_data",
     "data": {
      "text/plain": [
       "<Figure size 1152x504 with 1 Axes>"
      ],
      "image/png": "[encoded data removed]"
     },
     "metadata": {}
    }
   ],
   "metadata": {}
  },
  {
   "cell_type": "code",
   "execution_count": 235,
   "source": [
    "clubs = data['Клуб'].value_counts()\n",
    "colors = [('blueviolet' if item == 'Wake&Run' else 'darkkhaki') for item in clubs.index]"
   ],
   "outputs": [],
   "metadata": {}
  },
  {
   "cell_type": "code",
   "execution_count": 236,
   "source": [
    "fig = plt.figure(figsize=(16, 7))\n",
    "ax = fig.add_subplot()\n",
    "ax.grid(False, axis='x')\n",
    "ax.yaxis.set_major_locator(MultipleLocator(2))\n",
    "\n",
    "plt.xticks(rotation=70)\n",
    "plt.bar(clubs.index,clubs.values, color=colors)\n",
    "plt.tight_layout()"
   ],
   "outputs": [
    {
     "output_type": "display_data",
     "data": {
      "text/plain": [
       "<Figure size 1152x504 with 1 Axes>"
      ],
      "image/png": "[encoded data removed]"
     },
     "metadata": {}
    }
   ],
   "metadata": {}
  },
  {
   "cell_type": "code",
   "execution_count": 237,
   "source": [
    "norm = PowerNorm(gamma=0.1)\n",
    "colors = plt.cm.tab20b(norm(clubs.values))\n",
    "fig = plt.figure(figsize=(7, 7))\n",
    "plt.pie(clubs.values, labels=clubs.index, colors=colors, startangle=80)\n",
    "plt.title('Клубы на паркране Кузьминки', size=15, fontweight='bold')\n",
    "plt.tight_layout()"
   ],
   "outputs": [
    {
     "output_type": "display_data",
     "data": {
      "text/plain": [
       "<Figure size 504x504 with 1 Axes>"
      ],
      "image/png": "[encoded data removed]"
     },
     "metadata": {}
    }
   ],
   "metadata": {}
  },
  {
   "cell_type": "markdown",
   "source": [
    "## Распределение по возрастным группам"
   ],
   "metadata": {}
  },
  {
   "cell_type": "code",
   "execution_count": 238,
   "source": [
    "age_groups = data['Возр. группа'].value_counts()\n",
    "plt.figure(figsize=(16, 7))\n",
    "plt.xticks(rotation=70)\n",
    "sns.set_style('whitegrid')\n",
    "ax = sns.countplot(data=data, x='Возр. группа', hue='Пол', palette='tab10', order=age_groups.index)\n",
    "print(ax.patches[0])\n",
    "for p, label in zip(ax.patches, age_groups.values):\n",
    "    ax.annotate(label, (p.get_x()+0.1, p.get_height()+0.2))"
   ],
   "outputs": [
    {
     "output_type": "stream",
     "name": "stdout",
     "text": [
      "Rectangle(xy=(-0.4, 0), width=0.4, height=4, angle=0)\n"
     ]
    },
    {
     "output_type": "display_data",
     "data": {
      "text/plain": [
       "<Figure size 1152x504 with 1 Axes>"
      ],
      "image/png": "[encoded data removed]"
     },
     "metadata": {}
    }
   ],
   "metadata": {}
  },
  {
   "cell_type": "markdown",
   "source": [
    "### Распределение результатов участников"
   ],
   "metadata": {}
  },
  {
   "cell_type": "code",
   "execution_count": 242,
   "source": [
    "plt.figure(figsize=(16, 7))\n",
    "ax = data['result_m'].hist(bins=30)\n",
    "ptchs = ax.patches\n",
    "med = data['result_m'].median()\n",
    "norm = Normalize(0, med)\n",
    "\n",
    "for ptch in ptchs:\n",
    "    ptch_x = ptch.get_x()\n",
    "    color = plt.cm.viridis(norm(med - abs(med - ptch_x)))\n",
    "    ptch.set_facecolor(color)\n",
    "    if ptch_x <= med:\n",
    "        m_height = ptch.get_height() + 0.4\n",
    "    \n",
    "\n",
    "ax.set_xlabel(\"Результаты участников (минуты)\", size=14)\n",
    "ax.set_ylabel(\"Результатов в диапазоне\")\n",
    "\n",
    "ax.annotate(f'Медианное время\\n{int(med)}:{(med-int(med))*60:02.0f}', (med-2, m_height))\n",
    "plt.plot([med,med],[0,m_height], 'r')\n",
    "\n",
    "ldr_time = ptchs[0].get_x()\n",
    "ldr_y_mark = ptchs[0].get_height() + 0.4\n",
    "ax.annotate(f'Лидер {int(ldr_time)}:{(ldr_time-int(ldr_time))*60:02.0f}', (ldr_time, ldr_y_mark+0.5), rotation=45)\n",
    "plt.plot([ldr_time,ldr_time],[0,ldr_y_mark], 'r')\n",
    "\n",
    "lst_time = ptchs[-1].get_x() + ptchs[-1].get_width()\n",
    "lst_y_mark = ptchs[-1].get_height() + 0.4\n",
    "ax.annotate(f'Всего участников {number_runners}', (lst_time, lst_y_mark+0.5), rotation=90)\n",
    "plt.plot([lst_time,lst_time],[0,lst_y_mark], 'r')\n",
    "\n",
    "plt.tight_layout()\n",
    "# plt.savefig('results.png')"
   ],
   "outputs": [
    {
     "output_type": "display_data",
     "data": {
      "text/plain": [
       "<Figure size 1152x504 with 1 Axes>"
      ],
      "image/png": "[encoded data removed]"
     },
     "metadata": {}
    }
   ],
   "metadata": {}
  },
  {
   "cell_type": "markdown",
   "source": [
    "Время лидера по женщинам"
   ],
   "metadata": {}
  },
  {
   "cell_type": "code",
   "execution_count": 240,
   "source": [
    "w_res = data[data['Пол'].str.contains('Женский')].reset_index(drop=True)\n",
    "w_res['result_m'][0]"
   ],
   "outputs": [
    {
     "output_type": "execute_result",
     "data": {
      "text/plain": [
       "28.1"
      ]
     },
     "metadata": {},
     "execution_count": 240
    }
   ],
   "metadata": {}
  },
  {
   "cell_type": "code",
   "execution_count": 241,
   "source": [
    "\n",
    "personal_res = data[data['Участник'].str.contains('Усаче'.upper())].reset_index(drop=True)\n",
    "personal_res\n",
    "# if not personal_res.empty:\n",
    "#     personal_res = personal_res['result_m'][0]"
   ],
   "outputs": [
    {
     "output_type": "execute_result",
     "data": {
      "text/plain": [
       "Empty DataFrame\n",
       "Columns: [Позиция, Участник, Пол, Возр. группа, Клуб, Время, Позиция м/ж, Личник, result_m]\n",
       "Index: []"
      ],
      "text/html": [
       "<div>\n",
       "<style scoped>\n",
       "    .dataframe tbody tr th:only-of-type {\n",
       "        vertical-align: middle;\n",
       "    }\n",
       "\n",
       "    .dataframe tbody tr th {\n",
       "        vertical-align: top;\n",
       "    }\n",
       "\n",
       "    .dataframe thead th {\n",
       "        text-align: right;\n",
       "    }\n",
       "</style>\n",
       "<table border=\"1\" class=\"dataframe\">\n",
       "  <thead>\n",
       "    <tr style=\"text-align: right;\">\n",
       "      <th></th>\n",
       "      <th>Позиция</th>\n",
       "      <th>Участник</th>\n",
       "      <th>Пол</th>\n",
       "      <th>Возр. группа</th>\n",
       "      <th>Клуб</th>\n",
       "      <th>Время</th>\n",
       "      <th>Позиция м/ж</th>\n",
       "      <th>Личник</th>\n",
       "      <th>result_m</th>\n",
       "    </tr>\n",
       "  </thead>\n",
       "  <tbody>\n",
       "  </tbody>\n",
       "</table>\n",
       "</div>"
      ]
     },
     "metadata": {},
     "execution_count": 241
    }
   ],
   "metadata": {}
  },
  {
   "cell_type": "code",
   "execution_count": null,
   "source": [],
   "outputs": [],
   "metadata": {}
  }
 ],
 "metadata": {
  "kernelspec": {
   "name": "python386jvsc74a57bd05b3b84d9a651f6d852e680791b43bab4042960dedba8573afb8521cb6f212bd2",
   "language": "python",
   "display_name": "Python 3.8.6 64-bit ('jupyter': venv)"
  },
  "language_info": {
   "codemirror_mode": {
    "name": "ipython",
    "version": 3
   },
   "file_extension": ".py",
   "mimetype": "text/x-python",
   "name": "python",
   "nbconvert_exporter": "python",
   "pygments_lexer": "ipython3",
   "version": "3.8.10"
  },
  "metadata": {
   "interpreter": {
    "hash": "5b3b84d9a651f6d852e680791b43bab4042960dedba8573afb8521cb6f212bd2"
   }
  }
 },
 "nbformat": 4,
 "nbformat_minor": 5
}