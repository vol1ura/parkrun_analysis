{
 "cells": [
  {
   "cell_type": "code",
   "execution_count": 16,
   "id": "indonesian-dover",
   "metadata": {},
   "outputs": [],
   "source": [
    "import re\n",
    "import requests\n",
    "import pandas as pd"
   ]
  },
  {
   "cell_type": "code",
   "execution_count": 6,
   "id": "eight-pleasure",
   "metadata": {},
   "outputs": [],
   "source": [
    "page_all_results = requests.get('https://www.parkrun.ru/kuzminki/results/eventhistory/', \n",
    "                                headers={'User-Agent': 'Mozilla/5.0 (X11; Ubuntu; Linux x86_64; rv:86.0) Gecko/20100101 Firefox/86.0'})"
   ]
  },
  {
   "cell_type": "code",
   "execution_count": 40,
   "id": "numeric-joining",
   "metadata": {},
   "outputs": [],
   "source": [
    "data = pd.read_html(page_all_results.text)[0]\n",
    "data = data.drop(columns=data.columns[8:])"
   ]
  },
  {
   "cell_type": "code",
   "execution_count": 41,
   "id": "compound-transmission",
   "metadata": {},
   "outputs": [
    {
     "data": {
      "text/plain": [
       "Index(['№ паркрана#', 'Дата', 'Дата/Первые на финише', 'Финишеры', 'Волонтеры',\n",
       "       'Первый среди мужчин', 'Первый среди мужчин.1', 'Первая среди женщин'],\n",
       "      dtype='object')"
      ]
     },
     "execution_count": 41,
     "metadata": {},
     "output_type": "execute_result"
    }
   ],
   "source": [
    "data.columns"
   ]
  },
  {
   "cell_type": "code",
   "execution_count": 42,
   "id": "incorporate-julian",
   "metadata": {},
   "outputs": [
    {
     "name": "stdout",
     "output_type": "stream",
     "text": [
      "<class 'pandas.core.frame.DataFrame'>\n",
      "RangeIndex: 203 entries, 0 to 202\n",
      "Data columns (total 8 columns):\n",
      " #   Column                 Non-Null Count  Dtype \n",
      "---  ------                 --------------  ----- \n",
      " 0   № паркрана#            203 non-null    int64 \n",
      " 1   Дата                   203 non-null    object\n",
      " 2   Дата/Первые на финише  203 non-null    object\n",
      " 3   Финишеры               203 non-null    object\n",
      " 4   Волонтеры              203 non-null    object\n",
      " 5   Первый среди мужчин    203 non-null    object\n",
      " 6   Первый среди мужчин.1  203 non-null    object\n",
      " 7   Первая среди женщин    203 non-null    object\n",
      "dtypes: int64(1), object(7)\n",
      "memory usage: 12.8+ KB\n"
     ]
    }
   ],
   "source": [
    "data.info()"
   ]
  },
  {
   "cell_type": "code",
   "execution_count": 43,
   "id": "spare-manual",
   "metadata": {},
   "outputs": [],
   "source": [
    "data = data.rename(columns={data.columns[0]: 'number', data.columns[1]: 'date',\n",
    "                           data.columns[2]: 'finishers', data.columns[3]:'volunteers',\n",
    "                           data.columns[4]: 'men_name', data.columns[5]: 'men_time',\n",
    "                           data.columns[6]: 'women_name', data.columns[7]: 'women_time'})"
   ]
  },
  {
   "cell_type": "code",
   "execution_count": 44,
   "id": "proved-alcohol",
   "metadata": {},
   "outputs": [
    {
     "data": {
      "text/html": [
       "<div>\n",
       "<style scoped>\n",
       "    .dataframe tbody tr th:only-of-type {\n",
       "        vertical-align: middle;\n",
       "    }\n",
       "\n",
       "    .dataframe tbody tr th {\n",
       "        vertical-align: top;\n",
       "    }\n",
       "\n",
       "    .dataframe thead th {\n",
       "        text-align: right;\n",
       "    }\n",
       "</style>\n",
       "<table border=\"1\" class=\"dataframe\">\n",
       "  <thead>\n",
       "    <tr style=\"text-align: right;\">\n",
       "      <th></th>\n",
       "      <th>number</th>\n",
       "      <th>date</th>\n",
       "      <th>finishers</th>\n",
       "      <th>volunteers</th>\n",
       "      <th>men_name</th>\n",
       "      <th>men_time</th>\n",
       "      <th>women_name</th>\n",
       "      <th>women_time</th>\n",
       "    </tr>\n",
       "  </thead>\n",
       "  <tbody>\n",
       "    <tr>\n",
       "      <th>0</th>\n",
       "      <td>203</td>\n",
       "      <td>14/03/2020Виктор НИКОЛАЕВ(М) 00:15:46Наталья СЕЛЕЗНЕВА(Ж) 00:20:13</td>\n",
       "      <td>154finishers</td>\n",
       "      <td>27volunteers</td>\n",
       "      <td>Виктор НИКОЛАЕВ00:15:46</td>\n",
       "      <td>00:15:46</td>\n",
       "      <td>Наталья СЕЛЕЗНЕВА00:20:13</td>\n",
       "      <td>00:20:13</td>\n",
       "    </tr>\n",
       "    <tr>\n",
       "      <th>1</th>\n",
       "      <td>202</td>\n",
       "      <td>07/03/2020Дмитрий ТИХОНОВ(М) 00:17:53Наталья СЕЛЕЗНЕВА(Ж) 00:20:15</td>\n",
       "      <td>176finishers</td>\n",
       "      <td>37volunteers</td>\n",
       "      <td>Дмитрий ТИХОНОВ00:17:53</td>\n",
       "      <td>00:17:53</td>\n",
       "      <td>Наталья СЕЛЕЗНЕВА00:20:15</td>\n",
       "      <td>00:20:15</td>\n",
       "    </tr>\n",
       "    <tr>\n",
       "      <th>2</th>\n",
       "      <td>201</td>\n",
       "      <td>29/02/2020Герман ЖАРОВ(М) 00:18:22Наталья СЕЛЕЗНЕВА(Ж) 00:20:35</td>\n",
       "      <td>185finishers</td>\n",
       "      <td>35volunteers</td>\n",
       "      <td>Герман ЖАРОВ00:18:22</td>\n",
       "      <td>00:18:22</td>\n",
       "      <td>Наталья СЕЛЕЗНЕВА00:20:35</td>\n",
       "      <td>00:20:35</td>\n",
       "    </tr>\n",
       "    <tr>\n",
       "      <th>3</th>\n",
       "      <td>200</td>\n",
       "      <td>22/02/2020Дмитрий ТИХОНОВ(М) 00:17:37Екатерина Лицоева(Ж) 00:22:27</td>\n",
       "      <td>246finishers</td>\n",
       "      <td>32volunteers</td>\n",
       "      <td>Дмитрий ТИХОНОВ00:17:37</td>\n",
       "      <td>00:17:37</td>\n",
       "      <td>Екатерина Лицоева00:22:27</td>\n",
       "      <td>00:22:27</td>\n",
       "    </tr>\n",
       "    <tr>\n",
       "      <th>4</th>\n",
       "      <td>199</td>\n",
       "      <td>15/02/2020Юрий ВОЛОДИН(М) 00:17:38Светлана БЕЛАВИНА(Ж) 00:22:42</td>\n",
       "      <td>128finishers</td>\n",
       "      <td>24volunteers</td>\n",
       "      <td>Юрий ВОЛОДИН00:17:38</td>\n",
       "      <td>00:17:38</td>\n",
       "      <td>Светлана БЕЛАВИНА00:22:42</td>\n",
       "      <td>00:22:42</td>\n",
       "    </tr>\n",
       "    <tr>\n",
       "      <th>...</th>\n",
       "      <td>...</td>\n",
       "      <td>...</td>\n",
       "      <td>...</td>\n",
       "      <td>...</td>\n",
       "      <td>...</td>\n",
       "      <td>...</td>\n",
       "      <td>...</td>\n",
       "      <td>...</td>\n",
       "    </tr>\n",
       "    <tr>\n",
       "      <th>198</th>\n",
       "      <td>5</td>\n",
       "      <td>16/07/2016Дмитрий БОНДАРЬ(М) 00:18:36Светлана КАНТОНИСТОВА(Ж) 00:22:32</td>\n",
       "      <td>42finishers</td>\n",
       "      <td>12volunteers</td>\n",
       "      <td>Дмитрий БОНДАРЬ00:18:36</td>\n",
       "      <td>00:18:36</td>\n",
       "      <td>Светлана КАНТОНИСТОВА00:22:32</td>\n",
       "      <td>00:22:32</td>\n",
       "    </tr>\n",
       "    <tr>\n",
       "      <th>199</th>\n",
       "      <td>4</td>\n",
       "      <td>09/07/2016Ринат АВЗЕЛИТДИНОВ(М) 00:18:05Ольга АКИМОВА(Ж) 00:23:14</td>\n",
       "      <td>46finishers</td>\n",
       "      <td>13volunteers</td>\n",
       "      <td>Ринат АВЗЕЛИТДИНОВ00:18:05</td>\n",
       "      <td>00:18:05</td>\n",
       "      <td>Ольга АКИМОВА00:23:14</td>\n",
       "      <td>00:23:14</td>\n",
       "    </tr>\n",
       "    <tr>\n",
       "      <th>200</th>\n",
       "      <td>3</td>\n",
       "      <td>02/07/2016Дмитрий БОНДАРЬ(М) 00:18:52Янчик КРЖИЖАНОВСКАЯ(Ж) 00:23:24</td>\n",
       "      <td>27finishers</td>\n",
       "      <td>10volunteers</td>\n",
       "      <td>Дмитрий БОНДАРЬ00:18:52</td>\n",
       "      <td>00:18:52</td>\n",
       "      <td>Янчик КРЖИЖАНОВСКАЯ00:23:24</td>\n",
       "      <td>00:23:24</td>\n",
       "    </tr>\n",
       "    <tr>\n",
       "      <th>201</th>\n",
       "      <td>2</td>\n",
       "      <td>25/06/2016Алексей КУХАРЕНКО(М) 00:18:28Olga LAZAREVA(Ж) 00:22:15</td>\n",
       "      <td>40finishers</td>\n",
       "      <td>15volunteers</td>\n",
       "      <td>Алексей КУХАРЕНКО00:18:28</td>\n",
       "      <td>00:18:28</td>\n",
       "      <td>Olga LAZAREVA00:22:15</td>\n",
       "      <td>00:22:15</td>\n",
       "    </tr>\n",
       "    <tr>\n",
       "      <th>202</th>\n",
       "      <td>1</td>\n",
       "      <td>18/06/2016Дмитрий БОНДАРЬ(М) 00:16:39Алсу ШАГИЕВА(Ж) 00:18:57</td>\n",
       "      <td>112finishers</td>\n",
       "      <td>21volunteers</td>\n",
       "      <td>Дмитрий БОНДАРЬ00:16:39</td>\n",
       "      <td>00:16:39</td>\n",
       "      <td>Алсу ШАГИЕВА00:18:57</td>\n",
       "      <td>00:18:57</td>\n",
       "    </tr>\n",
       "  </tbody>\n",
       "</table>\n",
       "<p>203 rows × 8 columns</p>\n",
       "</div>"
      ],
      "text/plain": [
       "     number  \\\n",
       "0       203   \n",
       "1       202   \n",
       "2       201   \n",
       "3       200   \n",
       "4       199   \n",
       "..      ...   \n",
       "198       5   \n",
       "199       4   \n",
       "200       3   \n",
       "201       2   \n",
       "202       1   \n",
       "\n",
       "                                                                       date  \\\n",
       "0        14/03/2020Виктор НИКОЛАЕВ(М) 00:15:46Наталья СЕЛЕЗНЕВА(Ж) 00:20:13   \n",
       "1        07/03/2020Дмитрий ТИХОНОВ(М) 00:17:53Наталья СЕЛЕЗНЕВА(Ж) 00:20:15   \n",
       "2           29/02/2020Герман ЖАРОВ(М) 00:18:22Наталья СЕЛЕЗНЕВА(Ж) 00:20:35   \n",
       "3        22/02/2020Дмитрий ТИХОНОВ(М) 00:17:37Екатерина Лицоева(Ж) 00:22:27   \n",
       "4           15/02/2020Юрий ВОЛОДИН(М) 00:17:38Светлана БЕЛАВИНА(Ж) 00:22:42   \n",
       "..                                                                      ...   \n",
       "198  16/07/2016Дмитрий БОНДАРЬ(М) 00:18:36Светлана КАНТОНИСТОВА(Ж) 00:22:32   \n",
       "199       09/07/2016Ринат АВЗЕЛИТДИНОВ(М) 00:18:05Ольга АКИМОВА(Ж) 00:23:14   \n",
       "200    02/07/2016Дмитрий БОНДАРЬ(М) 00:18:52Янчик КРЖИЖАНОВСКАЯ(Ж) 00:23:24   \n",
       "201        25/06/2016Алексей КУХАРЕНКО(М) 00:18:28Olga LAZAREVA(Ж) 00:22:15   \n",
       "202           18/06/2016Дмитрий БОНДАРЬ(М) 00:16:39Алсу ШАГИЕВА(Ж) 00:18:57   \n",
       "\n",
       "        finishers    volunteers                    men_name  men_time  \\\n",
       "0    154finishers  27volunteers     Виктор НИКОЛАЕВ00:15:46  00:15:46   \n",
       "1    176finishers  37volunteers     Дмитрий ТИХОНОВ00:17:53  00:17:53   \n",
       "2    185finishers  35volunteers        Герман ЖАРОВ00:18:22  00:18:22   \n",
       "3    246finishers  32volunteers     Дмитрий ТИХОНОВ00:17:37  00:17:37   \n",
       "4    128finishers  24volunteers        Юрий ВОЛОДИН00:17:38  00:17:38   \n",
       "..            ...           ...                         ...       ...   \n",
       "198   42finishers  12volunteers     Дмитрий БОНДАРЬ00:18:36  00:18:36   \n",
       "199   46finishers  13volunteers  Ринат АВЗЕЛИТДИНОВ00:18:05  00:18:05   \n",
       "200   27finishers  10volunteers     Дмитрий БОНДАРЬ00:18:52  00:18:52   \n",
       "201   40finishers  15volunteers   Алексей КУХАРЕНКО00:18:28  00:18:28   \n",
       "202  112finishers  21volunteers     Дмитрий БОНДАРЬ00:16:39  00:16:39   \n",
       "\n",
       "                        women_name women_time  \n",
       "0        Наталья СЕЛЕЗНЕВА00:20:13   00:20:13  \n",
       "1        Наталья СЕЛЕЗНЕВА00:20:15   00:20:15  \n",
       "2        Наталья СЕЛЕЗНЕВА00:20:35   00:20:35  \n",
       "3        Екатерина Лицоева00:22:27   00:22:27  \n",
       "4        Светлана БЕЛАВИНА00:22:42   00:22:42  \n",
       "..                             ...        ...  \n",
       "198  Светлана КАНТОНИСТОВА00:22:32   00:22:32  \n",
       "199          Ольга АКИМОВА00:23:14   00:23:14  \n",
       "200    Янчик КРЖИЖАНОВСКАЯ00:23:24   00:23:24  \n",
       "201          Olga LAZAREVA00:22:15   00:22:15  \n",
       "202           Алсу ШАГИЕВА00:18:57   00:18:57  \n",
       "\n",
       "[203 rows x 8 columns]"
      ]
     },
     "execution_count": 44,
     "metadata": {},
     "output_type": "execute_result"
    }
   ],
   "source": [
    "data"
   ]
  },
  {
   "cell_type": "code",
   "execution_count": 45,
   "id": "horizontal-screen",
   "metadata": {},
   "outputs": [
    {
     "name": "stdout",
     "output_type": "stream",
     "text": [
      "<class 'pandas.core.frame.DataFrame'>\n",
      "RangeIndex: 203 entries, 0 to 202\n",
      "Data columns (total 8 columns):\n",
      " #   Column      Non-Null Count  Dtype \n",
      "---  ------      --------------  ----- \n",
      " 0   number      203 non-null    int64 \n",
      " 1   date        203 non-null    object\n",
      " 2   finishers   203 non-null    object\n",
      " 3   volunteers  203 non-null    object\n",
      " 4   men_name    203 non-null    object\n",
      " 5   men_time    203 non-null    object\n",
      " 6   women_name  203 non-null    object\n",
      " 7   women_time  203 non-null    object\n",
      "dtypes: int64(1), object(7)\n",
      "memory usage: 12.8+ KB\n"
     ]
    }
   ],
   "source": [
    "data.info()"
   ]
  },
  {
   "cell_type": "code",
   "execution_count": 14,
   "id": "facial-baptist",
   "metadata": {},
   "outputs": [],
   "source": [
    "pd.set_option('display.max_colwidth', None)"
   ]
  },
  {
   "cell_type": "code",
   "execution_count": 17,
   "id": "honey-friendship",
   "metadata": {},
   "outputs": [
    {
     "data": {
      "text/plain": [
       "0      00:15:46\n",
       "1      00:17:53\n",
       "2      00:18:22\n",
       "3      00:17:37\n",
       "4      00:17:38\n",
       "         ...   \n",
       "198    00:18:36\n",
       "199    00:18:05\n",
       "200    00:18:52\n",
       "201    00:18:28\n",
       "202    00:16:39\n",
       "Name: Дата, Length: 203, dtype: object"
      ]
     },
     "execution_count": 17,
     "metadata": {},
     "output_type": "execute_result"
    }
   ],
   "source": [
    "data[data.columns[1]].transform(lambda s: re.search(r'\\d\\d:\\d\\d:\\d\\d', s)[0])"
   ]
  },
  {
   "cell_type": "code",
   "execution_count": 20,
   "id": "dated-mistress",
   "metadata": {},
   "outputs": [
    {
     "data": {
      "text/plain": [
       "0      14/03/20\n",
       "1      07/03/20\n",
       "2      29/02/20\n",
       "3      22/02/20\n",
       "4      15/02/20\n",
       "         ...   \n",
       "198    16/07/20\n",
       "199    09/07/20\n",
       "200    02/07/20\n",
       "201    25/06/20\n",
       "202    18/06/20\n",
       "Name: Дата, Length: 203, dtype: object"
      ]
     },
     "execution_count": 20,
     "metadata": {},
     "output_type": "execute_result"
    }
   ],
   "source": [
    "data[data.columns[1]].transform(lambda s: re.search(r'\\d\\d/\\d\\d/\\d\\d', s)[0])"
   ]
  },
  {
   "cell_type": "code",
   "execution_count": 19,
   "id": "human-fluid",
   "metadata": {},
   "outputs": [
    {
     "data": {
      "text/plain": [
       "0         Виктор НИКОЛАЕВ00:15:46\n",
       "1         Дмитрий ТИХОНОВ00:17:53\n",
       "2            Герман ЖАРОВ00:18:22\n",
       "3         Дмитрий ТИХОНОВ00:17:37\n",
       "4            Юрий ВОЛОДИН00:17:38\n",
       "                  ...            \n",
       "198       Дмитрий БОНДАРЬ00:18:36\n",
       "199    Ринат АВЗЕЛИТДИНОВ00:18:05\n",
       "200       Дмитрий БОНДАРЬ00:18:52\n",
       "201     Алексей КУХАРЕНКО00:18:28\n",
       "202       Дмитрий БОНДАРЬ00:16:39\n",
       "Name: Волонтеры, Length: 203, dtype: object"
      ]
     },
     "execution_count": 19,
     "metadata": {},
     "output_type": "execute_result"
    }
   ],
   "source": [
    "data[data.columns[4]]"
   ]
  },
  {
   "cell_type": "code",
   "execution_count": null,
   "id": "equal-confidentiality",
   "metadata": {},
   "outputs": [],
   "source": []
  }
 ],
 "metadata": {
  "kernelspec": {
   "display_name": "Python 3",
   "language": "python",
   "name": "python3"
  },
  "language_info": {
   "codemirror_mode": {
    "name": "ipython",
    "version": 3
   },
   "file_extension": ".py",
   "mimetype": "text/x-python",
   "name": "python",
   "nbconvert_exporter": "python",
   "pygments_lexer": "ipython3",
   "version": "3.8.6"
  }
 },
 "nbformat": 4,
 "nbformat_minor": 5
}
