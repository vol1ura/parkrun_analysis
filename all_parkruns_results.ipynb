{
 "cells": [
  {
   "cell_type": "code",
   "execution_count": 45,
   "id": "collected-details",
   "metadata": {},
   "outputs": [],
   "source": [
    "import requests\n",
    "import pandas as pd\n",
    "import matplotlib.pyplot as plt\n",
    "from matplotlib.ticker import MultipleLocator, NullLocator, MaxNLocator\n",
    "from matplotlib.colors import Normalize\n",
    "%matplotlib inline"
   ]
  },
  {
   "cell_type": "code",
   "execution_count": 2,
   "id": "failing-consumption",
   "metadata": {},
   "outputs": [],
   "source": [
    "headers = {'User-Agent': 'Mozilla/5.0 (X11; Ubuntu; Linux x86_64; rv:86.0) Gecko/20100101 Firefox/86.0'}\n",
    "page_all_results = requests.get('https://www.parkrun.ru/results/courserecords/', headers=headers)"
   ]
  },
  {
   "cell_type": "code",
   "execution_count": 3,
   "id": "norwegian-caution",
   "metadata": {},
   "outputs": [],
   "source": [
    "data = pd.read_html(page_all_results.text)[0]\n",
    "data.drop(data.columns[[1, 5]], axis=1, inplace=True)\n",
    "data.rename(columns={data.columns[0][0]: 'Parkrun'}, inplace=True)"
   ]
  },
  {
   "cell_type": "markdown",
   "id": "boxed-combination",
   "metadata": {},
   "source": [
    "# Рекорды трассы"
   ]
  },
  {
   "cell_type": "code",
   "execution_count": 4,
   "id": "ready-seeker",
   "metadata": {},
   "outputs": [
    {
     "output_type": "execute_result",
     "data": {
      "text/plain": [
       "                        Parkrun              Женщины                     \\\n",
       "                        Паркран             Участник  Время        Дата   \n",
       "0               Angarskie Prudy      Марина ЖАЛЫБИНА  20:24  27/07/2019   \n",
       "1         Babushkinsky na Yauze               Женя Л  19:58  03/04/2021   \n",
       "2         Balashikha Zarechnaya  Наталья СТУДЕНИКИНА  17:53  03/04/2021   \n",
       "3          Belgorod Park Pobedy       Ксения АВДЕЕВА  19:56  10/08/2019   \n",
       "4                         Bitsa       Анна БАЛАКШИНА  18:52  12/08/2017   \n",
       "..                          ...                  ...    ...         ...   \n",
       "87      Yarmarochnaya Ploshchad   Екатерина УЗБЕКОВА  25:38  03/04/2021   \n",
       "88  Yoshkar-Ola Alleya Zdorovya     Людмила ЛЕБЕДЕВА  20:13  10/04/2021   \n",
       "89                  Zatyumensky          Анна ПОПОВА  20:02  03/08/2019   \n",
       "90                   Zelenograd       Ксения АВДЕЕВА  18:43  09/06/2018   \n",
       "91                    Zhukovsky        Нина РОМАШОВА  20:19  03/04/2021   \n",
       "\n",
       "              Мужчины                     \n",
       "             Участник  Время        Дата  \n",
       "0       Фёдор БАКУЛОВ  16:53  28/09/2019  \n",
       "1    Александр ХАНКОВ  16:41  10/04/2021  \n",
       "2       Роман САЗОНОВ  15:40  08/09/2018  \n",
       "3    Михаил ЗВЯГИНЦЕВ  16:26  07/03/2020  \n",
       "4     Виктор НИКОЛАЕВ  16:04  27/10/2018  \n",
       "..                ...    ...         ...  \n",
       "87  Александр ПОЛЯКОВ  19:12  03/04/2021  \n",
       "88  Николай ИВАНУШКИН  17:20  13/03/2021  \n",
       "89    Алексей ЛЕБЕДЕВ  16:36  04/05/2019  \n",
       "90     Сергей СОРОКИН  15:34  27/07/2019  \n",
       "91    Виктор НИКОЛАЕВ  16:10  20/04/2019  \n",
       "\n",
       "[92 rows x 7 columns]"
      ],
      "text/html": "<div>\n<style scoped>\n    .dataframe tbody tr th:only-of-type {\n        vertical-align: middle;\n    }\n\n    .dataframe tbody tr th {\n        vertical-align: top;\n    }\n\n    .dataframe thead tr th {\n        text-align: left;\n    }\n</style>\n<table border=\"1\" class=\"dataframe\">\n  <thead>\n    <tr>\n      <th></th>\n      <th>Parkrun</th>\n      <th colspan=\"3\" halign=\"left\">Женщины</th>\n      <th colspan=\"3\" halign=\"left\">Мужчины</th>\n    </tr>\n    <tr>\n      <th></th>\n      <th>Паркран</th>\n      <th>Участник</th>\n      <th>Время</th>\n      <th>Дата</th>\n      <th>Участник</th>\n      <th>Время</th>\n      <th>Дата</th>\n    </tr>\n  </thead>\n  <tbody>\n    <tr>\n      <th>0</th>\n      <td>Angarskie Prudy</td>\n      <td>Марина ЖАЛЫБИНА</td>\n      <td>20:24</td>\n      <td>27/07/2019</td>\n      <td>Фёдор БАКУЛОВ</td>\n      <td>16:53</td>\n      <td>28/09/2019</td>\n    </tr>\n    <tr>\n      <th>1</th>\n      <td>Babushkinsky na Yauze</td>\n      <td>Женя Л</td>\n      <td>19:58</td>\n      <td>03/04/2021</td>\n      <td>Александр ХАНКОВ</td>\n      <td>16:41</td>\n      <td>10/04/2021</td>\n    </tr>\n    <tr>\n      <th>2</th>\n      <td>Balashikha Zarechnaya</td>\n      <td>Наталья СТУДЕНИКИНА</td>\n      <td>17:53</td>\n      <td>03/04/2021</td>\n      <td>Роман САЗОНОВ</td>\n      <td>15:40</td>\n      <td>08/09/2018</td>\n    </tr>\n    <tr>\n      <th>3</th>\n      <td>Belgorod Park Pobedy</td>\n      <td>Ксения АВДЕЕВА</td>\n      <td>19:56</td>\n      <td>10/08/2019</td>\n      <td>Михаил ЗВЯГИНЦЕВ</td>\n      <td>16:26</td>\n      <td>07/03/2020</td>\n    </tr>\n    <tr>\n      <th>4</th>\n      <td>Bitsa</td>\n      <td>Анна БАЛАКШИНА</td>\n      <td>18:52</td>\n      <td>12/08/2017</td>\n      <td>Виктор НИКОЛАЕВ</td>\n      <td>16:04</td>\n      <td>27/10/2018</td>\n    </tr>\n    <tr>\n      <th>...</th>\n      <td>...</td>\n      <td>...</td>\n      <td>...</td>\n      <td>...</td>\n      <td>...</td>\n      <td>...</td>\n      <td>...</td>\n    </tr>\n    <tr>\n      <th>87</th>\n      <td>Yarmarochnaya Ploshchad</td>\n      <td>Екатерина УЗБЕКОВА</td>\n      <td>25:38</td>\n      <td>03/04/2021</td>\n      <td>Александр ПОЛЯКОВ</td>\n      <td>19:12</td>\n      <td>03/04/2021</td>\n    </tr>\n    <tr>\n      <th>88</th>\n      <td>Yoshkar-Ola Alleya Zdorovya</td>\n      <td>Людмила ЛЕБЕДЕВА</td>\n      <td>20:13</td>\n      <td>10/04/2021</td>\n      <td>Николай ИВАНУШКИН</td>\n      <td>17:20</td>\n      <td>13/03/2021</td>\n    </tr>\n    <tr>\n      <th>89</th>\n      <td>Zatyumensky</td>\n      <td>Анна ПОПОВА</td>\n      <td>20:02</td>\n      <td>03/08/2019</td>\n      <td>Алексей ЛЕБЕДЕВ</td>\n      <td>16:36</td>\n      <td>04/05/2019</td>\n    </tr>\n    <tr>\n      <th>90</th>\n      <td>Zelenograd</td>\n      <td>Ксения АВДЕЕВА</td>\n      <td>18:43</td>\n      <td>09/06/2018</td>\n      <td>Сергей СОРОКИН</td>\n      <td>15:34</td>\n      <td>27/07/2019</td>\n    </tr>\n    <tr>\n      <th>91</th>\n      <td>Zhukovsky</td>\n      <td>Нина РОМАШОВА</td>\n      <td>20:19</td>\n      <td>03/04/2021</td>\n      <td>Виктор НИКОЛАЕВ</td>\n      <td>16:10</td>\n      <td>20/04/2019</td>\n    </tr>\n  </tbody>\n</table>\n<p>92 rows × 7 columns</p>\n</div>"
     },
     "metadata": {},
     "execution_count": 4
    }
   ],
   "source": [
    "data"
   ]
  },
  {
   "cell_type": "markdown",
   "id": "instructional-peripheral",
   "metadata": {},
   "source": [
    "Записи с \"нетипичными\" данными"
   ]
  },
  {
   "cell_type": "code",
   "execution_count": 5,
   "id": "phantom-laugh",
   "metadata": {},
   "outputs": [
    {
     "output_type": "execute_result",
     "data": {
      "text/plain": [
       "                     Parkrun                     Женщины         \\\n",
       "                     Паркран                    Участник  Время   \n",
       "7    Cheboksary naberezhnaya            Людмила ХОДАКОВА  19:14   \n",
       "9        Chelyabinsk Ekopark          Анастасия СОКОЛОВА  20:48   \n",
       "18      Gorodskoy Park Semya             Оксана ХАФИЗОВА  20:40   \n",
       "21             Kazan Central  Рамиля ШАГИЕВААлсу ШАГИЕВА  20:29   \n",
       "40    Mytishchi Central Park        Evgeniya RUMYANTSEVA  21:01   \n",
       "50               Park Kirova          Ольга ФЕОФИЛАКТОВА  21:54   \n",
       "51          Park Talalikhina         Наталья ТАРАНТИНОВА  21:50   \n",
       "58  Ramenskoe Gorodskoy Park             Ирина КУЗЬМЕНКО  21:23   \n",
       "67       Skver Dzerzhinskogo               Наталья ДЖОЛИ  21:23   \n",
       "\n",
       "                                           Мужчины         \\\n",
       "                           Дата           Участник  Время   \n",
       "7                    27/07/2019       Михаил УМНОВ  16:51   \n",
       "9   Новый рекорд на этой неделе    Евгений КУЛИКОВ  17:46   \n",
       "18  Новый рекорд на этой неделе  Динар ФАХРИСЛАМОВ  19:35   \n",
       "21         27/08/201627/08/2016      Кирилл ДЯТЛОВ  16:28   \n",
       "40                   03/04/2021       Anton EFIMOV  18:16   \n",
       "50                   12/10/2019     Pavel KASATKIN  16:32   \n",
       "51  Новый рекорд на этой неделе      Эдуард СЫРЦОВ  16:21   \n",
       "58  Новый рекорд на этой неделе       Олег ПОЛЯКОВ  17:58   \n",
       "67                   14/12/2019    Евгений ЗОРЯНОВ  18:11   \n",
       "\n",
       "                                 \n",
       "                           Дата  \n",
       "7   Новый рекорд на этой неделе  \n",
       "9                    14/09/2019  \n",
       "18  Новый рекорд на этой неделе  \n",
       "21                   12/10/2019  \n",
       "40  Новый рекорд на этой неделе  \n",
       "50  Новый рекорд на этой неделе  \n",
       "51                   03/04/2021  \n",
       "58  Новый рекорд на этой неделе  \n",
       "67  Новый рекорд на этой неделе  "
      ],
      "text/html": "<div>\n<style scoped>\n    .dataframe tbody tr th:only-of-type {\n        vertical-align: middle;\n    }\n\n    .dataframe tbody tr th {\n        vertical-align: top;\n    }\n\n    .dataframe thead tr th {\n        text-align: left;\n    }\n</style>\n<table border=\"1\" class=\"dataframe\">\n  <thead>\n    <tr>\n      <th></th>\n      <th>Parkrun</th>\n      <th colspan=\"3\" halign=\"left\">Женщины</th>\n      <th colspan=\"3\" halign=\"left\">Мужчины</th>\n    </tr>\n    <tr>\n      <th></th>\n      <th>Паркран</th>\n      <th>Участник</th>\n      <th>Время</th>\n      <th>Дата</th>\n      <th>Участник</th>\n      <th>Время</th>\n      <th>Дата</th>\n    </tr>\n  </thead>\n  <tbody>\n    <tr>\n      <th>7</th>\n      <td>Cheboksary naberezhnaya</td>\n      <td>Людмила ХОДАКОВА</td>\n      <td>19:14</td>\n      <td>27/07/2019</td>\n      <td>Михаил УМНОВ</td>\n      <td>16:51</td>\n      <td>Новый рекорд на этой неделе</td>\n    </tr>\n    <tr>\n      <th>9</th>\n      <td>Chelyabinsk Ekopark</td>\n      <td>Анастасия СОКОЛОВА</td>\n      <td>20:48</td>\n      <td>Новый рекорд на этой неделе</td>\n      <td>Евгений КУЛИКОВ</td>\n      <td>17:46</td>\n      <td>14/09/2019</td>\n    </tr>\n    <tr>\n      <th>18</th>\n      <td>Gorodskoy Park Semya</td>\n      <td>Оксана ХАФИЗОВА</td>\n      <td>20:40</td>\n      <td>Новый рекорд на этой неделе</td>\n      <td>Динар ФАХРИСЛАМОВ</td>\n      <td>19:35</td>\n      <td>Новый рекорд на этой неделе</td>\n    </tr>\n    <tr>\n      <th>21</th>\n      <td>Kazan Central</td>\n      <td>Рамиля ШАГИЕВААлсу ШАГИЕВА</td>\n      <td>20:29</td>\n      <td>27/08/201627/08/2016</td>\n      <td>Кирилл ДЯТЛОВ</td>\n      <td>16:28</td>\n      <td>12/10/2019</td>\n    </tr>\n    <tr>\n      <th>40</th>\n      <td>Mytishchi Central Park</td>\n      <td>Evgeniya RUMYANTSEVA</td>\n      <td>21:01</td>\n      <td>03/04/2021</td>\n      <td>Anton EFIMOV</td>\n      <td>18:16</td>\n      <td>Новый рекорд на этой неделе</td>\n    </tr>\n    <tr>\n      <th>50</th>\n      <td>Park Kirova</td>\n      <td>Ольга ФЕОФИЛАКТОВА</td>\n      <td>21:54</td>\n      <td>12/10/2019</td>\n      <td>Pavel KASATKIN</td>\n      <td>16:32</td>\n      <td>Новый рекорд на этой неделе</td>\n    </tr>\n    <tr>\n      <th>51</th>\n      <td>Park Talalikhina</td>\n      <td>Наталья ТАРАНТИНОВА</td>\n      <td>21:50</td>\n      <td>Новый рекорд на этой неделе</td>\n      <td>Эдуард СЫРЦОВ</td>\n      <td>16:21</td>\n      <td>03/04/2021</td>\n    </tr>\n    <tr>\n      <th>58</th>\n      <td>Ramenskoe Gorodskoy Park</td>\n      <td>Ирина КУЗЬМЕНКО</td>\n      <td>21:23</td>\n      <td>Новый рекорд на этой неделе</td>\n      <td>Олег ПОЛЯКОВ</td>\n      <td>17:58</td>\n      <td>Новый рекорд на этой неделе</td>\n    </tr>\n    <tr>\n      <th>67</th>\n      <td>Skver Dzerzhinskogo</td>\n      <td>Наталья ДЖОЛИ</td>\n      <td>21:23</td>\n      <td>14/12/2019</td>\n      <td>Евгений ЗОРЯНОВ</td>\n      <td>18:11</td>\n      <td>Новый рекорд на этой неделе</td>\n    </tr>\n  </tbody>\n</table>\n</div>"
     },
     "metadata": {},
     "execution_count": 5
    }
   ],
   "source": [
    "mask = (data[data.columns[3]].str.len() > 10) | (data[data.columns[6]].str.len() > 10)\n",
    "data.loc[mask]"
   ]
  },
  {
   "cell_type": "markdown",
   "id": "negative-story",
   "metadata": {},
   "source": [
    "## Список всех российских паркранов"
   ]
  },
  {
   "cell_type": "code",
   "execution_count": 6,
   "id": "instructional-neutral",
   "metadata": {},
   "outputs": [],
   "source": [
    "russian_parkruns = data[data.columns[0]]"
   ]
  },
  {
   "cell_type": "markdown",
   "id": "respective-pledge",
   "metadata": {},
   "source": [
    "Всего активных паркранов в России:"
   ]
  },
  {
   "cell_type": "code",
   "execution_count": 7,
   "id": "adult-mobility",
   "metadata": {},
   "outputs": [
    {
     "output_type": "execute_result",
     "data": {
      "text/plain": [
       "92"
      ]
     },
     "metadata": {},
     "execution_count": 7
    }
   ],
   "source": [
    "len(russian_parkruns)"
   ]
  },
  {
   "cell_type": "code",
   "execution_count": 8,
   "id": "bored-utility",
   "metadata": {
    "scrolled": true
   },
   "outputs": [
    {
     "output_type": "execute_result",
     "data": {
      "text/plain": [
       "0                 Angarskie Prudy\n",
       "1           Babushkinsky na Yauze\n",
       "2           Balashikha Zarechnaya\n",
       "3            Belgorod Park Pobedy\n",
       "4                           Bitsa\n",
       "5                     Boeva Dacha\n",
       "6                          Butovo\n",
       "7         Cheboksary naberezhnaya\n",
       "8                     Chelyabinsk\n",
       "9             Chelyabinsk Ekopark\n",
       "10      Chertanovo Pokrovsky Park\n",
       "11                    Dolgoprudny\n",
       "12                        Druzhba\n",
       "13                  Elagin Ostrov\n",
       "14                    Filatov Lug\n",
       "15                           Fili\n",
       "16            Gatchina Prioratsky\n",
       "17                     Gorky Park\n",
       "18           Gorodskoy Park Semya\n",
       "19                 Gubernsky Park\n",
       "20                      Izmailovo\n",
       "21                  Kazan Central\n",
       "22                         Khimki\n",
       "23                          Kimry\n",
       "24           Kolchugino City Park\n",
       "25                    Kolomenskoe\n",
       "26                        Kolpino\n",
       "27                    Komsomolsky\n",
       "28                        Korolev\n",
       "29       Krasnoyarsk Naberezhnaya\n",
       "30                     Krylatskoe\n",
       "31            Kurgan Central Park\n",
       "32                       Kuzminki\n",
       "33               Lesopark Severny\n",
       "34          Lobnya Gorodskoy Park\n",
       "35          Maykop Gorodskoy Park\n",
       "36              Mega Park Kudrovo\n",
       "37                    Meshchersky\n",
       "38                         Mitino\n",
       "39          Moskovsky Park Pobedy\n",
       "40         Mytishchi Central Park\n",
       "41                    Natashinsky\n",
       "42    Nizhny Novgorod Meshchersky\n",
       "43                    Nizhny Prud\n",
       "44         Noginsk Gorodskoy Park\n",
       "45       Novosibirsk naberezhnaya\n",
       "46                        Obninsk\n",
       "47          Olimpiyskaya Derevnya\n",
       "48           Orsk Park Stroiteley\n",
       "49                   Park Guskova\n",
       "50                    Park Kirova\n",
       "51               Park Talalikhina\n",
       "52                Pavlovsky Posad\n",
       "53                  Perm Balatovo\n",
       "54        Petergof Aleksandriysky\n",
       "55                       Plotinka\n",
       "56          Pokrovskoe-Streshnevo\n",
       "57                        Pushkin\n",
       "58       Ramenskoe Gorodskoy Park\n",
       "59                 Readovsky Park\n",
       "60                  Rostov on Don\n",
       "61                 Ryazan Central\n",
       "62                 Ryazan Oreshek\n",
       "63           Samara Park Gagarina\n",
       "64        Serpukhov Gorodskoy Bor\n",
       "65               Severnoe Tushino\n",
       "66               Shuvalovsky Park\n",
       "67            Skver Dzerzhinskogo\n",
       "68                      Sokolniki\n",
       "69               Solnechny ostrov\n",
       "70                       Sosnovka\n",
       "71                    Starye Sady\n",
       "72                      Stavropol\n",
       "73                        Strelka\n",
       "74      Strezhevoy Gorodskoy Park\n",
       "75                         Tambov\n",
       "76                  Timiryazevsky\n",
       "77      Tomsk Stadion Polytechnic\n",
       "78                     Tsaritsyno\n",
       "79                   Tula Central\n",
       "80            Tver Rechnoy Vokzal\n",
       "81           Ufa Botanichesky Sad\n",
       "82    Velikiy Novgorod Kremlevsky\n",
       "83                    Vernadskogo\n",
       "84             Volgograd Panorama\n",
       "85          Voronezh Central Park\n",
       "86                Yakutsk Dokhsun\n",
       "87        Yarmarochnaya Ploshchad\n",
       "88    Yoshkar-Ola Alleya Zdorovya\n",
       "89                    Zatyumensky\n",
       "90                     Zelenograd\n",
       "91                      Zhukovsky\n",
       "Name: (Parkrun, Паркран), dtype: object"
      ]
     },
     "metadata": {},
     "execution_count": 8
    }
   ],
   "source": [
    "pd.set_option('display.max_rows', None)\n",
    "russian_parkruns"
   ]
  },
  {
   "cell_type": "code",
   "execution_count": 9,
   "id": "patient-translator",
   "metadata": {},
   "outputs": [],
   "source": [
    "russian_parkruns.to_csv('russian_parkruns.csv', index=False)"
   ]
  },
  {
   "cell_type": "markdown",
   "id": "pleasant-treat",
   "metadata": {},
   "source": [
    "## Анализ мужских результатов"
   ]
  },
  {
   "cell_type": "markdown",
   "id": "daily-senator",
   "metadata": {},
   "source": [
    "### Топ10 рекордов мужчин и самых быстрых российских паркранов"
   ]
  },
  {
   "cell_type": "code",
   "execution_count": 10,
   "id": "interracial-capture",
   "metadata": {},
   "outputs": [
    {
     "output_type": "execute_result",
     "data": {
      "text/plain": [
       "                Parkrun              Мужчины                   \n",
       "                Паркран             Участник  Время        Дата\n",
       "0                Tambov         Леон АРТЁМОВ  14:28  08/06/2019\n",
       "1            Gorky Park     Вячеслав СОКОЛОВ  14:50  27/04/2019\n",
       "2         Elagin Ostrov     Валентин СМИРНОВ  14:53  10/08/2019\n",
       "3  Ufa Botanichesky Sad     Григорий АНДРЕЕВ  14:57  12/05/2018\n",
       "4     Mega Park Kudrovo    Дмитрий ТРИПУТЕНЬ  15:01  21/07/2018\n",
       "5              Sosnovka  Станислав АГЕЛЬЯРОВ  15:11  01/06/2019\n",
       "6        Ryazan Central     Александр ИМЕНИН  15:14  27/08/2016\n",
       "7           Vernadskogo     Вячеслав СОКОЛОВ  15:16  13/04/2019\n",
       "8           Meshchersky     Вячеслав СОКОЛОВ  15:18  08/06/2019\n",
       "9        Ryazan Oreshek     Александр ИМЕНИН  15:18  28/12/2019"
      ],
      "text/html": "<div>\n<style scoped>\n    .dataframe tbody tr th:only-of-type {\n        vertical-align: middle;\n    }\n\n    .dataframe tbody tr th {\n        vertical-align: top;\n    }\n\n    .dataframe thead tr th {\n        text-align: left;\n    }\n</style>\n<table border=\"1\" class=\"dataframe\">\n  <thead>\n    <tr>\n      <th></th>\n      <th>Parkrun</th>\n      <th colspan=\"3\" halign=\"left\">Мужчины</th>\n    </tr>\n    <tr>\n      <th></th>\n      <th>Паркран</th>\n      <th>Участник</th>\n      <th>Время</th>\n      <th>Дата</th>\n    </tr>\n  </thead>\n  <tbody>\n    <tr>\n      <th>0</th>\n      <td>Tambov</td>\n      <td>Леон АРТЁМОВ</td>\n      <td>14:28</td>\n      <td>08/06/2019</td>\n    </tr>\n    <tr>\n      <th>1</th>\n      <td>Gorky Park</td>\n      <td>Вячеслав СОКОЛОВ</td>\n      <td>14:50</td>\n      <td>27/04/2019</td>\n    </tr>\n    <tr>\n      <th>2</th>\n      <td>Elagin Ostrov</td>\n      <td>Валентин СМИРНОВ</td>\n      <td>14:53</td>\n      <td>10/08/2019</td>\n    </tr>\n    <tr>\n      <th>3</th>\n      <td>Ufa Botanichesky Sad</td>\n      <td>Григорий АНДРЕЕВ</td>\n      <td>14:57</td>\n      <td>12/05/2018</td>\n    </tr>\n    <tr>\n      <th>4</th>\n      <td>Mega Park Kudrovo</td>\n      <td>Дмитрий ТРИПУТЕНЬ</td>\n      <td>15:01</td>\n      <td>21/07/2018</td>\n    </tr>\n    <tr>\n      <th>5</th>\n      <td>Sosnovka</td>\n      <td>Станислав АГЕЛЬЯРОВ</td>\n      <td>15:11</td>\n      <td>01/06/2019</td>\n    </tr>\n    <tr>\n      <th>6</th>\n      <td>Ryazan Central</td>\n      <td>Александр ИМЕНИН</td>\n      <td>15:14</td>\n      <td>27/08/2016</td>\n    </tr>\n    <tr>\n      <th>7</th>\n      <td>Vernadskogo</td>\n      <td>Вячеслав СОКОЛОВ</td>\n      <td>15:16</td>\n      <td>13/04/2019</td>\n    </tr>\n    <tr>\n      <th>8</th>\n      <td>Meshchersky</td>\n      <td>Вячеслав СОКОЛОВ</td>\n      <td>15:18</td>\n      <td>08/06/2019</td>\n    </tr>\n    <tr>\n      <th>9</th>\n      <td>Ryazan Oreshek</td>\n      <td>Александр ИМЕНИН</td>\n      <td>15:18</td>\n      <td>28/12/2019</td>\n    </tr>\n  </tbody>\n</table>\n</div>"
     },
     "metadata": {},
     "execution_count": 10
    }
   ],
   "source": [
    "data.drop(data.iloc[:,1:4], axis=1).sort_values(by=[data.columns[5]]).reset_index(drop=True).head(10)"
   ]
  },
  {
   "cell_type": "markdown",
   "id": "supposed-nicholas",
   "metadata": {},
   "source": [
    "### Топ5 мужчин с наибольшим количеством рекордов на разных паркранах"
   ]
  },
  {
   "cell_type": "code",
   "execution_count": 49,
   "id": "tribal-drawing",
   "metadata": {},
   "outputs": [
    {
     "output_type": "display_data",
     "data": {
      "text/plain": "<Figure size 504x504 with 1 Axes>",
      "image/svg+xml": "<?xml version=\"1.0\" encoding=\"utf-8\" standalone=\"no\"?>\n<!DOCTYPE svg PUBLIC \"-//W3C//DTD SVG 1.1//EN\"\n  \"http://www.w3.org/Graphics/SVG/1.1/DTD/svg11.dtd\">\n<!-- Created with matplotlib (https://matplotlib.org/) -->\n<svg height=\"496.94025pt\" version=\"1.1\" viewBox=\"0 0 552.60375 496.94025\" width=\"552.60375pt\" xmlns=\"http://www.w3.org/2000/svg\" xmlns:xlink=\"http://www.w3.org/1999/xlink\">\n <metadata>\n  <rdf:RDF xmlns:cc=\"http://creativecommons.org/ns#\" xmlns:dc=\"http://purl.org/dc/elements/1.1/\" xmlns:rdf=\"http://www.w3.org/1999/02/22-rdf-syntax-ns#\">\n   <cc:Work>\n    <dc:type rdf:resource=\"http://purl.org/dc/dcmitype/StillImage\"/>\n    <dc:date>2021-04-21T18:04:55.129209</dc:date>\n    <dc:format>image/svg+xml</dc:format>\n    <dc:creator>\n     <cc:Agent>\n      <dc:title>Matplotlib v3.3.4, https://matplotlib.org/</dc:title>\n     </cc:Agent>\n    </dc:creator>\n   </cc:Work>\n  </rdf:RDF>\n </metadata>\n <defs>\n  <style type=\"text/css\">*{stroke-linecap:butt;stroke-linejoin:round;}</style>\n </defs>\n <g id=\"figure_1\">\n  <g id=\"patch_1\">\n   <path d=\"M 0 496.94025 \nL 552.60375 496.94025 \nL 552.60375 0 \nL 0 0 \nz\n\" style=\"fill:none;\"/>\n  </g>\n  <g id=\"axes_1\">\n   <g id=\"patch_2\">\n    <path d=\"M 153.38125 489.74025 \nL 490.15625 489.74025 \nL 490.15625 60.474625 \nL 153.38125 60.474625 \nz\n\" style=\"fill:#ffffff;\"/>\n   </g>\n   <g id=\"patch_3\">\n    <path clip-path=\"url(#p06bf9ef441)\" d=\"M 153.38125 483.42752 \nL 224.656382 483.42752 \nL 224.656382 470.802061 \nL 153.38125 470.802061 \nz\n\" style=\"fill:#9467bd;\"/>\n   </g>\n   <g id=\"patch_4\">\n    <path clip-path=\"url(#p06bf9ef441)\" d=\"M 153.38125 458.176601 \nL 224.656382 458.176601 \nL 224.656382 445.551142 \nL 153.38125 445.551142 \nz\n\" style=\"fill:#2ca02c;\"/>\n   </g>\n   <g id=\"patch_5\">\n    <path clip-path=\"url(#p06bf9ef441)\" d=\"M 153.38125 432.925682 \nL 224.656382 432.925682 \nL 224.656382 420.300222 \nL 153.38125 420.300222 \nz\n\" style=\"fill:#2ca02c;\"/>\n   </g>\n   <g id=\"patch_6\">\n    <path clip-path=\"url(#p06bf9ef441)\" d=\"M 153.38125 407.674763 \nL 224.656382 407.674763 \nL 224.656382 395.049303 \nL 153.38125 395.049303 \nz\n\" style=\"fill:#2ca02c;\"/>\n   </g>\n   <g id=\"patch_7\">\n    <path clip-path=\"url(#p06bf9ef441)\" d=\"M 153.38125 382.423844 \nL 224.656382 382.423844 \nL 224.656382 369.798384 \nL 153.38125 369.798384 \nz\n\" style=\"fill:#2ca02c;\"/>\n   </g>\n   <g id=\"patch_8\">\n    <path clip-path=\"url(#p06bf9ef441)\" d=\"M 153.38125 357.172925 \nL 224.656382 357.172925 \nL 224.656382 344.547465 \nL 153.38125 344.547465 \nz\n\" style=\"fill:#9467bd;\"/>\n   </g>\n   <g id=\"patch_9\">\n    <path clip-path=\"url(#p06bf9ef441)\" d=\"M 153.38125 331.922006 \nL 224.656382 331.922006 \nL 224.656382 319.296546 \nL 153.38125 319.296546 \nz\n\" style=\"fill:#9467bd;\"/>\n   </g>\n   <g id=\"patch_10\">\n    <path clip-path=\"url(#p06bf9ef441)\" d=\"M 153.38125 306.671086 \nL 224.656382 306.671086 \nL 224.656382 294.045627 \nL 153.38125 294.045627 \nz\n\" style=\"fill:#9467bd;\"/>\n   </g>\n   <g id=\"patch_11\">\n    <path clip-path=\"url(#p06bf9ef441)\" d=\"M 153.38125 281.420167 \nL 224.656382 281.420167 \nL 224.656382 268.794708 \nL 153.38125 268.794708 \nz\n\" style=\"fill:#9467bd;\"/>\n   </g>\n   <g id=\"patch_12\">\n    <path clip-path=\"url(#p06bf9ef441)\" d=\"M 153.38125 256.169248 \nL 260.293948 256.169248 \nL 260.293948 243.543789 \nL 153.38125 243.543789 \nz\n\" style=\"fill:#2ca02c;\"/>\n   </g>\n   <g id=\"patch_13\">\n    <path clip-path=\"url(#p06bf9ef441)\" d=\"M 153.38125 230.918329 \nL 260.293948 230.918329 \nL 260.293948 218.292869 \nL 153.38125 218.292869 \nz\n\" style=\"fill:#9467bd;\"/>\n   </g>\n   <g id=\"patch_14\">\n    <path clip-path=\"url(#p06bf9ef441)\" d=\"M 153.38125 205.66741 \nL 260.293948 205.66741 \nL 260.293948 193.04195 \nL 153.38125 193.04195 \nz\n\" style=\"fill:#9467bd;\"/>\n   </g>\n   <g id=\"patch_15\">\n    <path clip-path=\"url(#p06bf9ef441)\" d=\"M 153.38125 180.416491 \nL 295.931515 180.416491 \nL 295.931515 167.791031 \nL 153.38125 167.791031 \nz\n\" style=\"fill:#2ca02c;\"/>\n   </g>\n   <g id=\"patch_16\">\n    <path clip-path=\"url(#p06bf9ef441)\" d=\"M 153.38125 155.165572 \nL 295.931515 155.165572 \nL 295.931515 142.540112 \nL 153.38125 142.540112 \nz\n\" style=\"fill:#2ca02c;\"/>\n   </g>\n   <g id=\"patch_17\">\n    <path clip-path=\"url(#p06bf9ef441)\" d=\"M 153.38125 129.914653 \nL 295.931515 129.914653 \nL 295.931515 117.289193 \nL 153.38125 117.289193 \nz\n\" style=\"fill:#9467bd;\"/>\n   </g>\n   <g id=\"patch_18\">\n    <path clip-path=\"url(#p06bf9ef441)\" d=\"M 153.38125 104.663733 \nL 438.481779 104.663733 \nL 438.481779 92.038274 \nL 153.38125 92.038274 \nz\n\" style=\"fill:#2ca02c;\"/>\n   </g>\n   <g id=\"patch_19\">\n    <path clip-path=\"url(#p06bf9ef441)\" d=\"M 153.38125 79.412814 \nL 474.119345 79.412814 \nL 474.119345 66.787355 \nL 153.38125 66.787355 \nz\n\" style=\"fill:#9467bd;\"/>\n   </g>\n   <g id=\"matplotlib.axis_1\">\n    <g id=\"xtick_1\">\n     <g id=\"line2d_1\">\n      <path clip-path=\"url(#p06bf9ef441)\" d=\"M 153.38125 489.74025 \nL 153.38125 60.474625 \n\" style=\"fill:none;stroke:#b0b0b0;stroke-linecap:square;stroke-width:0.8;\"/>\n     </g>\n     <g id=\"line2d_2\">\n      <defs>\n       <path d=\"M 0 0 \nL 0 -3.5 \n\" id=\"m5154495a1f\" style=\"stroke:#000000;stroke-width:0.8;\"/>\n      </defs>\n      <g>\n       <use style=\"stroke:#000000;stroke-width:0.8;\" x=\"153.38125\" xlink:href=\"#m5154495a1f\" y=\"60.474625\"/>\n      </g>\n     </g>\n     <g id=\"text_1\">\n      <!-- 0 -->\n      <g transform=\"translate(150.2 51.394938)scale(0.1 -0.1)\">\n       <defs>\n        <path d=\"M 31.78125 66.40625 \nQ 24.171875 66.40625 20.328125 58.90625 \nQ 16.5 51.421875 16.5 36.375 \nQ 16.5 21.390625 20.328125 13.890625 \nQ 24.171875 6.390625 31.78125 6.390625 \nQ 39.453125 6.390625 43.28125 13.890625 \nQ 47.125 21.390625 47.125 36.375 \nQ 47.125 51.421875 43.28125 58.90625 \nQ 39.453125 66.40625 31.78125 66.40625 \nz\nM 31.78125 74.21875 \nQ 44.046875 74.21875 50.515625 64.515625 \nQ 56.984375 54.828125 56.984375 36.375 \nQ 56.984375 17.96875 50.515625 8.265625 \nQ 44.046875 -1.421875 31.78125 -1.421875 \nQ 19.53125 -1.421875 13.0625 8.265625 \nQ 6.59375 17.96875 6.59375 36.375 \nQ 6.59375 54.828125 13.0625 64.515625 \nQ 19.53125 74.21875 31.78125 74.21875 \nz\n\" id=\"DejaVuSans-48\"/>\n       </defs>\n       <use xlink:href=\"#DejaVuSans-48\"/>\n      </g>\n     </g>\n    </g>\n    <g id=\"xtick_2\">\n     <g id=\"line2d_3\">\n      <path clip-path=\"url(#p06bf9ef441)\" d=\"M 189.018816 489.74025 \nL 189.018816 60.474625 \n\" style=\"fill:none;stroke:#b0b0b0;stroke-linecap:square;stroke-width:0.8;\"/>\n     </g>\n     <g id=\"line2d_4\">\n      <g>\n       <use style=\"stroke:#000000;stroke-width:0.8;\" x=\"189.018816\" xlink:href=\"#m5154495a1f\" y=\"60.474625\"/>\n      </g>\n     </g>\n     <g id=\"text_2\">\n      <!-- 1 -->\n      <g transform=\"translate(185.837566 51.394938)scale(0.1 -0.1)\">\n       <defs>\n        <path d=\"M 12.40625 8.296875 \nL 28.515625 8.296875 \nL 28.515625 63.921875 \nL 10.984375 60.40625 \nL 10.984375 69.390625 \nL 28.421875 72.90625 \nL 38.28125 72.90625 \nL 38.28125 8.296875 \nL 54.390625 8.296875 \nL 54.390625 0 \nL 12.40625 0 \nz\n\" id=\"DejaVuSans-49\"/>\n       </defs>\n       <use xlink:href=\"#DejaVuSans-49\"/>\n      </g>\n     </g>\n    </g>\n    <g id=\"xtick_3\">\n     <g id=\"line2d_5\">\n      <path clip-path=\"url(#p06bf9ef441)\" d=\"M 224.656382 489.74025 \nL 224.656382 60.474625 \n\" style=\"fill:none;stroke:#b0b0b0;stroke-linecap:square;stroke-width:0.8;\"/>\n     </g>\n     <g id=\"line2d_6\">\n      <g>\n       <use style=\"stroke:#000000;stroke-width:0.8;\" x=\"224.656382\" xlink:href=\"#m5154495a1f\" y=\"60.474625\"/>\n      </g>\n     </g>\n     <g id=\"text_3\">\n      <!-- 2 -->\n      <g transform=\"translate(221.475132 51.394938)scale(0.1 -0.1)\">\n       <defs>\n        <path d=\"M 19.1875 8.296875 \nL 53.609375 8.296875 \nL 53.609375 0 \nL 7.328125 0 \nL 7.328125 8.296875 \nQ 12.9375 14.109375 22.625 23.890625 \nQ 32.328125 33.6875 34.8125 36.53125 \nQ 39.546875 41.84375 41.421875 45.53125 \nQ 43.3125 49.21875 43.3125 52.78125 \nQ 43.3125 58.59375 39.234375 62.25 \nQ 35.15625 65.921875 28.609375 65.921875 \nQ 23.96875 65.921875 18.8125 64.3125 \nQ 13.671875 62.703125 7.8125 59.421875 \nL 7.8125 69.390625 \nQ 13.765625 71.78125 18.9375 73 \nQ 24.125 74.21875 28.421875 74.21875 \nQ 39.75 74.21875 46.484375 68.546875 \nQ 53.21875 62.890625 53.21875 53.421875 \nQ 53.21875 48.921875 51.53125 44.890625 \nQ 49.859375 40.875 45.40625 35.40625 \nQ 44.1875 33.984375 37.640625 27.21875 \nQ 31.109375 20.453125 19.1875 8.296875 \nz\n\" id=\"DejaVuSans-50\"/>\n       </defs>\n       <use xlink:href=\"#DejaVuSans-50\"/>\n      </g>\n     </g>\n    </g>\n    <g id=\"xtick_4\">\n     <g id=\"line2d_7\">\n      <path clip-path=\"url(#p06bf9ef441)\" d=\"M 260.293948 489.74025 \nL 260.293948 60.474625 \n\" style=\"fill:none;stroke:#b0b0b0;stroke-linecap:square;stroke-width:0.8;\"/>\n     </g>\n     <g id=\"line2d_8\">\n      <g>\n       <use style=\"stroke:#000000;stroke-width:0.8;\" x=\"260.293948\" xlink:href=\"#m5154495a1f\" y=\"60.474625\"/>\n      </g>\n     </g>\n     <g id=\"text_4\">\n      <!-- 3 -->\n      <g transform=\"translate(257.112698 51.394938)scale(0.1 -0.1)\">\n       <defs>\n        <path d=\"M 40.578125 39.3125 \nQ 47.65625 37.796875 51.625 33 \nQ 55.609375 28.21875 55.609375 21.1875 \nQ 55.609375 10.40625 48.1875 4.484375 \nQ 40.765625 -1.421875 27.09375 -1.421875 \nQ 22.515625 -1.421875 17.65625 -0.515625 \nQ 12.796875 0.390625 7.625 2.203125 \nL 7.625 11.71875 \nQ 11.71875 9.328125 16.59375 8.109375 \nQ 21.484375 6.890625 26.8125 6.890625 \nQ 36.078125 6.890625 40.9375 10.546875 \nQ 45.796875 14.203125 45.796875 21.1875 \nQ 45.796875 27.640625 41.28125 31.265625 \nQ 36.765625 34.90625 28.71875 34.90625 \nL 20.21875 34.90625 \nL 20.21875 43.015625 \nL 29.109375 43.015625 \nQ 36.375 43.015625 40.234375 45.921875 \nQ 44.09375 48.828125 44.09375 54.296875 \nQ 44.09375 59.90625 40.109375 62.90625 \nQ 36.140625 65.921875 28.71875 65.921875 \nQ 24.65625 65.921875 20.015625 65.03125 \nQ 15.375 64.15625 9.8125 62.3125 \nL 9.8125 71.09375 \nQ 15.4375 72.65625 20.34375 73.4375 \nQ 25.25 74.21875 29.59375 74.21875 \nQ 40.828125 74.21875 47.359375 69.109375 \nQ 53.90625 64.015625 53.90625 55.328125 \nQ 53.90625 49.265625 50.4375 45.09375 \nQ 46.96875 40.921875 40.578125 39.3125 \nz\n\" id=\"DejaVuSans-51\"/>\n       </defs>\n       <use xlink:href=\"#DejaVuSans-51\"/>\n      </g>\n     </g>\n    </g>\n    <g id=\"xtick_5\">\n     <g id=\"line2d_9\">\n      <path clip-path=\"url(#p06bf9ef441)\" d=\"M 295.931515 489.74025 \nL 295.931515 60.474625 \n\" style=\"fill:none;stroke:#b0b0b0;stroke-linecap:square;stroke-width:0.8;\"/>\n     </g>\n     <g id=\"line2d_10\">\n      <g>\n       <use style=\"stroke:#000000;stroke-width:0.8;\" x=\"295.931515\" xlink:href=\"#m5154495a1f\" y=\"60.474625\"/>\n      </g>\n     </g>\n     <g id=\"text_5\">\n      <!-- 4 -->\n      <g transform=\"translate(292.750265 51.394938)scale(0.1 -0.1)\">\n       <defs>\n        <path d=\"M 37.796875 64.3125 \nL 12.890625 25.390625 \nL 37.796875 25.390625 \nz\nM 35.203125 72.90625 \nL 47.609375 72.90625 \nL 47.609375 25.390625 \nL 58.015625 25.390625 \nL 58.015625 17.1875 \nL 47.609375 17.1875 \nL 47.609375 0 \nL 37.796875 0 \nL 37.796875 17.1875 \nL 4.890625 17.1875 \nL 4.890625 26.703125 \nz\n\" id=\"DejaVuSans-52\"/>\n       </defs>\n       <use xlink:href=\"#DejaVuSans-52\"/>\n      </g>\n     </g>\n    </g>\n    <g id=\"xtick_6\">\n     <g id=\"line2d_11\">\n      <path clip-path=\"url(#p06bf9ef441)\" d=\"M 331.569081 489.74025 \nL 331.569081 60.474625 \n\" style=\"fill:none;stroke:#b0b0b0;stroke-linecap:square;stroke-width:0.8;\"/>\n     </g>\n     <g id=\"line2d_12\">\n      <g>\n       <use style=\"stroke:#000000;stroke-width:0.8;\" x=\"331.569081\" xlink:href=\"#m5154495a1f\" y=\"60.474625\"/>\n      </g>\n     </g>\n     <g id=\"text_6\">\n      <!-- 5 -->\n      <g transform=\"translate(328.387831 51.394938)scale(0.1 -0.1)\">\n       <defs>\n        <path d=\"M 10.796875 72.90625 \nL 49.515625 72.90625 \nL 49.515625 64.59375 \nL 19.828125 64.59375 \nL 19.828125 46.734375 \nQ 21.96875 47.46875 24.109375 47.828125 \nQ 26.265625 48.1875 28.421875 48.1875 \nQ 40.625 48.1875 47.75 41.5 \nQ 54.890625 34.8125 54.890625 23.390625 \nQ 54.890625 11.625 47.5625 5.09375 \nQ 40.234375 -1.421875 26.90625 -1.421875 \nQ 22.3125 -1.421875 17.546875 -0.640625 \nQ 12.796875 0.140625 7.71875 1.703125 \nL 7.71875 11.625 \nQ 12.109375 9.234375 16.796875 8.0625 \nQ 21.484375 6.890625 26.703125 6.890625 \nQ 35.15625 6.890625 40.078125 11.328125 \nQ 45.015625 15.765625 45.015625 23.390625 \nQ 45.015625 31 40.078125 35.4375 \nQ 35.15625 39.890625 26.703125 39.890625 \nQ 22.75 39.890625 18.8125 39.015625 \nQ 14.890625 38.140625 10.796875 36.28125 \nz\n\" id=\"DejaVuSans-53\"/>\n       </defs>\n       <use xlink:href=\"#DejaVuSans-53\"/>\n      </g>\n     </g>\n    </g>\n    <g id=\"xtick_7\">\n     <g id=\"line2d_13\">\n      <path clip-path=\"url(#p06bf9ef441)\" d=\"M 367.206647 489.74025 \nL 367.206647 60.474625 \n\" style=\"fill:none;stroke:#b0b0b0;stroke-linecap:square;stroke-width:0.8;\"/>\n     </g>\n     <g id=\"line2d_14\">\n      <g>\n       <use style=\"stroke:#000000;stroke-width:0.8;\" x=\"367.206647\" xlink:href=\"#m5154495a1f\" y=\"60.474625\"/>\n      </g>\n     </g>\n     <g id=\"text_7\">\n      <!-- 6 -->\n      <g transform=\"translate(364.025397 51.394938)scale(0.1 -0.1)\">\n       <defs>\n        <path d=\"M 33.015625 40.375 \nQ 26.375 40.375 22.484375 35.828125 \nQ 18.609375 31.296875 18.609375 23.390625 \nQ 18.609375 15.53125 22.484375 10.953125 \nQ 26.375 6.390625 33.015625 6.390625 \nQ 39.65625 6.390625 43.53125 10.953125 \nQ 47.40625 15.53125 47.40625 23.390625 \nQ 47.40625 31.296875 43.53125 35.828125 \nQ 39.65625 40.375 33.015625 40.375 \nz\nM 52.59375 71.296875 \nL 52.59375 62.3125 \nQ 48.875 64.0625 45.09375 64.984375 \nQ 41.3125 65.921875 37.59375 65.921875 \nQ 27.828125 65.921875 22.671875 59.328125 \nQ 17.53125 52.734375 16.796875 39.40625 \nQ 19.671875 43.65625 24.015625 45.921875 \nQ 28.375 48.1875 33.59375 48.1875 \nQ 44.578125 48.1875 50.953125 41.515625 \nQ 57.328125 34.859375 57.328125 23.390625 \nQ 57.328125 12.15625 50.6875 5.359375 \nQ 44.046875 -1.421875 33.015625 -1.421875 \nQ 20.359375 -1.421875 13.671875 8.265625 \nQ 6.984375 17.96875 6.984375 36.375 \nQ 6.984375 53.65625 15.1875 63.9375 \nQ 23.390625 74.21875 37.203125 74.21875 \nQ 40.921875 74.21875 44.703125 73.484375 \nQ 48.484375 72.75 52.59375 71.296875 \nz\n\" id=\"DejaVuSans-54\"/>\n       </defs>\n       <use xlink:href=\"#DejaVuSans-54\"/>\n      </g>\n     </g>\n    </g>\n    <g id=\"xtick_8\">\n     <g id=\"line2d_15\">\n      <path clip-path=\"url(#p06bf9ef441)\" d=\"M 402.844213 489.74025 \nL 402.844213 60.474625 \n\" style=\"fill:none;stroke:#b0b0b0;stroke-linecap:square;stroke-width:0.8;\"/>\n     </g>\n     <g id=\"line2d_16\">\n      <g>\n       <use style=\"stroke:#000000;stroke-width:0.8;\" x=\"402.844213\" xlink:href=\"#m5154495a1f\" y=\"60.474625\"/>\n      </g>\n     </g>\n     <g id=\"text_8\">\n      <!-- 7 -->\n      <g transform=\"translate(399.662963 51.394938)scale(0.1 -0.1)\">\n       <defs>\n        <path d=\"M 8.203125 72.90625 \nL 55.078125 72.90625 \nL 55.078125 68.703125 \nL 28.609375 0 \nL 18.3125 0 \nL 43.21875 64.59375 \nL 8.203125 64.59375 \nz\n\" id=\"DejaVuSans-55\"/>\n       </defs>\n       <use xlink:href=\"#DejaVuSans-55\"/>\n      </g>\n     </g>\n    </g>\n    <g id=\"xtick_9\">\n     <g id=\"line2d_17\">\n      <path clip-path=\"url(#p06bf9ef441)\" d=\"M 438.481779 489.74025 \nL 438.481779 60.474625 \n\" style=\"fill:none;stroke:#b0b0b0;stroke-linecap:square;stroke-width:0.8;\"/>\n     </g>\n     <g id=\"line2d_18\">\n      <g>\n       <use style=\"stroke:#000000;stroke-width:0.8;\" x=\"438.481779\" xlink:href=\"#m5154495a1f\" y=\"60.474625\"/>\n      </g>\n     </g>\n     <g id=\"text_9\">\n      <!-- 8 -->\n      <g transform=\"translate(435.300529 51.394938)scale(0.1 -0.1)\">\n       <defs>\n        <path d=\"M 31.78125 34.625 \nQ 24.75 34.625 20.71875 30.859375 \nQ 16.703125 27.09375 16.703125 20.515625 \nQ 16.703125 13.921875 20.71875 10.15625 \nQ 24.75 6.390625 31.78125 6.390625 \nQ 38.8125 6.390625 42.859375 10.171875 \nQ 46.921875 13.96875 46.921875 20.515625 \nQ 46.921875 27.09375 42.890625 30.859375 \nQ 38.875 34.625 31.78125 34.625 \nz\nM 21.921875 38.8125 \nQ 15.578125 40.375 12.03125 44.71875 \nQ 8.5 49.078125 8.5 55.328125 \nQ 8.5 64.0625 14.71875 69.140625 \nQ 20.953125 74.21875 31.78125 74.21875 \nQ 42.671875 74.21875 48.875 69.140625 \nQ 55.078125 64.0625 55.078125 55.328125 \nQ 55.078125 49.078125 51.53125 44.71875 \nQ 48 40.375 41.703125 38.8125 \nQ 48.828125 37.15625 52.796875 32.3125 \nQ 56.78125 27.484375 56.78125 20.515625 \nQ 56.78125 9.90625 50.3125 4.234375 \nQ 43.84375 -1.421875 31.78125 -1.421875 \nQ 19.734375 -1.421875 13.25 4.234375 \nQ 6.78125 9.90625 6.78125 20.515625 \nQ 6.78125 27.484375 10.78125 32.3125 \nQ 14.796875 37.15625 21.921875 38.8125 \nz\nM 18.3125 54.390625 \nQ 18.3125 48.734375 21.84375 45.5625 \nQ 25.390625 42.390625 31.78125 42.390625 \nQ 38.140625 42.390625 41.71875 45.5625 \nQ 45.3125 48.734375 45.3125 54.390625 \nQ 45.3125 60.0625 41.71875 63.234375 \nQ 38.140625 66.40625 31.78125 66.40625 \nQ 25.390625 66.40625 21.84375 63.234375 \nQ 18.3125 60.0625 18.3125 54.390625 \nz\n\" id=\"DejaVuSans-56\"/>\n       </defs>\n       <use xlink:href=\"#DejaVuSans-56\"/>\n      </g>\n     </g>\n    </g>\n    <g id=\"xtick_10\">\n     <g id=\"line2d_19\">\n      <path clip-path=\"url(#p06bf9ef441)\" d=\"M 474.119345 489.74025 \nL 474.119345 60.474625 \n\" style=\"fill:none;stroke:#b0b0b0;stroke-linecap:square;stroke-width:0.8;\"/>\n     </g>\n     <g id=\"line2d_20\">\n      <g>\n       <use style=\"stroke:#000000;stroke-width:0.8;\" x=\"474.119345\" xlink:href=\"#m5154495a1f\" y=\"60.474625\"/>\n      </g>\n     </g>\n     <g id=\"text_10\">\n      <!-- 9 -->\n      <g transform=\"translate(470.938095 51.394938)scale(0.1 -0.1)\">\n       <defs>\n        <path d=\"M 10.984375 1.515625 \nL 10.984375 10.5 \nQ 14.703125 8.734375 18.5 7.8125 \nQ 22.3125 6.890625 25.984375 6.890625 \nQ 35.75 6.890625 40.890625 13.453125 \nQ 46.046875 20.015625 46.78125 33.40625 \nQ 43.953125 29.203125 39.59375 26.953125 \nQ 35.25 24.703125 29.984375 24.703125 \nQ 19.046875 24.703125 12.671875 31.3125 \nQ 6.296875 37.9375 6.296875 49.421875 \nQ 6.296875 60.640625 12.9375 67.421875 \nQ 19.578125 74.21875 30.609375 74.21875 \nQ 43.265625 74.21875 49.921875 64.515625 \nQ 56.59375 54.828125 56.59375 36.375 \nQ 56.59375 19.140625 48.40625 8.859375 \nQ 40.234375 -1.421875 26.421875 -1.421875 \nQ 22.703125 -1.421875 18.890625 -0.6875 \nQ 15.09375 0.046875 10.984375 1.515625 \nz\nM 30.609375 32.421875 \nQ 37.25 32.421875 41.125 36.953125 \nQ 45.015625 41.5 45.015625 49.421875 \nQ 45.015625 57.28125 41.125 61.84375 \nQ 37.25 66.40625 30.609375 66.40625 \nQ 23.96875 66.40625 20.09375 61.84375 \nQ 16.21875 57.28125 16.21875 49.421875 \nQ 16.21875 41.5 20.09375 36.953125 \nQ 23.96875 32.421875 30.609375 32.421875 \nz\n\" id=\"DejaVuSans-57\"/>\n       </defs>\n       <use xlink:href=\"#DejaVuSans-57\"/>\n      </g>\n     </g>\n    </g>\n   </g>\n   <g id=\"matplotlib.axis_2\">\n    <g id=\"ytick_1\">\n     <g id=\"line2d_21\">\n      <defs>\n       <path d=\"M 0 0 \nL -3.5 0 \n\" id=\"m9fbc53dc78\" style=\"stroke:#000000;stroke-width:0.8;\"/>\n      </defs>\n      <g>\n       <use style=\"stroke:#000000;stroke-width:0.8;\" x=\"153.38125\" xlink:href=\"#m9fbc53dc78\" y=\"477.11479\"/>\n      </g>\n     </g>\n     <g id=\"text_11\">\n      <!-- Elena SAFONOVA -->\n      <g transform=\"translate(60.265625 480.914009)scale(0.1 -0.1)\">\n       <defs>\n        <path d=\"M 9.8125 72.90625 \nL 55.90625 72.90625 \nL 55.90625 64.59375 \nL 19.671875 64.59375 \nL 19.671875 43.015625 \nL 54.390625 43.015625 \nL 54.390625 34.71875 \nL 19.671875 34.71875 \nL 19.671875 8.296875 \nL 56.78125 8.296875 \nL 56.78125 0 \nL 9.8125 0 \nz\n\" id=\"DejaVuSans-69\"/>\n        <path d=\"M 9.421875 75.984375 \nL 18.40625 75.984375 \nL 18.40625 0 \nL 9.421875 0 \nz\n\" id=\"DejaVuSans-108\"/>\n        <path d=\"M 56.203125 29.59375 \nL 56.203125 25.203125 \nL 14.890625 25.203125 \nQ 15.484375 15.921875 20.484375 11.0625 \nQ 25.484375 6.203125 34.421875 6.203125 \nQ 39.59375 6.203125 44.453125 7.46875 \nQ 49.3125 8.734375 54.109375 11.28125 \nL 54.109375 2.78125 \nQ 49.265625 0.734375 44.1875 -0.34375 \nQ 39.109375 -1.421875 33.890625 -1.421875 \nQ 20.796875 -1.421875 13.15625 6.1875 \nQ 5.515625 13.8125 5.515625 26.8125 \nQ 5.515625 40.234375 12.765625 48.109375 \nQ 20.015625 56 32.328125 56 \nQ 43.359375 56 49.78125 48.890625 \nQ 56.203125 41.796875 56.203125 29.59375 \nz\nM 47.21875 32.234375 \nQ 47.125 39.59375 43.09375 43.984375 \nQ 39.0625 48.390625 32.421875 48.390625 \nQ 24.90625 48.390625 20.390625 44.140625 \nQ 15.875 39.890625 15.1875 32.171875 \nz\n\" id=\"DejaVuSans-101\"/>\n        <path d=\"M 54.890625 33.015625 \nL 54.890625 0 \nL 45.90625 0 \nL 45.90625 32.71875 \nQ 45.90625 40.484375 42.875 44.328125 \nQ 39.84375 48.1875 33.796875 48.1875 \nQ 26.515625 48.1875 22.3125 43.546875 \nQ 18.109375 38.921875 18.109375 30.90625 \nL 18.109375 0 \nL 9.078125 0 \nL 9.078125 54.6875 \nL 18.109375 54.6875 \nL 18.109375 46.1875 \nQ 21.34375 51.125 25.703125 53.5625 \nQ 30.078125 56 35.796875 56 \nQ 45.21875 56 50.046875 50.171875 \nQ 54.890625 44.34375 54.890625 33.015625 \nz\n\" id=\"DejaVuSans-110\"/>\n        <path d=\"M 34.28125 27.484375 \nQ 23.390625 27.484375 19.1875 25 \nQ 14.984375 22.515625 14.984375 16.5 \nQ 14.984375 11.71875 18.140625 8.90625 \nQ 21.296875 6.109375 26.703125 6.109375 \nQ 34.1875 6.109375 38.703125 11.40625 \nQ 43.21875 16.703125 43.21875 25.484375 \nL 43.21875 27.484375 \nz\nM 52.203125 31.203125 \nL 52.203125 0 \nL 43.21875 0 \nL 43.21875 8.296875 \nQ 40.140625 3.328125 35.546875 0.953125 \nQ 30.953125 -1.421875 24.3125 -1.421875 \nQ 15.921875 -1.421875 10.953125 3.296875 \nQ 6 8.015625 6 15.921875 \nQ 6 25.140625 12.171875 29.828125 \nQ 18.359375 34.515625 30.609375 34.515625 \nL 43.21875 34.515625 \nL 43.21875 35.40625 \nQ 43.21875 41.609375 39.140625 45 \nQ 35.0625 48.390625 27.6875 48.390625 \nQ 23 48.390625 18.546875 47.265625 \nQ 14.109375 46.140625 10.015625 43.890625 \nL 10.015625 52.203125 \nQ 14.9375 54.109375 19.578125 55.046875 \nQ 24.21875 56 28.609375 56 \nQ 40.484375 56 46.34375 49.84375 \nQ 52.203125 43.703125 52.203125 31.203125 \nz\n\" id=\"DejaVuSans-97\"/>\n        <path id=\"DejaVuSans-32\"/>\n        <path d=\"M 53.515625 70.515625 \nL 53.515625 60.890625 \nQ 47.90625 63.578125 42.921875 64.890625 \nQ 37.9375 66.21875 33.296875 66.21875 \nQ 25.25 66.21875 20.875 63.09375 \nQ 16.5 59.96875 16.5 54.203125 \nQ 16.5 49.359375 19.40625 46.890625 \nQ 22.3125 44.4375 30.421875 42.921875 \nL 36.375 41.703125 \nQ 47.40625 39.59375 52.65625 34.296875 \nQ 57.90625 29 57.90625 20.125 \nQ 57.90625 9.515625 50.796875 4.046875 \nQ 43.703125 -1.421875 29.984375 -1.421875 \nQ 24.8125 -1.421875 18.96875 -0.25 \nQ 13.140625 0.921875 6.890625 3.21875 \nL 6.890625 13.375 \nQ 12.890625 10.015625 18.65625 8.296875 \nQ 24.421875 6.59375 29.984375 6.59375 \nQ 38.421875 6.59375 43.015625 9.90625 \nQ 47.609375 13.234375 47.609375 19.390625 \nQ 47.609375 24.75 44.3125 27.78125 \nQ 41.015625 30.8125 33.5 32.328125 \nL 27.484375 33.5 \nQ 16.453125 35.6875 11.515625 40.375 \nQ 6.59375 45.0625 6.59375 53.421875 \nQ 6.59375 63.09375 13.40625 68.65625 \nQ 20.21875 74.21875 32.171875 74.21875 \nQ 37.3125 74.21875 42.625 73.28125 \nQ 47.953125 72.359375 53.515625 70.515625 \nz\n\" id=\"DejaVuSans-83\"/>\n        <path d=\"M 34.1875 63.1875 \nL 20.796875 26.90625 \nL 47.609375 26.90625 \nz\nM 28.609375 72.90625 \nL 39.796875 72.90625 \nL 67.578125 0 \nL 57.328125 0 \nL 50.6875 18.703125 \nL 17.828125 18.703125 \nL 11.1875 0 \nL 0.78125 0 \nz\n\" id=\"DejaVuSans-65\"/>\n        <path d=\"M 9.8125 72.90625 \nL 51.703125 72.90625 \nL 51.703125 64.59375 \nL 19.671875 64.59375 \nL 19.671875 43.109375 \nL 48.578125 43.109375 \nL 48.578125 34.8125 \nL 19.671875 34.8125 \nL 19.671875 0 \nL 9.8125 0 \nz\n\" id=\"DejaVuSans-70\"/>\n        <path d=\"M 39.40625 66.21875 \nQ 28.65625 66.21875 22.328125 58.203125 \nQ 16.015625 50.203125 16.015625 36.375 \nQ 16.015625 22.609375 22.328125 14.59375 \nQ 28.65625 6.59375 39.40625 6.59375 \nQ 50.140625 6.59375 56.421875 14.59375 \nQ 62.703125 22.609375 62.703125 36.375 \nQ 62.703125 50.203125 56.421875 58.203125 \nQ 50.140625 66.21875 39.40625 66.21875 \nz\nM 39.40625 74.21875 \nQ 54.734375 74.21875 63.90625 63.9375 \nQ 73.09375 53.65625 73.09375 36.375 \nQ 73.09375 19.140625 63.90625 8.859375 \nQ 54.734375 -1.421875 39.40625 -1.421875 \nQ 24.03125 -1.421875 14.8125 8.828125 \nQ 5.609375 19.09375 5.609375 36.375 \nQ 5.609375 53.65625 14.8125 63.9375 \nQ 24.03125 74.21875 39.40625 74.21875 \nz\n\" id=\"DejaVuSans-79\"/>\n        <path d=\"M 9.8125 72.90625 \nL 23.09375 72.90625 \nL 55.421875 11.921875 \nL 55.421875 72.90625 \nL 64.984375 72.90625 \nL 64.984375 0 \nL 51.703125 0 \nL 19.390625 60.984375 \nL 19.390625 0 \nL 9.8125 0 \nz\n\" id=\"DejaVuSans-78\"/>\n        <path d=\"M 28.609375 0 \nL 0.78125 72.90625 \nL 11.078125 72.90625 \nL 34.1875 11.53125 \nL 57.328125 72.90625 \nL 67.578125 72.90625 \nL 39.796875 0 \nz\n\" id=\"DejaVuSans-86\"/>\n       </defs>\n       <use xlink:href=\"#DejaVuSans-69\"/>\n       <use x=\"63.183594\" xlink:href=\"#DejaVuSans-108\"/>\n       <use x=\"90.966797\" xlink:href=\"#DejaVuSans-101\"/>\n       <use x=\"152.490234\" xlink:href=\"#DejaVuSans-110\"/>\n       <use x=\"215.869141\" xlink:href=\"#DejaVuSans-97\"/>\n       <use x=\"277.148438\" xlink:href=\"#DejaVuSans-32\"/>\n       <use x=\"308.935547\" xlink:href=\"#DejaVuSans-83\"/>\n       <use x=\"374.287109\" xlink:href=\"#DejaVuSans-65\"/>\n       <use x=\"442.695312\" xlink:href=\"#DejaVuSans-70\"/>\n       <use x=\"500.214844\" xlink:href=\"#DejaVuSans-79\"/>\n       <use x=\"578.925781\" xlink:href=\"#DejaVuSans-78\"/>\n       <use x=\"653.730469\" xlink:href=\"#DejaVuSans-79\"/>\n       <use x=\"730.691406\" xlink:href=\"#DejaVuSans-86\"/>\n       <use x=\"792.724609\" xlink:href=\"#DejaVuSans-65\"/>\n      </g>\n     </g>\n    </g>\n    <g id=\"ytick_2\">\n     <g id=\"line2d_22\">\n      <g>\n       <use style=\"stroke:#000000;stroke-width:0.8;\" x=\"153.38125\" xlink:href=\"#m9fbc53dc78\" y=\"451.863871\"/>\n      </g>\n     </g>\n     <g id=\"text_12\">\n      <!-- Алексей МАМАРИН -->\n      <g transform=\"translate(47.657812 455.66309)scale(0.1 -0.1)\">\n       <defs>\n        <path d=\"M 34.1875 63.1875 \nL 20.796875 26.90625 \nL 47.609375 26.90625 \nz\nM 28.609375 72.90625 \nL 39.796875 72.90625 \nL 67.578125 0 \nL 57.328125 0 \nL 50.6875 18.703125 \nL 17.828125 18.703125 \nL 11.1875 0 \nL 0.78125 0 \nz\n\" id=\"DejaVuSans-1040\"/>\n        <path d=\"M 3.71875 0 \nL 3.71875 7.46875 \nQ 12.59375 8.84375 15.328125 14.984375 \nQ 18.65625 23.640625 18.65625 45.75 \nL 18.65625 54.6875 \nL 55.609375 54.6875 \nL 55.609375 0 \nL 46.625 0 \nL 46.625 47.515625 \nL 27.640625 47.515625 \nL 27.640625 42.09375 \nQ 27.640625 21 23.34375 11.53125 \nQ 18.75 1.421875 3.71875 0 \nz\n\" id=\"DejaVuSans-1083\"/>\n        <path d=\"M 56.203125 29.59375 \nL 56.203125 25.203125 \nL 14.890625 25.203125 \nQ 15.484375 15.921875 20.484375 11.0625 \nQ 25.484375 6.203125 34.421875 6.203125 \nQ 39.59375 6.203125 44.453125 7.46875 \nQ 49.3125 8.734375 54.109375 11.28125 \nL 54.109375 2.78125 \nQ 49.265625 0.734375 44.1875 -0.34375 \nQ 39.109375 -1.421875 33.890625 -1.421875 \nQ 20.796875 -1.421875 13.15625 6.1875 \nQ 5.515625 13.8125 5.515625 26.8125 \nQ 5.515625 40.234375 12.765625 48.109375 \nQ 20.015625 56 32.328125 56 \nQ 43.359375 56 49.78125 48.890625 \nQ 56.203125 41.796875 56.203125 29.59375 \nz\nM 47.21875 32.234375 \nQ 47.125 39.59375 43.09375 43.984375 \nQ 39.0625 48.390625 32.421875 48.390625 \nQ 24.90625 48.390625 20.390625 44.140625 \nQ 15.875 39.890625 15.1875 32.171875 \nz\n\" id=\"DejaVuSans-1077\"/>\n        <path d=\"M 9.078125 54.6875 \nL 18.015625 54.6875 \nL 18.015625 29 \nL 43.359375 54.6875 \nL 54.390625 54.6875 \nL 33.5 33.546875 \nL 57.078125 0 \nL 47.015625 0 \nL 27.640625 27.59375 \nL 18.015625 17.828125 \nL 18.015625 0 \nL 9.078125 0 \nz\n\" id=\"DejaVuSans-1082\"/>\n        <path d=\"M 48.78125 52.59375 \nL 48.78125 44.1875 \nQ 44.96875 46.296875 41.140625 47.34375 \nQ 37.3125 48.390625 33.40625 48.390625 \nQ 24.65625 48.390625 19.8125 42.84375 \nQ 14.984375 37.3125 14.984375 27.296875 \nQ 14.984375 17.28125 19.8125 11.734375 \nQ 24.65625 6.203125 33.40625 6.203125 \nQ 37.3125 6.203125 41.140625 7.25 \nQ 44.96875 8.296875 48.78125 10.40625 \nL 48.78125 2.09375 \nQ 45.015625 0.34375 40.984375 -0.53125 \nQ 36.96875 -1.421875 32.421875 -1.421875 \nQ 20.0625 -1.421875 12.78125 6.34375 \nQ 5.515625 14.109375 5.515625 27.296875 \nQ 5.515625 40.671875 12.859375 48.328125 \nQ 20.21875 56 33.015625 56 \nQ 37.15625 56 41.109375 55.140625 \nQ 45.0625 54.296875 48.78125 52.59375 \nz\n\" id=\"DejaVuSans-1089\"/>\n        <path d=\"M 55.90625 54.6875 \nL 55.90625 0 \nL 46.96875 0 \nL 46.96875 43.890625 \nL 20.609375 0 \nL 9.078125 0 \nL 9.078125 54.6875 \nL 18.015625 54.6875 \nL 18.015625 10.890625 \nL 44.34375 54.6875 \nz\nM 17.21875 75.515625 \nL 22.984375 75.515625 \nQ 23.515625 71.859375 25.875 70.015625 \nQ 28.25 68.1875 32.5 68.1875 \nQ 36.703125 68.1875 39.046875 70 \nQ 41.390625 71.8125 42.015625 75.515625 \nL 47.78125 75.515625 \nQ 47.296875 68.53125 43.4375 65.015625 \nQ 39.578125 61.5 32.5 61.5 \nQ 25.421875 61.5 21.5625 65.015625 \nQ 17.703125 68.53125 17.21875 75.515625 \nz\n\" id=\"DejaVuSans-1081\"/>\n        <path d=\"M 9.8125 72.90625 \nL 24.515625 72.90625 \nL 43.109375 23.296875 \nL 61.8125 72.90625 \nL 76.515625 72.90625 \nL 76.515625 0 \nL 66.890625 0 \nL 66.890625 64.015625 \nL 48.09375 14.015625 \nL 38.1875 14.015625 \nL 19.390625 64.015625 \nL 19.390625 0 \nL 9.8125 0 \nz\n\" id=\"DejaVuSans-1052\"/>\n        <path d=\"M 19.671875 64.796875 \nL 19.671875 37.40625 \nL 32.078125 37.40625 \nQ 38.96875 37.40625 42.71875 40.96875 \nQ 46.484375 44.53125 46.484375 51.125 \nQ 46.484375 57.671875 42.71875 61.234375 \nQ 38.96875 64.796875 32.078125 64.796875 \nz\nM 9.8125 72.90625 \nL 32.078125 72.90625 \nQ 44.34375 72.90625 50.609375 67.359375 \nQ 56.890625 61.8125 56.890625 51.125 \nQ 56.890625 40.328125 50.609375 34.8125 \nQ 44.34375 29.296875 32.078125 29.296875 \nL 19.671875 29.296875 \nL 19.671875 0 \nL 9.8125 0 \nz\n\" id=\"DejaVuSans-1056\"/>\n        <path d=\"M 64.984375 72.90625 \nL 64.984375 0 \nL 55.421875 0 \nL 55.421875 60.984375 \nL 23.09375 0 \nL 9.8125 0 \nL 9.8125 72.90625 \nL 19.390625 72.90625 \nL 19.390625 11.921875 \nL 51.703125 72.90625 \nz\n\" id=\"DejaVuSans-1048\"/>\n        <path d=\"M 9.8125 72.90625 \nL 19.671875 72.90625 \nL 19.671875 43.015625 \nL 55.515625 43.015625 \nL 55.515625 72.90625 \nL 65.375 72.90625 \nL 65.375 0 \nL 55.515625 0 \nL 55.515625 34.71875 \nL 19.671875 34.71875 \nL 19.671875 0 \nL 9.8125 0 \nz\n\" id=\"DejaVuSans-1053\"/>\n       </defs>\n       <use xlink:href=\"#DejaVuSans-1040\"/>\n       <use x=\"68.408203\" xlink:href=\"#DejaVuSans-1083\"/>\n       <use x=\"132.324219\" xlink:href=\"#DejaVuSans-1077\"/>\n       <use x=\"193.847656\" xlink:href=\"#DejaVuSans-1082\"/>\n       <use x=\"254.248047\" xlink:href=\"#DejaVuSans-1089\"/>\n       <use x=\"309.228516\" xlink:href=\"#DejaVuSans-1077\"/>\n       <use x=\"370.751953\" xlink:href=\"#DejaVuSans-1081\"/>\n       <use x=\"435.742188\" xlink:href=\"#DejaVuSans-32\"/>\n       <use x=\"467.529297\" xlink:href=\"#DejaVuSans-1052\"/>\n       <use x=\"553.808594\" xlink:href=\"#DejaVuSans-1040\"/>\n       <use x=\"622.216797\" xlink:href=\"#DejaVuSans-1052\"/>\n       <use x=\"708.496094\" xlink:href=\"#DejaVuSans-1040\"/>\n       <use x=\"776.904297\" xlink:href=\"#DejaVuSans-1056\"/>\n       <use x=\"837.207031\" xlink:href=\"#DejaVuSans-1048\"/>\n       <use x=\"912.011719\" xlink:href=\"#DejaVuSans-1053\"/>\n      </g>\n     </g>\n    </g>\n    <g id=\"ytick_3\">\n     <g id=\"line2d_23\">\n      <g>\n       <use style=\"stroke:#000000;stroke-width:0.8;\" x=\"153.38125\" xlink:href=\"#m9fbc53dc78\" y=\"426.612952\"/>\n      </g>\n     </g>\n     <g id=\"text_13\">\n      <!-- Павел АЛТЫШОВ -->\n      <g transform=\"translate(56.396875 430.412171)scale(0.1 -0.1)\">\n       <defs>\n        <path d=\"M 65.375 72.90625 \nL 65.375 0 \nL 55.515625 0 \nL 55.515625 64.59375 \nL 19.671875 64.59375 \nL 19.671875 0 \nL 9.8125 0 \nL 9.8125 72.90625 \nz\n\" id=\"DejaVuSans-1055\"/>\n        <path d=\"M 34.28125 27.484375 \nQ 23.390625 27.484375 19.1875 25 \nQ 14.984375 22.515625 14.984375 16.5 \nQ 14.984375 11.71875 18.140625 8.90625 \nQ 21.296875 6.109375 26.703125 6.109375 \nQ 34.1875 6.109375 38.703125 11.40625 \nQ 43.21875 16.703125 43.21875 25.484375 \nL 43.21875 27.484375 \nz\nM 52.203125 31.203125 \nL 52.203125 0 \nL 43.21875 0 \nL 43.21875 8.296875 \nQ 40.140625 3.328125 35.546875 0.953125 \nQ 30.953125 -1.421875 24.3125 -1.421875 \nQ 15.921875 -1.421875 10.953125 3.296875 \nQ 6 8.015625 6 15.921875 \nQ 6 25.140625 12.171875 29.828125 \nQ 18.359375 34.515625 30.609375 34.515625 \nL 43.21875 34.515625 \nL 43.21875 35.40625 \nQ 43.21875 41.609375 39.140625 45 \nQ 35.0625 48.390625 27.6875 48.390625 \nQ 23 48.390625 18.546875 47.265625 \nQ 14.109375 46.140625 10.015625 43.890625 \nL 10.015625 52.203125 \nQ 14.9375 54.109375 19.578125 55.046875 \nQ 24.21875 56 28.609375 56 \nQ 40.484375 56 46.34375 49.84375 \nQ 52.203125 43.703125 52.203125 31.203125 \nz\n\" id=\"DejaVuSans-1072\"/>\n        <path d=\"M 18.0625 25.203125 \nL 18.0625 7.171875 \nL 30.859375 7.171875 \nQ 37.015625 7.171875 40.234375 9.484375 \nQ 43.453125 11.8125 43.453125 16.21875 \nQ 43.453125 20.609375 40.234375 22.90625 \nQ 37.015625 25.203125 30.859375 25.203125 \nz\nM 18.0625 47.515625 \nL 18.0625 32.375 \nL 29.890625 32.375 \nQ 34.96875 32.375 38.1875 34.390625 \nQ 41.40625 36.421875 41.40625 40.046875 \nQ 41.40625 43.65625 38.1875 45.578125 \nQ 34.96875 47.515625 29.890625 47.515625 \nz\nM 9.078125 54.6875 \nL 30.46875 54.6875 \nQ 40.09375 54.6875 45.265625 51.171875 \nQ 50.4375 47.65625 50.4375 41.15625 \nQ 50.4375 36.140625 47.796875 33.171875 \nQ 45.171875 30.21875 39.984375 29.5 \nQ 46.1875 28.328125 49.609375 24.609375 \nQ 53.03125 20.90625 53.03125 15.328125 \nQ 53.03125 8.015625 47.390625 4 \nQ 41.75 0 31.296875 0 \nL 9.078125 0 \nz\n\" id=\"DejaVuSans-1074\"/>\n        <path d=\"M 4.109375 0 \nL 4.109375 8.296875 \nQ 14.703125 10.59375 17.71875 18.609375 \nQ 21.96875 31.203125 21.96875 60.5 \nL 21.96875 72.90625 \nL 65.328125 72.90625 \nL 65.328125 0 \nL 55.46875 0 \nL 55.46875 64.59375 \nL 31.78125 64.59375 \nL 31.78125 55.609375 \nQ 31.78125 27.984375 26.8125 15.09375 \nQ 22.015625 2.734375 4.109375 0 \nz\n\" id=\"DejaVuSans-1051\"/>\n        <path d=\"M -0.296875 72.90625 \nL 61.375 72.90625 \nL 61.375 64.59375 \nL 35.5 64.59375 \nL 35.5 0 \nL 25.59375 0 \nL 25.59375 64.59375 \nL -0.296875 64.59375 \nz\n\" id=\"DejaVuSans-1058\"/>\n        <path d=\"M 51.125 21.4375 \nQ 51.125 28.21875 47.265625 31.546875 \nQ 43.453125 34.8125 35.5 34.8125 \nL 19.671875 34.8125 \nL 19.671875 8.109375 \nL 35.5 8.109375 \nQ 43.453125 8.109375 47.265625 11.421875 \nQ 51.125 14.703125 51.125 21.4375 \nz\nM 9.8125 72.90625 \nL 19.671875 72.90625 \nL 19.671875 42.921875 \nL 35.984375 42.921875 \nQ 48.25 42.921875 54.890625 37.59375 \nQ 61.53125 32.28125 61.53125 21.4375 \nQ 61.53125 10.640625 54.890625 5.3125 \nQ 48.25 0 35.984375 0 \nL 9.8125 0 \nz\nM 68.5625 72.90625 \nL 78.421875 72.90625 \nL 78.421875 0 \nL 68.5625 0 \nz\n\" id=\"DejaVuSans-1067\"/>\n        <path d=\"M 58.40625 8.296875 \nL 87.25 8.296875 \nL 87.25 72.90625 \nL 97.125 72.90625 \nL 97.125 0 \nL 9.8125 0 \nL 9.8125 72.90625 \nL 19.671875 72.90625 \nL 19.671875 8.296875 \nL 48.53125 8.296875 \nL 48.53125 72.90625 \nL 58.40625 72.90625 \nz\n\" id=\"DejaVuSans-1064\"/>\n        <path d=\"M 39.40625 66.21875 \nQ 28.65625 66.21875 22.328125 58.203125 \nQ 16.015625 50.203125 16.015625 36.375 \nQ 16.015625 22.609375 22.328125 14.59375 \nQ 28.65625 6.59375 39.40625 6.59375 \nQ 50.140625 6.59375 56.421875 14.59375 \nQ 62.703125 22.609375 62.703125 36.375 \nQ 62.703125 50.203125 56.421875 58.203125 \nQ 50.140625 66.21875 39.40625 66.21875 \nz\nM 39.40625 74.21875 \nQ 54.734375 74.21875 63.90625 63.9375 \nQ 73.09375 53.65625 73.09375 36.375 \nQ 73.09375 19.140625 63.90625 8.859375 \nQ 54.734375 -1.421875 39.40625 -1.421875 \nQ 24.03125 -1.421875 14.8125 8.828125 \nQ 5.609375 19.09375 5.609375 36.375 \nQ 5.609375 53.65625 14.8125 63.9375 \nQ 24.03125 74.21875 39.40625 74.21875 \nz\n\" id=\"DejaVuSans-1054\"/>\n        <path d=\"M 19.671875 34.8125 \nL 19.671875 8.109375 \nL 35.5 8.109375 \nQ 43.453125 8.109375 47.28125 11.40625 \nQ 51.125 14.703125 51.125 21.484375 \nQ 51.125 28.328125 47.28125 31.5625 \nQ 43.453125 34.8125 35.5 34.8125 \nz\nM 19.671875 64.796875 \nL 19.671875 42.828125 \nL 34.28125 42.828125 \nQ 41.5 42.828125 45.03125 45.53125 \nQ 48.578125 48.25 48.578125 53.8125 \nQ 48.578125 59.328125 45.03125 62.0625 \nQ 41.5 64.796875 34.28125 64.796875 \nz\nM 9.8125 72.90625 \nL 35.015625 72.90625 \nQ 46.296875 72.90625 52.390625 68.21875 \nQ 58.5 63.53125 58.5 54.890625 \nQ 58.5 48.1875 55.375 44.234375 \nQ 52.25 40.28125 46.1875 39.3125 \nQ 53.46875 37.75 57.5 32.78125 \nQ 61.53125 27.828125 61.53125 20.40625 \nQ 61.53125 10.640625 54.890625 5.3125 \nQ 48.25 0 35.984375 0 \nL 9.8125 0 \nz\n\" id=\"DejaVuSans-1042\"/>\n       </defs>\n       <use xlink:href=\"#DejaVuSans-1055\"/>\n       <use x=\"75.195312\" xlink:href=\"#DejaVuSans-1072\"/>\n       <use x=\"136.474609\" xlink:href=\"#DejaVuSans-1074\"/>\n       <use x=\"195.410156\" xlink:href=\"#DejaVuSans-1077\"/>\n       <use x=\"256.933594\" xlink:href=\"#DejaVuSans-1083\"/>\n       <use x=\"320.849609\" xlink:href=\"#DejaVuSans-32\"/>\n       <use x=\"352.636719\" xlink:href=\"#DejaVuSans-1040\"/>\n       <use x=\"421.044922\" xlink:href=\"#DejaVuSans-1051\"/>\n       <use x=\"496.240234\" xlink:href=\"#DejaVuSans-1058\"/>\n       <use x=\"557.324219\" xlink:href=\"#DejaVuSans-1067\"/>\n       <use x=\"645.556641\" xlink:href=\"#DejaVuSans-1064\"/>\n       <use x=\"752.490234\" xlink:href=\"#DejaVuSans-1054\"/>\n       <use x=\"831.201172\" xlink:href=\"#DejaVuSans-1042\"/>\n      </g>\n     </g>\n    </g>\n    <g id=\"ytick_4\">\n     <g id=\"line2d_24\">\n      <g>\n       <use style=\"stroke:#000000;stroke-width:0.8;\" x=\"153.38125\" xlink:href=\"#m9fbc53dc78\" y=\"401.362033\"/>\n      </g>\n     </g>\n     <g id=\"text_14\">\n      <!-- Александр ИМЕНИН -->\n      <g transform=\"translate(41.4 405.161252)scale(0.1 -0.1)\">\n       <defs>\n        <path d=\"M 9.078125 54.6875 \nL 18.109375 54.6875 \nL 18.109375 32.375 \nL 47.265625 32.375 \nL 47.265625 54.6875 \nL 56.296875 54.6875 \nL 56.296875 0 \nL 47.265625 0 \nL 47.265625 25.203125 \nL 18.109375 25.203125 \nL 18.109375 0 \nL 9.078125 0 \nz\n\" id=\"DejaVuSans-1085\"/>\n        <path d=\"M 21.625 7.171875 \nL 47.703125 7.171875 \nL 47.703125 47.515625 \nL 28.8125 47.515625 \nL 28.8125 40.671875 \nQ 28.8125 20.5625 23.046875 9.8125 \nz\nM 8.59375 7.171875 \nQ 13.03125 9.125 14.984375 13.28125 \nQ 19.78125 23.578125 19.78125 44.34375 \nL 19.78125 54.6875 \nL 56.734375 54.6875 \nL 56.734375 7.171875 \nL 63.921875 7.171875 \nL 63.921875 -13.8125 \nL 56.734375 -13.8125 \nL 56.734375 0 \nL 12.40625 0 \nL 12.40625 -13.8125 \nL 5.21875 -13.8125 \nL 5.21875 7.171875 \nz\n\" id=\"DejaVuSans-1076\"/>\n        <path d=\"M 18.109375 8.203125 \nL 18.109375 -20.796875 \nL 9.078125 -20.796875 \nL 9.078125 54.6875 \nL 18.109375 54.6875 \nL 18.109375 46.390625 \nQ 20.953125 51.265625 25.265625 53.625 \nQ 29.59375 56 35.59375 56 \nQ 45.5625 56 51.78125 48.09375 \nQ 58.015625 40.1875 58.015625 27.296875 \nQ 58.015625 14.40625 51.78125 6.484375 \nQ 45.5625 -1.421875 35.59375 -1.421875 \nQ 29.59375 -1.421875 25.265625 0.953125 \nQ 20.953125 3.328125 18.109375 8.203125 \nz\nM 48.6875 27.296875 \nQ 48.6875 37.203125 44.609375 42.84375 \nQ 40.53125 48.484375 33.40625 48.484375 \nQ 26.265625 48.484375 22.1875 42.84375 \nQ 18.109375 37.203125 18.109375 27.296875 \nQ 18.109375 17.390625 22.1875 11.75 \nQ 26.265625 6.109375 33.40625 6.109375 \nQ 40.53125 6.109375 44.609375 11.75 \nQ 48.6875 17.390625 48.6875 27.296875 \nz\n\" id=\"DejaVuSans-1088\"/>\n        <path d=\"M 9.8125 72.90625 \nL 55.90625 72.90625 \nL 55.90625 64.59375 \nL 19.671875 64.59375 \nL 19.671875 43.015625 \nL 54.390625 43.015625 \nL 54.390625 34.71875 \nL 19.671875 34.71875 \nL 19.671875 8.296875 \nL 56.78125 8.296875 \nL 56.78125 0 \nL 9.8125 0 \nz\n\" id=\"DejaVuSans-1045\"/>\n       </defs>\n       <use xlink:href=\"#DejaVuSans-1040\"/>\n       <use x=\"68.408203\" xlink:href=\"#DejaVuSans-1083\"/>\n       <use x=\"132.324219\" xlink:href=\"#DejaVuSans-1077\"/>\n       <use x=\"193.847656\" xlink:href=\"#DejaVuSans-1082\"/>\n       <use x=\"254.248047\" xlink:href=\"#DejaVuSans-1089\"/>\n       <use x=\"309.228516\" xlink:href=\"#DejaVuSans-1072\"/>\n       <use x=\"370.507812\" xlink:href=\"#DejaVuSans-1085\"/>\n       <use x=\"435.888672\" xlink:href=\"#DejaVuSans-1076\"/>\n       <use x=\"505.029297\" xlink:href=\"#DejaVuSans-1088\"/>\n       <use x=\"568.505859\" xlink:href=\"#DejaVuSans-32\"/>\n       <use x=\"600.292969\" xlink:href=\"#DejaVuSans-1048\"/>\n       <use x=\"675.097656\" xlink:href=\"#DejaVuSans-1052\"/>\n       <use x=\"761.376953\" xlink:href=\"#DejaVuSans-1045\"/>\n       <use x=\"824.560547\" xlink:href=\"#DejaVuSans-1053\"/>\n       <use x=\"899.755859\" xlink:href=\"#DejaVuSans-1048\"/>\n       <use x=\"974.560547\" xlink:href=\"#DejaVuSans-1053\"/>\n      </g>\n     </g>\n    </g>\n    <g id=\"ytick_5\">\n     <g id=\"line2d_25\">\n      <g>\n       <use style=\"stroke:#000000;stroke-width:0.8;\" x=\"153.38125\" xlink:href=\"#m9fbc53dc78\" y=\"376.111114\"/>\n      </g>\n     </g>\n     <g id=\"text_15\">\n      <!-- Андрей ТАРАБРИН -->\n      <g transform=\"translate(50.2 379.910333)scale(0.1 -0.1)\">\n       <defs>\n        <path d=\"M 51.125 21.4375 \nQ 51.125 28.21875 47.28125 31.515625 \nQ 43.453125 34.8125 35.5 34.8125 \nL 19.671875 34.8125 \nL 19.671875 8.109375 \nL 35.5 8.109375 \nQ 43.453125 8.109375 47.28125 11.40625 \nQ 51.125 14.703125 51.125 21.4375 \nz\nM 56.390625 72.90625 \nL 56.390625 64.796875 \nL 19.671875 64.796875 \nL 19.671875 42.921875 \nL 35.984375 42.921875 \nQ 48.25 42.921875 54.890625 37.59375 \nQ 61.53125 32.28125 61.53125 21.4375 \nQ 61.53125 10.640625 55.109375 5.3125 \nQ 48.6875 0 35.984375 0 \nL 9.8125 0 \nL 9.8125 72.90625 \nz\n\" id=\"DejaVuSans-1041\"/>\n       </defs>\n       <use xlink:href=\"#DejaVuSans-1040\"/>\n       <use x=\"68.408203\" xlink:href=\"#DejaVuSans-1085\"/>\n       <use x=\"133.789062\" xlink:href=\"#DejaVuSans-1076\"/>\n       <use x=\"202.929688\" xlink:href=\"#DejaVuSans-1088\"/>\n       <use x=\"266.40625\" xlink:href=\"#DejaVuSans-1077\"/>\n       <use x=\"327.929688\" xlink:href=\"#DejaVuSans-1081\"/>\n       <use x=\"392.919922\" xlink:href=\"#DejaVuSans-32\"/>\n       <use x=\"424.707031\" xlink:href=\"#DejaVuSans-1058\"/>\n       <use x=\"485.791016\" xlink:href=\"#DejaVuSans-1040\"/>\n       <use x=\"554.199219\" xlink:href=\"#DejaVuSans-1056\"/>\n       <use x=\"614.501953\" xlink:href=\"#DejaVuSans-1040\"/>\n       <use x=\"682.910156\" xlink:href=\"#DejaVuSans-1041\"/>\n       <use x=\"751.513672\" xlink:href=\"#DejaVuSans-1056\"/>\n       <use x=\"811.816406\" xlink:href=\"#DejaVuSans-1048\"/>\n       <use x=\"886.621094\" xlink:href=\"#DejaVuSans-1053\"/>\n      </g>\n     </g>\n    </g>\n    <g id=\"ytick_6\">\n     <g id=\"line2d_26\">\n      <g>\n       <use style=\"stroke:#000000;stroke-width:0.8;\" x=\"153.38125\" xlink:href=\"#m9fbc53dc78\" y=\"350.860195\"/>\n      </g>\n     </g>\n     <g id=\"text_16\">\n      <!-- Elena SHAMSHINA -->\n      <g transform=\"translate(55.009375 354.659414)scale(0.1 -0.1)\">\n       <defs>\n        <path d=\"M 9.8125 72.90625 \nL 19.671875 72.90625 \nL 19.671875 43.015625 \nL 55.515625 43.015625 \nL 55.515625 72.90625 \nL 65.375 72.90625 \nL 65.375 0 \nL 55.515625 0 \nL 55.515625 34.71875 \nL 19.671875 34.71875 \nL 19.671875 0 \nL 9.8125 0 \nz\n\" id=\"DejaVuSans-72\"/>\n        <path d=\"M 9.8125 72.90625 \nL 24.515625 72.90625 \nL 43.109375 23.296875 \nL 61.8125 72.90625 \nL 76.515625 72.90625 \nL 76.515625 0 \nL 66.890625 0 \nL 66.890625 64.015625 \nL 48.09375 14.015625 \nL 38.1875 14.015625 \nL 19.390625 64.015625 \nL 19.390625 0 \nL 9.8125 0 \nz\n\" id=\"DejaVuSans-77\"/>\n        <path d=\"M 9.8125 72.90625 \nL 19.671875 72.90625 \nL 19.671875 0 \nL 9.8125 0 \nz\n\" id=\"DejaVuSans-73\"/>\n       </defs>\n       <use xlink:href=\"#DejaVuSans-69\"/>\n       <use x=\"63.183594\" xlink:href=\"#DejaVuSans-108\"/>\n       <use x=\"90.966797\" xlink:href=\"#DejaVuSans-101\"/>\n       <use x=\"152.490234\" xlink:href=\"#DejaVuSans-110\"/>\n       <use x=\"215.869141\" xlink:href=\"#DejaVuSans-97\"/>\n       <use x=\"277.148438\" xlink:href=\"#DejaVuSans-32\"/>\n       <use x=\"308.935547\" xlink:href=\"#DejaVuSans-83\"/>\n       <use x=\"372.412109\" xlink:href=\"#DejaVuSans-72\"/>\n       <use x=\"447.607422\" xlink:href=\"#DejaVuSans-65\"/>\n       <use x=\"516.015625\" xlink:href=\"#DejaVuSans-77\"/>\n       <use x=\"602.294922\" xlink:href=\"#DejaVuSans-83\"/>\n       <use x=\"665.771484\" xlink:href=\"#DejaVuSans-72\"/>\n       <use x=\"740.966797\" xlink:href=\"#DejaVuSans-73\"/>\n       <use x=\"770.458984\" xlink:href=\"#DejaVuSans-78\"/>\n       <use x=\"845.263672\" xlink:href=\"#DejaVuSans-65\"/>\n      </g>\n     </g>\n    </g>\n    <g id=\"ytick_7\">\n     <g id=\"line2d_27\">\n      <g>\n       <use style=\"stroke:#000000;stroke-width:0.8;\" x=\"153.38125\" xlink:href=\"#m9fbc53dc78\" y=\"325.609276\"/>\n      </g>\n     </g>\n     <g id=\"text_17\">\n      <!-- Лидия ПОПОВА -->\n      <g transform=\"translate(65.270312 329.408494)scale(0.1 -0.1)\">\n       <defs>\n        <path d=\"M 55.90625 54.6875 \nL 55.90625 0 \nL 46.96875 0 \nL 46.96875 43.890625 \nL 20.609375 0 \nL 9.078125 0 \nL 9.078125 54.6875 \nL 18.015625 54.6875 \nL 18.015625 10.890625 \nL 44.34375 54.6875 \nz\n\" id=\"DejaVuSans-1080\"/>\n        <path d=\"M 18.453125 38.921875 \nQ 18.453125 34.859375 21.578125 32.5625 \nQ 24.703125 30.28125 30.515625 30.28125 \nL 42.625 30.28125 \nL 42.625 47.515625 \nL 30.515625 47.515625 \nQ 24.703125 47.515625 21.578125 45.265625 \nQ 18.453125 43.015625 18.453125 38.921875 \nz\nM 5.671875 0 \nL 22.359375 23.96875 \nQ 16.703125 25.25 12.9375 28.59375 \nQ 9.1875 31.9375 9.1875 38.921875 \nQ 9.1875 46.828125 14.421875 50.75 \nQ 19.671875 54.6875 30.28125 54.6875 \nL 51.65625 54.6875 \nL 51.65625 0 \nL 42.625 0 \nL 42.625 23.09375 \nL 31.453125 23.09375 \nL 15.328125 0 \nz\n\" id=\"DejaVuSans-1103\"/>\n       </defs>\n       <use xlink:href=\"#DejaVuSans-1051\"/>\n       <use x=\"75.195312\" xlink:href=\"#DejaVuSans-1080\"/>\n       <use x=\"140.185547\" xlink:href=\"#DejaVuSans-1076\"/>\n       <use x=\"209.326172\" xlink:href=\"#DejaVuSans-1080\"/>\n       <use x=\"274.316406\" xlink:href=\"#DejaVuSans-1103\"/>\n       <use x=\"334.472656\" xlink:href=\"#DejaVuSans-32\"/>\n       <use x=\"366.259766\" xlink:href=\"#DejaVuSans-1055\"/>\n       <use x=\"441.455078\" xlink:href=\"#DejaVuSans-1054\"/>\n       <use x=\"520.166016\" xlink:href=\"#DejaVuSans-1055\"/>\n       <use x=\"595.361328\" xlink:href=\"#DejaVuSans-1054\"/>\n       <use x=\"674.072266\" xlink:href=\"#DejaVuSans-1042\"/>\n       <use x=\"742.675781\" xlink:href=\"#DejaVuSans-1040\"/>\n      </g>\n     </g>\n    </g>\n    <g id=\"ytick_8\">\n     <g id=\"line2d_28\">\n      <g>\n       <use style=\"stroke:#000000;stroke-width:0.8;\" x=\"153.38125\" xlink:href=\"#m9fbc53dc78\" y=\"300.358357\"/>\n      </g>\n     </g>\n     <g id=\"text_18\">\n      <!-- Александра БОРОДИНОВА -->\n      <g transform=\"translate(7.2 304.157575)scale(0.1 -0.1)\">\n       <defs>\n        <path d=\"M 22.796875 8.296875 \nL 55.03125 8.296875 \nL 55.03125 64.59375 \nL 31.34375 64.59375 \nL 31.34375 54.25 \nQ 31.34375 29.890625 25.875 13.71875 \nQ 24.75 10.40625 22.796875 8.296875 \nz\nM 8.40625 8.296875 \nQ 14.9375 11.375 16.796875 17.234375 \nQ 21.53125 32.28125 21.53125 59.125 \nL 21.53125 72.90625 \nL 64.890625 72.90625 \nL 64.890625 8.296875 \nL 73.1875 8.296875 \nL 73.1875 -15.671875 \nL 64.890625 -15.671875 \nL 64.890625 0 \nL 13.234375 0 \nL 13.234375 -15.671875 \nL 4.9375 -15.671875 \nL 4.9375 8.296875 \nz\n\" id=\"DejaVuSans-1044\"/>\n       </defs>\n       <use xlink:href=\"#DejaVuSans-1040\"/>\n       <use x=\"68.408203\" xlink:href=\"#DejaVuSans-1083\"/>\n       <use x=\"132.324219\" xlink:href=\"#DejaVuSans-1077\"/>\n       <use x=\"193.847656\" xlink:href=\"#DejaVuSans-1082\"/>\n       <use x=\"254.248047\" xlink:href=\"#DejaVuSans-1089\"/>\n       <use x=\"309.228516\" xlink:href=\"#DejaVuSans-1072\"/>\n       <use x=\"370.507812\" xlink:href=\"#DejaVuSans-1085\"/>\n       <use x=\"435.888672\" xlink:href=\"#DejaVuSans-1076\"/>\n       <use x=\"505.029297\" xlink:href=\"#DejaVuSans-1088\"/>\n       <use x=\"568.505859\" xlink:href=\"#DejaVuSans-1072\"/>\n       <use x=\"629.785156\" xlink:href=\"#DejaVuSans-32\"/>\n       <use x=\"661.572266\" xlink:href=\"#DejaVuSans-1041\"/>\n       <use x=\"730.175781\" xlink:href=\"#DejaVuSans-1054\"/>\n       <use x=\"808.886719\" xlink:href=\"#DejaVuSans-1056\"/>\n       <use x=\"869.189453\" xlink:href=\"#DejaVuSans-1054\"/>\n       <use x=\"947.900391\" xlink:href=\"#DejaVuSans-1044\"/>\n       <use x=\"1026.025391\" xlink:href=\"#DejaVuSans-1048\"/>\n       <use x=\"1100.830078\" xlink:href=\"#DejaVuSans-1053\"/>\n       <use x=\"1176.025391\" xlink:href=\"#DejaVuSans-1054\"/>\n       <use x=\"1254.736328\" xlink:href=\"#DejaVuSans-1042\"/>\n       <use x=\"1323.339844\" xlink:href=\"#DejaVuSans-1040\"/>\n      </g>\n     </g>\n    </g>\n    <g id=\"ytick_9\">\n     <g id=\"line2d_29\">\n      <g>\n       <use style=\"stroke:#000000;stroke-width:0.8;\" x=\"153.38125\" xlink:href=\"#m9fbc53dc78\" y=\"275.107438\"/>\n      </g>\n     </g>\n     <g id=\"text_19\">\n      <!-- Ирина КУЗЬМЕНКО -->\n      <g transform=\"translate(46.304687 278.906656)scale(0.1 -0.1)\">\n       <defs>\n        <path d=\"M 9.8125 72.90625 \nL 19.671875 72.90625 \nL 19.671875 36.859375 \nL 54.9375 72.90625 \nL 67.578125 72.90625 \nL 39.40625 44.09375 \nL 69.046875 0 \nL 58.296875 0 \nL 33.015625 37.546875 \nL 19.671875 23.921875 \nL 19.671875 0 \nL 9.8125 0 \nz\n\" id=\"DejaVuSans-1050\"/>\n        <path d=\"M 31.984375 8.84375 \nQ 30.953125 6.390625 29.390625 4.546875 \nQ 25.53125 0 13.28125 0 \nL 9.515625 0 \nL 9.515625 8.296875 \nL 12.59375 8.296875 \nQ 18.40625 8.296875 20.65625 9.625 \nQ 22.015625 10.453125 22.90625 12.5 \nL 25.09375 17.671875 \nL 1.703125 72.90625 \nL 12.3125 72.90625 \nL 30.421875 30.125 \nL 48.640625 72.90625 \nL 59.234375 72.90625 \nz\n\" id=\"DejaVuSans-1059\"/>\n        <path d=\"M 28.5625 74.21875 \nQ 40.578125 74.21875 48.1875 69.109375 \nQ 55.8125 64.015625 55.8125 55.328125 \nQ 55.8125 49.265625 52.34375 45.09375 \nQ 48.875 40.921875 42.484375 39.3125 \nQ 49.5625 37.796875 53.53125 33 \nQ 57.515625 28.21875 57.515625 21.1875 \nQ 57.515625 9.96875 48.84375 4.265625 \nQ 40.1875 -1.421875 28.5625 -1.421875 \nQ 22.609375 -1.421875 15.671875 0.1875 \nQ 8.734375 1.8125 6.59375 3.171875 \nL 6.59375 13.328125 \nQ 14.0625 8.984375 18.1875 7.9375 \nQ 22.3125 6.890625 28.375 6.890625 \nQ 37.546875 6.890625 42.625 10.40625 \nQ 47.703125 13.921875 47.703125 21.1875 \nQ 47.703125 27.640625 43.1875 31.265625 \nQ 38.671875 34.90625 29.15625 34.90625 \nL 19.1875 34.90625 \nL 19.1875 43.015625 \nL 29.546875 43.015625 \nQ 38.28125 43.015625 42.140625 45.921875 \nQ 46 48.828125 46 54.296875 \nQ 46 59.90625 42.015625 62.90625 \nQ 38.03125 65.921875 28.375 65.921875 \nQ 21.828125 65.921875 19.578125 65.328125 \nQ 17.328125 64.75 7.328125 60.984375 \nL 7.328125 70.609375 \nQ 12.84375 72.5625 18.59375 73.390625 \nQ 24.359375 74.21875 28.5625 74.21875 \nz\n\" id=\"DejaVuSans-1047\"/>\n        <path d=\"M 51.125 21.4375 \nQ 51.125 28.21875 47.265625 31.546875 \nQ 43.453125 34.8125 35.5 34.8125 \nL 19.671875 34.8125 \nL 19.671875 8.109375 \nL 35.5 8.109375 \nQ 43.453125 8.109375 47.265625 11.421875 \nQ 51.125 14.703125 51.125 21.4375 \nz\nM 9.8125 72.90625 \nL 19.671875 72.90625 \nL 19.671875 42.921875 \nL 35.984375 42.921875 \nQ 48.25 42.921875 54.890625 37.59375 \nQ 61.53125 32.28125 61.53125 21.4375 \nQ 61.53125 10.640625 54.890625 5.3125 \nQ 48.25 0 35.984375 0 \nL 9.8125 0 \nz\n\" id=\"DejaVuSans-1068\"/>\n       </defs>\n       <use xlink:href=\"#DejaVuSans-1048\"/>\n       <use x=\"74.804688\" xlink:href=\"#DejaVuSans-1088\"/>\n       <use x=\"138.28125\" xlink:href=\"#DejaVuSans-1080\"/>\n       <use x=\"203.271484\" xlink:href=\"#DejaVuSans-1085\"/>\n       <use x=\"268.652344\" xlink:href=\"#DejaVuSans-1072\"/>\n       <use x=\"329.931641\" xlink:href=\"#DejaVuSans-32\"/>\n       <use x=\"361.71875\" xlink:href=\"#DejaVuSans-1050\"/>\n       <use x=\"432.714844\" xlink:href=\"#DejaVuSans-1059\"/>\n       <use x=\"493.652344\" xlink:href=\"#DejaVuSans-1047\"/>\n       <use x=\"557.763672\" xlink:href=\"#DejaVuSans-1068\"/>\n       <use x=\"626.367188\" xlink:href=\"#DejaVuSans-1052\"/>\n       <use x=\"712.646484\" xlink:href=\"#DejaVuSans-1045\"/>\n       <use x=\"775.830078\" xlink:href=\"#DejaVuSans-1053\"/>\n       <use x=\"851.025391\" xlink:href=\"#DejaVuSans-1050\"/>\n       <use x=\"922.021484\" xlink:href=\"#DejaVuSans-1054\"/>\n      </g>\n     </g>\n    </g>\n    <g id=\"ytick_10\">\n     <g id=\"line2d_30\">\n      <g>\n       <use style=\"stroke:#000000;stroke-width:0.8;\" x=\"153.38125\" xlink:href=\"#m9fbc53dc78\" y=\"249.856518\"/>\n      </g>\n     </g>\n     <g id=\"text_20\">\n      <!-- Иван БУБНОВ -->\n      <g transform=\"translate(75.09375 253.655737)scale(0.1 -0.1)\">\n       <use xlink:href=\"#DejaVuSans-1048\"/>\n       <use x=\"74.804688\" xlink:href=\"#DejaVuSans-1074\"/>\n       <use x=\"133.740234\" xlink:href=\"#DejaVuSans-1072\"/>\n       <use x=\"195.019531\" xlink:href=\"#DejaVuSans-1085\"/>\n       <use x=\"260.400391\" xlink:href=\"#DejaVuSans-32\"/>\n       <use x=\"292.1875\" xlink:href=\"#DejaVuSans-1041\"/>\n       <use x=\"360.791016\" xlink:href=\"#DejaVuSans-1059\"/>\n       <use x=\"421.728516\" xlink:href=\"#DejaVuSans-1041\"/>\n       <use x=\"490.332031\" xlink:href=\"#DejaVuSans-1053\"/>\n       <use x=\"565.527344\" xlink:href=\"#DejaVuSans-1054\"/>\n       <use x=\"644.238281\" xlink:href=\"#DejaVuSans-1042\"/>\n      </g>\n     </g>\n    </g>\n    <g id=\"ytick_11\">\n     <g id=\"line2d_31\">\n      <g>\n       <use style=\"stroke:#000000;stroke-width:0.8;\" x=\"153.38125\" xlink:href=\"#m9fbc53dc78\" y=\"224.605599\"/>\n      </g>\n     </g>\n     <g id=\"text_21\">\n      <!-- Мария БАБИЧ -->\n      <g transform=\"translate(74.684375 228.404818)scale(0.1 -0.1)\">\n       <defs>\n        <path d=\"M 48.828125 0 \nL 48.828125 29.890625 \nL 28.46875 29.890625 \nQ 19.390625 29.890625 13.96875 35.578125 \nQ 8.546875 41.265625 8.546875 52.875 \nL 8.546875 72.90625 \nL 18.359375 72.90625 \nL 18.359375 53.65625 \nQ 18.359375 45.90625 21.390625 42.046875 \nQ 24.421875 38.1875 30.46875 38.1875 \nL 48.828125 38.1875 \nL 48.828125 72.90625 \nL 58.734375 72.90625 \nL 58.734375 0 \nz\n\" id=\"DejaVuSans-1063\"/>\n       </defs>\n       <use xlink:href=\"#DejaVuSans-1052\"/>\n       <use x=\"86.279297\" xlink:href=\"#DejaVuSans-1072\"/>\n       <use x=\"147.558594\" xlink:href=\"#DejaVuSans-1088\"/>\n       <use x=\"211.035156\" xlink:href=\"#DejaVuSans-1080\"/>\n       <use x=\"276.025391\" xlink:href=\"#DejaVuSans-1103\"/>\n       <use x=\"336.181641\" xlink:href=\"#DejaVuSans-32\"/>\n       <use x=\"367.96875\" xlink:href=\"#DejaVuSans-1041\"/>\n       <use x=\"436.572266\" xlink:href=\"#DejaVuSans-1040\"/>\n       <use x=\"504.980469\" xlink:href=\"#DejaVuSans-1041\"/>\n       <use x=\"573.583984\" xlink:href=\"#DejaVuSans-1048\"/>\n       <use x=\"648.388672\" xlink:href=\"#DejaVuSans-1063\"/>\n      </g>\n     </g>\n    </g>\n    <g id=\"ytick_12\">\n     <g id=\"line2d_32\">\n      <g>\n       <use style=\"stroke:#000000;stroke-width:0.8;\" x=\"153.38125\" xlink:href=\"#m9fbc53dc78\" y=\"199.35468\"/>\n      </g>\n     </g>\n     <g id=\"text_22\">\n      <!-- Nina ZARINA -->\n      <g transform=\"translate(82.567187 203.153899)scale(0.1 -0.1)\">\n       <defs>\n        <path d=\"M 9.421875 54.6875 \nL 18.40625 54.6875 \nL 18.40625 0 \nL 9.421875 0 \nz\nM 9.421875 75.984375 \nL 18.40625 75.984375 \nL 18.40625 64.59375 \nL 9.421875 64.59375 \nz\n\" id=\"DejaVuSans-105\"/>\n        <path d=\"M 5.609375 72.90625 \nL 62.890625 72.90625 \nL 62.890625 65.375 \nL 16.796875 8.296875 \nL 64.015625 8.296875 \nL 64.015625 0 \nL 4.5 0 \nL 4.5 7.515625 \nL 50.59375 64.59375 \nL 5.609375 64.59375 \nz\n\" id=\"DejaVuSans-90\"/>\n        <path d=\"M 44.390625 34.1875 \nQ 47.5625 33.109375 50.5625 29.59375 \nQ 53.5625 26.078125 56.59375 19.921875 \nL 66.609375 0 \nL 56 0 \nL 46.6875 18.703125 \nQ 43.0625 26.03125 39.671875 28.421875 \nQ 36.28125 30.8125 30.421875 30.8125 \nL 19.671875 30.8125 \nL 19.671875 0 \nL 9.8125 0 \nL 9.8125 72.90625 \nL 32.078125 72.90625 \nQ 44.578125 72.90625 50.734375 67.671875 \nQ 56.890625 62.453125 56.890625 51.90625 \nQ 56.890625 45.015625 53.6875 40.46875 \nQ 50.484375 35.9375 44.390625 34.1875 \nz\nM 19.671875 64.796875 \nL 19.671875 38.921875 \nL 32.078125 38.921875 \nQ 39.203125 38.921875 42.84375 42.21875 \nQ 46.484375 45.515625 46.484375 51.90625 \nQ 46.484375 58.296875 42.84375 61.546875 \nQ 39.203125 64.796875 32.078125 64.796875 \nz\n\" id=\"DejaVuSans-82\"/>\n       </defs>\n       <use xlink:href=\"#DejaVuSans-78\"/>\n       <use x=\"74.804688\" xlink:href=\"#DejaVuSans-105\"/>\n       <use x=\"102.587891\" xlink:href=\"#DejaVuSans-110\"/>\n       <use x=\"165.966797\" xlink:href=\"#DejaVuSans-97\"/>\n       <use x=\"227.246094\" xlink:href=\"#DejaVuSans-32\"/>\n       <use x=\"259.033203\" xlink:href=\"#DejaVuSans-90\"/>\n       <use x=\"327.539062\" xlink:href=\"#DejaVuSans-65\"/>\n       <use x=\"395.947266\" xlink:href=\"#DejaVuSans-82\"/>\n       <use x=\"465.429688\" xlink:href=\"#DejaVuSans-73\"/>\n       <use x=\"494.921875\" xlink:href=\"#DejaVuSans-78\"/>\n       <use x=\"569.726562\" xlink:href=\"#DejaVuSans-65\"/>\n      </g>\n     </g>\n    </g>\n    <g id=\"ytick_13\">\n     <g id=\"line2d_33\">\n      <g>\n       <use style=\"stroke:#000000;stroke-width:0.8;\" x=\"153.38125\" xlink:href=\"#m9fbc53dc78\" y=\"174.103761\"/>\n      </g>\n     </g>\n     <g id=\"text_23\">\n      <!-- Вячеслав СОКОЛОВ -->\n      <g transform=\"translate(42.273437 177.90298)scale(0.1 -0.1)\">\n       <defs>\n        <path d=\"M 41.015625 0 \nL 41.015625 23 \nL 24.265625 23 \nQ 16.796875 23 11.8125 27.640625 \nQ 7.328125 31.84375 7.328125 40.828125 \nL 7.328125 54.6875 \nL 16.3125 54.6875 \nL 16.3125 41.65625 \nQ 16.3125 35.9375 18.84375 33.0625 \nQ 21.4375 30.171875 26.515625 30.171875 \nL 41.015625 30.171875 \nL 41.015625 54.6875 \nL 50 54.6875 \nL 50 0 \nz\n\" id=\"DejaVuSans-1095\"/>\n        <path d=\"M 64.40625 67.28125 \nL 64.40625 56.890625 \nQ 59.421875 61.53125 53.78125 63.8125 \nQ 48.140625 66.109375 41.796875 66.109375 \nQ 29.296875 66.109375 22.65625 58.46875 \nQ 16.015625 50.828125 16.015625 36.375 \nQ 16.015625 21.96875 22.65625 14.328125 \nQ 29.296875 6.6875 41.796875 6.6875 \nQ 48.140625 6.6875 53.78125 8.984375 \nQ 59.421875 11.28125 64.40625 15.921875 \nL 64.40625 5.609375 \nQ 59.234375 2.09375 53.4375 0.328125 \nQ 47.65625 -1.421875 41.21875 -1.421875 \nQ 24.65625 -1.421875 15.125 8.703125 \nQ 5.609375 18.84375 5.609375 36.375 \nQ 5.609375 53.953125 15.125 64.078125 \nQ 24.65625 74.21875 41.21875 74.21875 \nQ 47.75 74.21875 53.53125 72.484375 \nQ 59.328125 70.75 64.40625 67.28125 \nz\n\" id=\"DejaVuSans-1057\"/>\n       </defs>\n       <use xlink:href=\"#DejaVuSans-1042\"/>\n       <use x=\"68.603516\" xlink:href=\"#DejaVuSans-1103\"/>\n       <use x=\"128.759766\" xlink:href=\"#DejaVuSans-1095\"/>\n       <use x=\"187.841797\" xlink:href=\"#DejaVuSans-1077\"/>\n       <use x=\"249.365234\" xlink:href=\"#DejaVuSans-1089\"/>\n       <use x=\"304.345703\" xlink:href=\"#DejaVuSans-1083\"/>\n       <use x=\"368.261719\" xlink:href=\"#DejaVuSans-1072\"/>\n       <use x=\"429.541016\" xlink:href=\"#DejaVuSans-1074\"/>\n       <use x=\"488.476562\" xlink:href=\"#DejaVuSans-32\"/>\n       <use x=\"520.263672\" xlink:href=\"#DejaVuSans-1057\"/>\n       <use x=\"590.087891\" xlink:href=\"#DejaVuSans-1054\"/>\n       <use x=\"668.798828\" xlink:href=\"#DejaVuSans-1050\"/>\n       <use x=\"739.794922\" xlink:href=\"#DejaVuSans-1054\"/>\n       <use x=\"818.505859\" xlink:href=\"#DejaVuSans-1051\"/>\n       <use x=\"893.701172\" xlink:href=\"#DejaVuSans-1054\"/>\n       <use x=\"972.412109\" xlink:href=\"#DejaVuSans-1042\"/>\n      </g>\n     </g>\n    </g>\n    <g id=\"ytick_14\">\n     <g id=\"line2d_34\">\n      <g>\n       <use style=\"stroke:#000000;stroke-width:0.8;\" x=\"153.38125\" xlink:href=\"#m9fbc53dc78\" y=\"148.852842\"/>\n      </g>\n     </g>\n     <g id=\"text_24\">\n      <!-- Артем ЦИБАК -->\n      <g transform=\"translate(74.445312 152.652061)scale(0.1 -0.1)\">\n       <defs>\n        <path d=\"M 2.9375 54.6875 \nL 55.328125 54.6875 \nL 55.328125 47.515625 \nL 33.546875 47.515625 \nL 33.546875 0 \nL 24.703125 0 \nL 24.703125 47.515625 \nL 2.9375 47.515625 \nz\n\" id=\"DejaVuSans-1090\"/>\n        <path d=\"M 9.078125 54.6875 \nL 22.21875 54.6875 \nL 37.75 18.0625 \nL 53.328125 54.6875 \nL 66.359375 54.6875 \nL 66.359375 0 \nL 57.328125 0 \nL 57.328125 46.09375 \nL 42.234375 10.5 \nL 33.25 10.5 \nL 18.109375 46.09375 \nL 18.109375 0 \nL 9.078125 0 \nz\n\" id=\"DejaVuSans-1084\"/>\n        <path d=\"M 65.375 0 \nL 9.8125 0 \nL 9.8125 72.90625 \nL 19.671875 72.90625 \nL 19.671875 8.296875 \nL 55.515625 8.296875 \nL 55.515625 72.90625 \nL 65.375 72.90625 \nL 65.375 8.296875 \nL 73.6875 8.296875 \nL 73.6875 -15.671875 \nL 65.375 -15.671875 \nz\n\" id=\"DejaVuSans-1062\"/>\n       </defs>\n       <use xlink:href=\"#DejaVuSans-1040\"/>\n       <use x=\"68.408203\" xlink:href=\"#DejaVuSans-1088\"/>\n       <use x=\"131.884766\" xlink:href=\"#DejaVuSans-1090\"/>\n       <use x=\"190.136719\" xlink:href=\"#DejaVuSans-1077\"/>\n       <use x=\"251.660156\" xlink:href=\"#DejaVuSans-1084\"/>\n       <use x=\"327.099609\" xlink:href=\"#DejaVuSans-32\"/>\n       <use x=\"358.886719\" xlink:href=\"#DejaVuSans-1062\"/>\n       <use x=\"436.523438\" xlink:href=\"#DejaVuSans-1048\"/>\n       <use x=\"511.328125\" xlink:href=\"#DejaVuSans-1041\"/>\n       <use x=\"579.931641\" xlink:href=\"#DejaVuSans-1040\"/>\n       <use x=\"648.339844\" xlink:href=\"#DejaVuSans-1050\"/>\n      </g>\n     </g>\n    </g>\n    <g id=\"ytick_15\">\n     <g id=\"line2d_35\">\n      <g>\n       <use style=\"stroke:#000000;stroke-width:0.8;\" x=\"153.38125\" xlink:href=\"#m9fbc53dc78\" y=\"123.601923\"/>\n      </g>\n     </g>\n     <g id=\"text_25\">\n      <!-- Ксения АВДЕЕВА -->\n      <g transform=\"translate(57.546875 127.401142)scale(0.1 -0.1)\">\n       <use xlink:href=\"#DejaVuSans-1050\"/>\n       <use x=\"70.996094\" xlink:href=\"#DejaVuSans-1089\"/>\n       <use x=\"125.976562\" xlink:href=\"#DejaVuSans-1077\"/>\n       <use x=\"187.5\" xlink:href=\"#DejaVuSans-1085\"/>\n       <use x=\"252.880859\" xlink:href=\"#DejaVuSans-1080\"/>\n       <use x=\"317.871094\" xlink:href=\"#DejaVuSans-1103\"/>\n       <use x=\"378.027344\" xlink:href=\"#DejaVuSans-32\"/>\n       <use x=\"409.814453\" xlink:href=\"#DejaVuSans-1040\"/>\n       <use x=\"478.222656\" xlink:href=\"#DejaVuSans-1042\"/>\n       <use x=\"546.826172\" xlink:href=\"#DejaVuSans-1044\"/>\n       <use x=\"624.951172\" xlink:href=\"#DejaVuSans-1045\"/>\n       <use x=\"688.134766\" xlink:href=\"#DejaVuSans-1045\"/>\n       <use x=\"751.318359\" xlink:href=\"#DejaVuSans-1042\"/>\n       <use x=\"819.921875\" xlink:href=\"#DejaVuSans-1040\"/>\n      </g>\n     </g>\n    </g>\n    <g id=\"ytick_16\">\n     <g id=\"line2d_36\">\n      <g>\n       <use style=\"stroke:#000000;stroke-width:0.8;\" x=\"153.38125\" xlink:href=\"#m9fbc53dc78\" y=\"98.351004\"/>\n      </g>\n     </g>\n     <g id=\"text_26\">\n      <!-- Виктор НИКОЛАЕВ -->\n      <g transform=\"translate(47.996875 102.150222)scale(0.1 -0.1)\">\n       <defs>\n        <path d=\"M 30.609375 48.390625 \nQ 23.390625 48.390625 19.1875 42.75 \nQ 14.984375 37.109375 14.984375 27.296875 \nQ 14.984375 17.484375 19.15625 11.84375 \nQ 23.34375 6.203125 30.609375 6.203125 \nQ 37.796875 6.203125 41.984375 11.859375 \nQ 46.1875 17.53125 46.1875 27.296875 \nQ 46.1875 37.015625 41.984375 42.703125 \nQ 37.796875 48.390625 30.609375 48.390625 \nz\nM 30.609375 56 \nQ 42.328125 56 49.015625 48.375 \nQ 55.71875 40.765625 55.71875 27.296875 \nQ 55.71875 13.875 49.015625 6.21875 \nQ 42.328125 -1.421875 30.609375 -1.421875 \nQ 18.84375 -1.421875 12.171875 6.21875 \nQ 5.515625 13.875 5.515625 27.296875 \nQ 5.515625 40.765625 12.171875 48.375 \nQ 18.84375 56 30.609375 56 \nz\n\" id=\"DejaVuSans-1086\"/>\n       </defs>\n       <use xlink:href=\"#DejaVuSans-1042\"/>\n       <use x=\"68.603516\" xlink:href=\"#DejaVuSans-1080\"/>\n       <use x=\"133.59375\" xlink:href=\"#DejaVuSans-1082\"/>\n       <use x=\"193.994141\" xlink:href=\"#DejaVuSans-1090\"/>\n       <use x=\"252.246094\" xlink:href=\"#DejaVuSans-1086\"/>\n       <use x=\"313.427734\" xlink:href=\"#DejaVuSans-1088\"/>\n       <use x=\"376.904297\" xlink:href=\"#DejaVuSans-32\"/>\n       <use x=\"408.691406\" xlink:href=\"#DejaVuSans-1053\"/>\n       <use x=\"483.886719\" xlink:href=\"#DejaVuSans-1048\"/>\n       <use x=\"558.691406\" xlink:href=\"#DejaVuSans-1050\"/>\n       <use x=\"629.6875\" xlink:href=\"#DejaVuSans-1054\"/>\n       <use x=\"708.398438\" xlink:href=\"#DejaVuSans-1051\"/>\n       <use x=\"783.59375\" xlink:href=\"#DejaVuSans-1040\"/>\n       <use x=\"852.001953\" xlink:href=\"#DejaVuSans-1045\"/>\n       <use x=\"915.185547\" xlink:href=\"#DejaVuSans-1042\"/>\n      </g>\n     </g>\n    </g>\n    <g id=\"ytick_17\">\n     <g id=\"line2d_37\">\n      <g>\n       <use style=\"stroke:#000000;stroke-width:0.8;\" x=\"153.38125\" xlink:href=\"#m9fbc53dc78\" y=\"73.100085\"/>\n      </g>\n     </g>\n     <g id=\"text_27\">\n      <!-- Людмила ХОДАКОВА -->\n      <g transform=\"translate(35.739062 76.899303)scale(0.1 -0.1)\">\n       <defs>\n        <path d=\"M 53.609375 48.390625 \nQ 46.390625 48.390625 42.1875 42.75 \nQ 37.984375 37.109375 37.984375 27.296875 \nQ 37.984375 17.484375 42.15625 11.84375 \nQ 46.34375 6.203125 53.609375 6.203125 \nQ 60.796875 6.203125 64.984375 11.859375 \nQ 69.1875 17.53125 69.1875 27.296875 \nQ 69.1875 37.015625 64.984375 42.703125 \nQ 60.796875 48.390625 53.609375 48.390625 \nz\nM 28.8125 32.859375 \nQ 29.734375 42.140625 35.8125 49.0625 \nQ 41.890625 56 53.609375 56 \nQ 65.328125 56 72.015625 48.375 \nQ 78.71875 40.765625 78.71875 27.296875 \nQ 78.71875 13.875 72.015625 6.21875 \nQ 65.328125 -1.421875 53.609375 -1.421875 \nQ 41.84375 -1.421875 35.421875 5.953125 \nQ 29 13.328125 28.5625 25.4375 \nL 18.40625 25.4375 \nL 18.40625 0 \nL 9.421875 0 \nL 9.421875 54.6875 \nL 18.40625 54.6875 \nL 18.40625 32.859375 \nz\n\" id=\"DejaVuSans-1102\"/>\n        <path d=\"M 6.296875 72.90625 \nL 16.890625 72.90625 \nL 35.015625 45.796875 \nL 53.21875 72.90625 \nL 63.8125 72.90625 \nL 40.375 37.890625 \nL 65.375 0 \nL 54.78125 0 \nL 34.28125 31 \nL 13.625 0 \nL 2.984375 0 \nL 29 38.921875 \nz\n\" id=\"DejaVuSans-1061\"/>\n       </defs>\n       <use xlink:href=\"#DejaVuSans-1051\"/>\n       <use x=\"75.195312\" xlink:href=\"#DejaVuSans-1102\"/>\n       <use x=\"159.375\" xlink:href=\"#DejaVuSans-1076\"/>\n       <use x=\"228.515625\" xlink:href=\"#DejaVuSans-1084\"/>\n       <use x=\"303.955078\" xlink:href=\"#DejaVuSans-1080\"/>\n       <use x=\"368.945312\" xlink:href=\"#DejaVuSans-1083\"/>\n       <use x=\"432.861328\" xlink:href=\"#DejaVuSans-1072\"/>\n       <use x=\"494.140625\" xlink:href=\"#DejaVuSans-32\"/>\n       <use x=\"525.927734\" xlink:href=\"#DejaVuSans-1061\"/>\n       <use x=\"594.433594\" xlink:href=\"#DejaVuSans-1054\"/>\n       <use x=\"673.144531\" xlink:href=\"#DejaVuSans-1044\"/>\n       <use x=\"751.269531\" xlink:href=\"#DejaVuSans-1040\"/>\n       <use x=\"819.677734\" xlink:href=\"#DejaVuSans-1050\"/>\n       <use x=\"890.673828\" xlink:href=\"#DejaVuSans-1054\"/>\n       <use x=\"969.384766\" xlink:href=\"#DejaVuSans-1042\"/>\n       <use x=\"1037.988281\" xlink:href=\"#DejaVuSans-1040\"/>\n      </g>\n     </g>\n    </g>\n   </g>\n   <g id=\"patch_20\">\n    <path d=\"M 153.38125 489.74025 \nL 153.38125 60.474625 \n\" style=\"fill:none;stroke:#000000;stroke-linecap:square;stroke-linejoin:miter;stroke-width:0.8;\"/>\n   </g>\n   <g id=\"patch_21\">\n    <path d=\"M 490.15625 489.74025 \nL 490.15625 60.474625 \n\" style=\"fill:none;stroke:#000000;stroke-linecap:square;stroke-linejoin:miter;stroke-width:0.8;\"/>\n   </g>\n   <g id=\"patch_22\">\n    <path d=\"M 153.38125 489.74025 \nL 490.15625 489.74025 \n\" style=\"fill:none;stroke:#000000;stroke-linecap:square;stroke-linejoin:miter;stroke-width:0.8;\"/>\n   </g>\n   <g id=\"patch_23\">\n    <path d=\"M 153.38125 60.474625 \nL 490.15625 60.474625 \n\" style=\"fill:none;stroke:#000000;stroke-linecap:square;stroke-linejoin:miter;stroke-width:0.8;\"/>\n   </g>\n   <g id=\"text_28\">\n    <!-- Учасники с наибольшим количеством рекордов -->\n    <g transform=\"translate(98.13375 19.88)scale(0.16 -0.16)\">\n     <defs>\n      <path d=\"M 45.453125 12.109375 \nQ 43.5 7.953125 40.625 5.328125 \nQ 34.765625 0 18.171875 0 \nL 14.75 0 \nL 14.75 14.203125 \nL 19.921875 14.203125 \nQ 26.765625 14.203125 28.375 17.578125 \nQ 28.765625 18.3125 29.109375 19.046875 \nL 2.875 72.90625 \nL 22.515625 72.90625 \nL 38.671875 39.703125 \nL 54.390625 72.90625 \nL 74.125 72.90625 \nz\n\" id=\"DejaVuSans-Bold-1059\"/>\n      <path d=\"M 39.84375 0 \nL 39.84375 21.140625 \nL 21.875 21.140625 \nQ 14.546875 21.140625 10.5 25.453125 \nQ 6.453125 29.78125 6.453125 38.28125 \nL 6.453125 54.6875 \nL 23.921875 54.6875 \nL 23.921875 44.96875 \nQ 23.921875 36.28125 25.34375 34.109375 \nQ 26.765625 31.9375 30.46875 31.9375 \nL 39.84375 31.9375 \nL 39.84375 54.6875 \nL 57.328125 54.6875 \nL 57.328125 0 \nz\n\" id=\"DejaVuSans-Bold-1095\"/>\n      <path d=\"M 32.90625 24.609375 \nQ 27.4375 24.609375 24.671875 22.75 \nQ 21.921875 20.90625 21.921875 17.28125 \nQ 21.921875 13.96875 24.140625 12.078125 \nQ 26.375 10.203125 30.328125 10.203125 \nQ 35.25 10.203125 38.625 13.734375 \nQ 42 17.28125 42 22.609375 \nL 42 24.609375 \nz\nM 59.625 31.203125 \nL 59.625 0 \nL 42 0 \nL 42 8.109375 \nQ 38.484375 3.125 34.078125 0.84375 \nQ 29.6875 -1.421875 23.390625 -1.421875 \nQ 14.890625 -1.421875 9.59375 3.53125 \nQ 4.296875 8.5 4.296875 16.40625 \nQ 4.296875 26.03125 10.90625 30.515625 \nQ 17.53125 35.015625 31.6875 35.015625 \nL 42 35.015625 \nL 42 36.375 \nQ 42 40.53125 38.71875 42.453125 \nQ 35.453125 44.390625 28.515625 44.390625 \nQ 22.90625 44.390625 18.0625 43.265625 \nQ 13.234375 42.140625 9.078125 39.890625 \nL 9.078125 53.21875 \nQ 14.703125 54.59375 20.359375 55.296875 \nQ 26.03125 56 31.6875 56 \nQ 46.484375 56 53.046875 50.171875 \nQ 59.625 44.34375 59.625 31.203125 \nz\n\" id=\"DejaVuSans-Bold-1072\"/>\n      <path d=\"M 52.59375 52.984375 \nL 52.59375 38.71875 \nQ 49.03125 41.15625 45.4375 42.328125 \nQ 41.84375 43.5 37.984375 43.5 \nQ 30.671875 43.5 26.59375 39.234375 \nQ 22.515625 34.96875 22.515625 27.296875 \nQ 22.515625 19.625 26.59375 15.34375 \nQ 30.671875 11.078125 37.984375 11.078125 \nQ 42.09375 11.078125 45.78125 12.296875 \nQ 49.46875 13.53125 52.59375 15.921875 \nL 52.59375 1.609375 \nQ 48.484375 0.09375 44.265625 -0.65625 \nQ 40.046875 -1.421875 35.796875 -1.421875 \nQ 21 -1.421875 12.640625 6.171875 \nQ 4.296875 13.765625 4.296875 27.296875 \nQ 4.296875 40.828125 12.640625 48.40625 \nQ 21 56 35.796875 56 \nQ 40.09375 56 44.265625 55.25 \nQ 48.4375 54.5 52.59375 52.984375 \nz\n\" id=\"DejaVuSans-Bold-1089\"/>\n      <path d=\"M 8.40625 54.6875 \nL 25.875 54.6875 \nL 25.875 33.890625 \nL 43.21875 33.890625 \nL 43.21875 54.6875 \nL 60.6875 54.6875 \nL 60.6875 0 \nL 43.21875 0 \nL 43.21875 23.09375 \nL 25.875 23.09375 \nL 25.875 0 \nL 8.40625 0 \nz\n\" id=\"DejaVuSans-Bold-1085\"/>\n      <path d=\"M 61.671875 54.6875 \nL 61.671875 0 \nL 44.1875 0 \nL 44.1875 29.109375 \nL 26.5625 0 \nL 8.40625 0 \nL 8.40625 54.6875 \nL 25.875 54.6875 \nL 25.875 25.59375 \nL 43.5 54.6875 \nz\n\" id=\"DejaVuSans-Bold-1080\"/>\n      <path d=\"M 8.40625 54.6875 \nL 25.875 54.6875 \nL 25.875 36.1875 \nL 45.359375 54.6875 \nL 64.5 54.6875 \nL 41.15625 32.46875 \nL 66.40625 0 \nL 48.34375 0 \nL 30.8125 22.609375 \nL 25.875 17.921875 \nL 25.875 0 \nL 8.40625 0 \nz\n\" id=\"DejaVuSans-Bold-1082\"/>\n      <path id=\"DejaVuSans-Bold-32\"/>\n      <path d=\"M 5.375 30.328125 \nL 5.03125 38.484375 \nQ 4.296875 41.75 4.296875 45.015625 \nQ 4.296875 54.59375 7.125 60.84375 \nQ 12.359375 72.359375 19.34375 74.703125 \nQ 25.09375 76.703125 49.078125 78.609375 \nQ 51.515625 78.8125 54.296875 79.25 \nL 58.203125 68.40625 \nQ 54.5 67.4375 35.453125 65.765625 \nQ 27.09375 65.046875 23.6875 62.703125 \nQ 18.015625 58.84375 17.578125 51.5625 \nQ 24.75 56 35.546875 56 \nQ 49.65625 56 57.59375 48.375 \nQ 65.53125 40.765625 65.53125 27.296875 \nQ 65.53125 13.8125 57.609375 6.1875 \nQ 49.703125 -1.421875 35.546875 -1.421875 \nQ 21.390625 -1.421875 13.40625 6.1875 \nQ 5.421875 13.8125 5.421875 27.296875 \nQ 5.421875 29.15625 5.375 30.328125 \nz\nM 35.5 43.5 \nQ 29.734375 43.5 26.6875 39.328125 \nQ 23.640625 35.15625 23.640625 27.296875 \nQ 23.640625 19.4375 26.6875 15.25 \nQ 29.734375 11.078125 35.5 11.078125 \nQ 41.265625 11.078125 44.28125 15.25 \nQ 47.3125 19.4375 47.3125 27.296875 \nQ 47.3125 35.15625 44.28125 39.328125 \nQ 41.265625 43.5 35.5 43.5 \nz\n\" id=\"DejaVuSans-Bold-1073\"/>\n      <path d=\"M 34.421875 43.5 \nQ 28.609375 43.5 25.5625 39.328125 \nQ 22.515625 35.15625 22.515625 27.296875 \nQ 22.515625 19.4375 25.5625 15.25 \nQ 28.609375 11.078125 34.421875 11.078125 \nQ 40.140625 11.078125 43.15625 15.25 \nQ 46.1875 19.4375 46.1875 27.296875 \nQ 46.1875 35.15625 43.15625 39.328125 \nQ 40.140625 43.5 34.421875 43.5 \nz\nM 34.421875 56 \nQ 48.53125 56 56.46875 48.375 \nQ 64.40625 40.765625 64.40625 27.296875 \nQ 64.40625 13.8125 56.46875 6.1875 \nQ 48.53125 -1.421875 34.421875 -1.421875 \nQ 20.265625 -1.421875 12.28125 6.1875 \nQ 4.296875 13.8125 4.296875 27.296875 \nQ 4.296875 40.765625 12.28125 48.375 \nQ 20.265625 56 34.421875 56 \nz\n\" id=\"DejaVuSans-Bold-1086\"/>\n      <path d=\"M 5.515625 0 \nL 5.515625 12.5 \nQ 14.15625 14.265625 16.109375 19.96875 \nQ 17.578125 24.3125 17.578125 45.75 \nL 17.578125 54.6875 \nL 64.84375 54.6875 \nL 64.84375 0 \nL 47.359375 0 \nL 47.359375 42.1875 \nL 35.0625 42.1875 \nL 35.0625 40.375 \nQ 35.0625 18.953125 31.6875 12.703125 \nQ 24.859375 0 5.515625 0 \nz\n\" id=\"DejaVuSans-Bold-1083\"/>\n      <path d=\"M 42.484375 17.09375 \nQ 42.484375 20.171875 40.53125 21.6875 \nQ 38.625 23.140625 34.71875 23.140625 \nL 25.875 23.140625 \nL 25.875 10.9375 \nL 34.71875 10.9375 \nQ 38.578125 10.9375 40.53125 12.5 \nQ 42.484375 14.015625 42.484375 17.09375 \nz\nM 8.40625 54.6875 \nL 25.875 54.6875 \nL 25.875 33.9375 \nL 35.796875 33.9375 \nQ 46.875 33.9375 52.828125 29.890625 \nQ 58.84375 25.78125 58.84375 16.890625 \nQ 58.84375 8.015625 52.828125 4 \nQ 46.875 0 35.796875 0 \nL 8.40625 0 \nz\n\" id=\"DejaVuSans-Bold-1100\"/>\n      <path d=\"M 61.53125 12.5 \nL 79.6875 12.5 \nL 79.6875 54.6875 \nL 97.171875 54.6875 \nL 97.171875 0 \nL 8.40625 0 \nL 8.40625 54.6875 \nL 25.875 54.6875 \nL 25.875 12.5 \nL 44.046875 12.5 \nL 44.046875 54.6875 \nL 61.53125 54.6875 \nz\n\" id=\"DejaVuSans-Bold-1096\"/>\n      <path d=\"M 8.40625 54.6875 \nL 28.515625 54.6875 \nL 40.828125 27.34375 \nL 53.125 54.6875 \nL 73.296875 54.6875 \nL 73.296875 0 \nL 55.859375 0 \nL 55.859375 31 \nL 46.625 10.5 \nL 35.15625 10.5 \nL 25.875 31 \nL 25.875 0 \nL 8.40625 0 \nz\n\" id=\"DejaVuSans-Bold-1084\"/>\n      <path d=\"M 62.984375 27.484375 \nL 62.984375 22.515625 \nL 22.125 22.515625 \nQ 22.75 16.359375 26.5625 13.28125 \nQ 30.375 10.203125 37.203125 10.203125 \nQ 42.71875 10.203125 48.5 11.84375 \nQ 54.296875 13.484375 60.40625 16.796875 \nL 60.40625 3.328125 \nQ 54.203125 0.984375 48 -0.21875 \nQ 41.796875 -1.421875 35.59375 -1.421875 \nQ 20.75 -1.421875 12.515625 6.125 \nQ 4.296875 13.671875 4.296875 27.296875 \nQ 4.296875 40.671875 12.375 48.328125 \nQ 20.453125 56 34.625 56 \nQ 47.515625 56 55.25 48.234375 \nQ 62.984375 40.484375 62.984375 27.484375 \nz\nM 45.015625 33.296875 \nQ 45.015625 38.28125 42.109375 41.328125 \nQ 39.203125 44.390625 34.515625 44.390625 \nQ 29.4375 44.390625 26.265625 41.53125 \nQ 23.09375 38.671875 22.3125 33.296875 \nz\n\" id=\"DejaVuSans-Bold-1077\"/>\n      <path d=\"M 0.390625 54.6875 \nL 57.515625 54.6875 \nL 57.515625 43.890625 \nL 37.703125 43.890625 \nL 37.703125 0 \nL 20.265625 0 \nL 20.265625 43.890625 \nL 0.390625 43.890625 \nz\n\" id=\"DejaVuSans-Bold-1090\"/>\n      <path d=\"M 34.125 34.078125 \nQ 37.15625 34.078125 38.71875 35.328125 \nQ 40.28125 36.578125 40.28125 39.015625 \nQ 40.28125 41.453125 38.71875 42.671875 \nQ 37.15625 43.890625 34.125 43.890625 \nL 25.875 43.890625 \nL 25.875 34.078125 \nz\nM 34.71875 10.9375 \nQ 38.578125 10.9375 40.53125 12.46875 \nQ 42.484375 14.015625 42.484375 17.09375 \nQ 42.484375 20.125 40.53125 21.625 \nQ 38.578125 23.140625 34.71875 23.140625 \nL 25.875 23.140625 \nL 25.875 10.9375 \nz\nM 8.40625 54.6875 \nL 33.453125 54.6875 \nQ 45.609375 54.6875 51.046875 51.234375 \nQ 56.5 47.796875 56.5 40.234375 \nQ 56.5 36.234375 54.484375 33.421875 \nQ 52.484375 30.609375 48.734375 29.25 \nQ 53.5625 27.9375 56.21875 24.390625 \nQ 58.890625 20.84375 58.890625 15.671875 \nQ 58.890625 7.765625 53.171875 3.875 \nQ 47.46875 0 35.84375 0 \nL 8.40625 0 \nz\n\" id=\"DejaVuSans-Bold-1074\"/>\n      <path d=\"M 25.875 7.90625 \nL 25.875 -20.796875 \nL 8.40625 -20.796875 \nL 8.40625 54.6875 \nL 25.875 54.6875 \nL 25.875 46.6875 \nQ 29.5 51.46875 33.890625 53.734375 \nQ 38.28125 56 44 56 \nQ 54.109375 56 60.59375 47.96875 \nQ 67.09375 39.9375 67.09375 27.296875 \nQ 67.09375 14.65625 60.59375 6.609375 \nQ 54.109375 -1.421875 44 -1.421875 \nQ 38.28125 -1.421875 33.890625 0.84375 \nQ 29.5 3.125 25.875 7.90625 \nz\nM 37.5 43.3125 \nQ 31.890625 43.3125 28.875 39.1875 \nQ 25.875 35.0625 25.875 27.296875 \nQ 25.875 19.53125 28.875 15.40625 \nQ 31.890625 11.28125 37.5 11.28125 \nQ 43.109375 11.28125 46.0625 15.375 \nQ 49.03125 19.484375 49.03125 27.296875 \nQ 49.03125 35.109375 46.0625 39.203125 \nQ 43.109375 43.3125 37.5 43.3125 \nz\n\" id=\"DejaVuSans-Bold-1088\"/>\n      <path d=\"M 8.546875 12.5 \nQ 14.109375 14.359375 16.453125 20.53125 \nQ 18.796875 26.703125 18.796875 44.34375 \nL 18.796875 54.6875 \nL 66.0625 54.6875 \nL 66.0625 12.5 \nL 75.140625 12.5 \nL 75.140625 -13.8125 \nL 62.640625 -13.8125 \nL 62.640625 0 \nL 18.109375 0 \nL 18.109375 -13.8125 \nL 5.609375 -13.8125 \nL 5.609375 12.5 \nz\nM 48.578125 42.1875 \nL 36.28125 42.1875 \nL 36.28125 40.671875 \nQ 36.28125 22.75 32.234375 12.5 \nL 48.578125 12.5 \nz\n\" id=\"DejaVuSans-Bold-1076\"/>\n     </defs>\n     <use xlink:href=\"#DejaVuSans-Bold-1059\"/>\n     <use x=\"77.099609\" xlink:href=\"#DejaVuSans-Bold-1095\"/>\n     <use x=\"145.751953\" xlink:href=\"#DejaVuSans-Bold-1072\"/>\n     <use x=\"213.232422\" xlink:href=\"#DejaVuSans-Bold-1089\"/>\n     <use x=\"272.509766\" xlink:href=\"#DejaVuSans-Bold-1085\"/>\n     <use x=\"341.601562\" xlink:href=\"#DejaVuSans-Bold-1080\"/>\n     <use x=\"411.669922\" xlink:href=\"#DejaVuSans-Bold-1082\"/>\n     <use x=\"479.541016\" xlink:href=\"#DejaVuSans-Bold-1080\"/>\n     <use x=\"549.609375\" xlink:href=\"#DejaVuSans-Bold-32\"/>\n     <use x=\"584.423828\" xlink:href=\"#DejaVuSans-Bold-1089\"/>\n     <use x=\"643.701172\" xlink:href=\"#DejaVuSans-Bold-32\"/>\n     <use x=\"678.515625\" xlink:href=\"#DejaVuSans-Bold-1085\"/>\n     <use x=\"747.607422\" xlink:href=\"#DejaVuSans-Bold-1072\"/>\n     <use x=\"815.087891\" xlink:href=\"#DejaVuSans-Bold-1080\"/>\n     <use x=\"885.15625\" xlink:href=\"#DejaVuSans-Bold-1073\"/>\n     <use x=\"954.980469\" xlink:href=\"#DejaVuSans-Bold-1086\"/>\n     <use x=\"1023.681641\" xlink:href=\"#DejaVuSans-Bold-1083\"/>\n     <use x=\"1096.923828\" xlink:href=\"#DejaVuSans-Bold-1100\"/>\n     <use x=\"1160.15625\" xlink:href=\"#DejaVuSans-Bold-1096\"/>\n     <use x=\"1266.357422\" xlink:href=\"#DejaVuSans-Bold-1080\"/>\n     <use x=\"1336.425781\" xlink:href=\"#DejaVuSans-Bold-1084\"/>\n     <use x=\"1418.164062\" xlink:href=\"#DejaVuSans-Bold-32\"/>\n     <use x=\"1452.978516\" xlink:href=\"#DejaVuSans-Bold-1082\"/>\n     <use x=\"1520.849609\" xlink:href=\"#DejaVuSans-Bold-1086\"/>\n     <use x=\"1589.550781\" xlink:href=\"#DejaVuSans-Bold-1083\"/>\n     <use x=\"1662.792969\" xlink:href=\"#DejaVuSans-Bold-1080\"/>\n     <use x=\"1732.861328\" xlink:href=\"#DejaVuSans-Bold-1095\"/>\n     <use x=\"1801.513672\" xlink:href=\"#DejaVuSans-Bold-1077\"/>\n     <use x=\"1869.335938\" xlink:href=\"#DejaVuSans-Bold-1089\"/>\n     <use x=\"1928.613281\" xlink:href=\"#DejaVuSans-Bold-1090\"/>\n     <use x=\"1986.572266\" xlink:href=\"#DejaVuSans-Bold-1074\"/>\n     <use x=\"2049.853516\" xlink:href=\"#DejaVuSans-Bold-1086\"/>\n     <use x=\"2118.554688\" xlink:href=\"#DejaVuSans-Bold-1084\"/>\n     <use x=\"2200.292969\" xlink:href=\"#DejaVuSans-Bold-32\"/>\n     <use x=\"2235.107422\" xlink:href=\"#DejaVuSans-Bold-1088\"/>\n     <use x=\"2306.689453\" xlink:href=\"#DejaVuSans-Bold-1077\"/>\n     <use x=\"2374.511719\" xlink:href=\"#DejaVuSans-Bold-1082\"/>\n     <use x=\"2442.382812\" xlink:href=\"#DejaVuSans-Bold-1086\"/>\n     <use x=\"2511.083984\" xlink:href=\"#DejaVuSans-Bold-1088\"/>\n     <use x=\"2582.666016\" xlink:href=\"#DejaVuSans-Bold-1076\"/>\n     <use x=\"2663.427734\" xlink:href=\"#DejaVuSans-Bold-1086\"/>\n     <use x=\"2732.128906\" xlink:href=\"#DejaVuSans-Bold-1074\"/>\n    </g>\n    <!-- на различных паркранах -->\n    <g transform=\"translate(205.325 37.7965)scale(0.16 -0.16)\">\n     <defs>\n      <path d=\"M 14.0625 34.078125 \nL 22.078125 34.078125 \nQ 29.25 34.078125 31.859375 35.640625 \nQ 34.46875 37.203125 34.46875 39.359375 \nQ 34.46875 44.390625 22.953125 44.390625 \nQ 13.328125 44.390625 7.375 41.015625 \nL 7.375 53.65625 \nQ 16.265625 56 26.765625 56 \nQ 39.0625 56 44.71875 52.515625 \nQ 50.390625 49.03125 50.390625 41.65625 \nQ 50.390625 31.984375 39.703125 29.5 \nQ 51.765625 26.515625 51.765625 15.53125 \nQ 51.765625 7.078125 45.125 2.828125 \nQ 38.484375 -1.421875 24.265625 -1.421875 \nQ 13.671875 -1.421875 4.890625 1.3125 \nL 4.890625 14.796875 \nQ 15.828125 10.203125 22.3125 10.203125 \nQ 29.4375 10.203125 32.640625 12.125 \nQ 35.84375 14.0625 35.84375 16.5 \nQ 35.84375 23.296875 21.78125 23.296875 \nL 14.0625 23.296875 \nz\n\" id=\"DejaVuSans-Bold-1079\"/>\n      <path d=\"M 64.90625 54.6875 \nL 82.375 54.6875 \nL 82.375 0 \nL 64.90625 0 \nz\nM 42.484375 17.09375 \nQ 42.484375 20.171875 40.53125 21.6875 \nQ 38.625 23.140625 34.71875 23.140625 \nL 25.875 23.140625 \nL 25.875 10.9375 \nL 34.71875 10.9375 \nQ 38.578125 10.9375 40.53125 12.5 \nQ 42.484375 14.015625 42.484375 17.09375 \nz\nM 8.40625 54.6875 \nL 25.875 54.6875 \nL 25.875 33.9375 \nL 35.796875 33.9375 \nQ 46.875 33.9375 52.828125 29.890625 \nQ 58.84375 25.78125 58.84375 16.890625 \nQ 58.84375 8.015625 52.828125 4 \nQ 46.875 0 35.796875 0 \nL 8.40625 0 \nz\n\" id=\"DejaVuSans-Bold-1099\"/>\n      <path d=\"M 22.21875 27.984375 \nL 2.484375 54.6875 \nL 21 54.6875 \nL 32.171875 38.484375 \nL 43.5 54.6875 \nL 62.015625 54.6875 \nL 42.28125 28.078125 \nL 62.984375 0 \nL 44.484375 0 \nL 32.171875 17.28125 \nL 20.015625 0 \nL 1.515625 0 \nz\n\" id=\"DejaVuSans-Bold-1093\"/>\n      <path d=\"M 60.6875 54.6875 \nL 60.6875 0 \nL 43.21875 0 \nL 43.21875 42.1875 \nL 25.875 42.1875 \nL 25.875 0 \nL 8.40625 0 \nL 8.40625 54.6875 \nz\n\" id=\"DejaVuSans-Bold-1087\"/>\n     </defs>\n     <use xlink:href=\"#DejaVuSans-Bold-1085\"/>\n     <use x=\"69.091797\" xlink:href=\"#DejaVuSans-Bold-1072\"/>\n     <use x=\"136.572266\" xlink:href=\"#DejaVuSans-Bold-32\"/>\n     <use x=\"171.386719\" xlink:href=\"#DejaVuSans-Bold-1088\"/>\n     <use x=\"242.96875\" xlink:href=\"#DejaVuSans-Bold-1072\"/>\n     <use x=\"310.449219\" xlink:href=\"#DejaVuSans-Bold-1079\"/>\n     <use x=\"368.554688\" xlink:href=\"#DejaVuSans-Bold-1083\"/>\n     <use x=\"441.796875\" xlink:href=\"#DejaVuSans-Bold-1080\"/>\n     <use x=\"511.865234\" xlink:href=\"#DejaVuSans-Bold-1095\"/>\n     <use x=\"580.517578\" xlink:href=\"#DejaVuSans-Bold-1085\"/>\n     <use x=\"649.609375\" xlink:href=\"#DejaVuSans-Bold-1099\"/>\n     <use x=\"740.039062\" xlink:href=\"#DejaVuSans-Bold-1093\"/>\n     <use x=\"804.541016\" xlink:href=\"#DejaVuSans-Bold-32\"/>\n     <use x=\"839.355469\" xlink:href=\"#DejaVuSans-Bold-1087\"/>\n     <use x=\"908.447266\" xlink:href=\"#DejaVuSans-Bold-1072\"/>\n     <use x=\"975.927734\" xlink:href=\"#DejaVuSans-Bold-1088\"/>\n     <use x=\"1047.509766\" xlink:href=\"#DejaVuSans-Bold-1082\"/>\n     <use x=\"1115.380859\" xlink:href=\"#DejaVuSans-Bold-1088\"/>\n     <use x=\"1186.962891\" xlink:href=\"#DejaVuSans-Bold-1072\"/>\n     <use x=\"1254.443359\" xlink:href=\"#DejaVuSans-Bold-1085\"/>\n     <use x=\"1323.535156\" xlink:href=\"#DejaVuSans-Bold-1072\"/>\n     <use x=\"1391.015625\" xlink:href=\"#DejaVuSans-Bold-1093\"/>\n    </g>\n   </g>\n  </g>\n </g>\n <defs>\n  <clipPath id=\"p06bf9ef441\">\n   <rect height=\"429.265625\" width=\"336.775\" x=\"153.38125\" y=\"60.474625\"/>\n  </clipPath>\n </defs>\n</svg>\n",
      "image/png": "[encoded data removed]"
     },
     "metadata": {
      "needs_background": "light"
     }
    }
   ],
   "source": [
    "rec_men = data[data.columns[4]].value_counts()\n",
    "rec_women = data[data.columns[1]].value_counts()\n",
    "most_rec_men = rec_men[rec_men > 1]\n",
    "most_rec_women = rec_women[rec_women > 1]\n",
    "df = pd.concat([most_rec_men, most_rec_women], axis = 0).sort_values(ascending=True)\n",
    "plt.figure(figsize=(7,7))\n",
    "ax = df.plot(kind = 'barh', grid=True)\n",
    "for ptch, tick in zip(ax.patches, ax.yaxis.get_major_ticks()):\n",
    "    c = '#2ca02c' if tick.label.get_text() in most_rec_men.index else '#9467bd'\n",
    "    ptch.set_facecolor(c)\n",
    "\n",
    "ax.grid(b=False, which='major', axis='y')\n",
    "\n",
    "ax.xaxis.set_major_locator(MaxNLocator(steps=[1, 2], integer=True))\n",
    "ax.xaxis.tick_top()\n",
    "plt.title('Учасники с наибольшим количеством рекордов\\nна различных паркранах', size=16, fontweight='bold')\n",
    "plt.tight_layout()"
   ]
  },
  {
   "cell_type": "markdown",
   "id": "constitutional-wisconsin",
   "metadata": {},
   "source": [
    "### 10 самых медленных паркранов (где мужские рекорды пока не высокие)"
   ]
  },
  {
   "cell_type": "code",
   "execution_count": 12,
   "id": "weekly-brunei",
   "metadata": {},
   "outputs": [
    {
     "output_type": "execute_result",
     "data": {
      "text/plain": [
       "                     Parkrun Мужчины\n",
       "                     Паркран   Время\n",
       "0  Strezhevoy Gorodskoy Park   22:41\n",
       "1      Lobnya Gorodskoy Park   19:35\n",
       "2       Gorodskoy Park Semya   19:35\n",
       "3    Yarmarochnaya Ploshchad   19:12\n",
       "4             Gubernsky Park   18:50\n",
       "5           Lesopark Severny   18:33\n",
       "6        Kurgan Central Park   18:16\n",
       "7     Mytishchi Central Park   18:16\n",
       "8        Skver Dzerzhinskogo   18:11\n",
       "9            Yakutsk Dokhsun   18:11"
      ],
      "text/html": "<div>\n<style scoped>\n    .dataframe tbody tr th:only-of-type {\n        vertical-align: middle;\n    }\n\n    .dataframe tbody tr th {\n        vertical-align: top;\n    }\n\n    .dataframe thead tr th {\n        text-align: left;\n    }\n</style>\n<table border=\"1\" class=\"dataframe\">\n  <thead>\n    <tr>\n      <th></th>\n      <th>Parkrun</th>\n      <th>Мужчины</th>\n    </tr>\n    <tr>\n      <th></th>\n      <th>Паркран</th>\n      <th>Время</th>\n    </tr>\n  </thead>\n  <tbody>\n    <tr>\n      <th>0</th>\n      <td>Strezhevoy Gorodskoy Park</td>\n      <td>22:41</td>\n    </tr>\n    <tr>\n      <th>1</th>\n      <td>Lobnya Gorodskoy Park</td>\n      <td>19:35</td>\n    </tr>\n    <tr>\n      <th>2</th>\n      <td>Gorodskoy Park Semya</td>\n      <td>19:35</td>\n    </tr>\n    <tr>\n      <th>3</th>\n      <td>Yarmarochnaya Ploshchad</td>\n      <td>19:12</td>\n    </tr>\n    <tr>\n      <th>4</th>\n      <td>Gubernsky Park</td>\n      <td>18:50</td>\n    </tr>\n    <tr>\n      <th>5</th>\n      <td>Lesopark Severny</td>\n      <td>18:33</td>\n    </tr>\n    <tr>\n      <th>6</th>\n      <td>Kurgan Central Park</td>\n      <td>18:16</td>\n    </tr>\n    <tr>\n      <th>7</th>\n      <td>Mytishchi Central Park</td>\n      <td>18:16</td>\n    </tr>\n    <tr>\n      <th>8</th>\n      <td>Skver Dzerzhinskogo</td>\n      <td>18:11</td>\n    </tr>\n    <tr>\n      <th>9</th>\n      <td>Yakutsk Dokhsun</td>\n      <td>18:11</td>\n    </tr>\n  </tbody>\n</table>\n</div>"
     },
     "metadata": {},
     "execution_count": 12
    }
   ],
   "source": [
    "data.drop(data.iloc[:,1:5], axis=1).drop(data.columns[6], axis=1)\\\n",
    ".sort_values(by=[data.columns[5]], ascending=False).reset_index(drop=True).head(10)"
   ]
  },
  {
   "cell_type": "markdown",
   "id": "concrete-purple",
   "metadata": {},
   "source": [
    "## Анализ женских результатов"
   ]
  },
  {
   "cell_type": "markdown",
   "id": "creative-newfoundland",
   "metadata": {},
   "source": [
    "### Топ10 рекордов женщин и самых быстрых российских паркранов"
   ]
  },
  {
   "cell_type": "code",
   "execution_count": 13,
   "id": "revolutionary-treasury",
   "metadata": {},
   "outputs": [
    {
     "output_type": "execute_result",
     "data": {
      "text/plain": [
       "                 Parkrun              Женщины                   \n",
       "                 Паркран             Участник  Время        Дата\n",
       "0   Ufa Botanichesky Sad        Юлия АНДРЕЕВА  16:02  17/08/2019\n",
       "1          Elagin Ostrov    Анжелика ШЕВЧЕНКО  17:14  10/08/2019\n",
       "2         Readovsky Park     Оксана СТОЛЯРОВА  17:24  22/06/2019\n",
       "3             Gorky Park       Мария БЫСТРОВА  17:26  21/05/2016\n",
       "4  Pokrovskoe-Streshnevo   Наталия ГРИГОРЬЕВА  17:42  01/06/2019\n",
       "5         Ryazan Oreshek        Мария ИМЕНИНА  17:42  08/09/2018\n",
       "6                Druzhba          Nina ZARINA  17:45  08/06/2019\n",
       "7  Balashikha Zarechnaya  Наталья СТУДЕНИКИНА  17:53  03/04/2021\n",
       "8            Kolomenskoe       Ксения АВДЕЕВА  17:57  17/08/2019\n",
       "9            Natashinsky         Gella HUGINN  18:01  26/05/2018"
      ],
      "text/html": "<div>\n<style scoped>\n    .dataframe tbody tr th:only-of-type {\n        vertical-align: middle;\n    }\n\n    .dataframe tbody tr th {\n        vertical-align: top;\n    }\n\n    .dataframe thead tr th {\n        text-align: left;\n    }\n</style>\n<table border=\"1\" class=\"dataframe\">\n  <thead>\n    <tr>\n      <th></th>\n      <th>Parkrun</th>\n      <th colspan=\"3\" halign=\"left\">Женщины</th>\n    </tr>\n    <tr>\n      <th></th>\n      <th>Паркран</th>\n      <th>Участник</th>\n      <th>Время</th>\n      <th>Дата</th>\n    </tr>\n  </thead>\n  <tbody>\n    <tr>\n      <th>0</th>\n      <td>Ufa Botanichesky Sad</td>\n      <td>Юлия АНДРЕЕВА</td>\n      <td>16:02</td>\n      <td>17/08/2019</td>\n    </tr>\n    <tr>\n      <th>1</th>\n      <td>Elagin Ostrov</td>\n      <td>Анжелика ШЕВЧЕНКО</td>\n      <td>17:14</td>\n      <td>10/08/2019</td>\n    </tr>\n    <tr>\n      <th>2</th>\n      <td>Readovsky Park</td>\n      <td>Оксана СТОЛЯРОВА</td>\n      <td>17:24</td>\n      <td>22/06/2019</td>\n    </tr>\n    <tr>\n      <th>3</th>\n      <td>Gorky Park</td>\n      <td>Мария БЫСТРОВА</td>\n      <td>17:26</td>\n      <td>21/05/2016</td>\n    </tr>\n    <tr>\n      <th>4</th>\n      <td>Pokrovskoe-Streshnevo</td>\n      <td>Наталия ГРИГОРЬЕВА</td>\n      <td>17:42</td>\n      <td>01/06/2019</td>\n    </tr>\n    <tr>\n      <th>5</th>\n      <td>Ryazan Oreshek</td>\n      <td>Мария ИМЕНИНА</td>\n      <td>17:42</td>\n      <td>08/09/2018</td>\n    </tr>\n    <tr>\n      <th>6</th>\n      <td>Druzhba</td>\n      <td>Nina ZARINA</td>\n      <td>17:45</td>\n      <td>08/06/2019</td>\n    </tr>\n    <tr>\n      <th>7</th>\n      <td>Balashikha Zarechnaya</td>\n      <td>Наталья СТУДЕНИКИНА</td>\n      <td>17:53</td>\n      <td>03/04/2021</td>\n    </tr>\n    <tr>\n      <th>8</th>\n      <td>Kolomenskoe</td>\n      <td>Ксения АВДЕЕВА</td>\n      <td>17:57</td>\n      <td>17/08/2019</td>\n    </tr>\n    <tr>\n      <th>9</th>\n      <td>Natashinsky</td>\n      <td>Gella HUGINN</td>\n      <td>18:01</td>\n      <td>26/05/2018</td>\n    </tr>\n  </tbody>\n</table>\n</div>"
     },
     "metadata": {},
     "execution_count": 13
    }
   ],
   "source": [
    "data.drop(data.iloc[:,4:], axis=1).sort_values(by=[data.columns[2]]).reset_index(drop=True).head(10)"
   ]
  },
  {
   "cell_type": "markdown",
   "id": "sitting-indonesian",
   "metadata": {},
   "source": [
    "### Топ5 женщин с наибольшим количеством рекордов на разных паркранах"
   ]
  },
  {
   "cell_type": "code",
   "execution_count": 14,
   "id": "danish-calgary",
   "metadata": {},
   "outputs": [
    {
     "output_type": "execute_result",
     "data": {
      "text/plain": [
       "Людмила ХОДАКОВА    9\n",
       "Ксения АВДЕЕВА      4\n",
       "Мария БАБИЧ         3\n",
       "Nina ZARINA         3\n",
       "Лидия ПОПОВА        2\n",
       "Name: (Женщины, Участник), dtype: int64"
      ]
     },
     "metadata": {},
     "execution_count": 14
    }
   ],
   "source": [
    "data[data.columns[1]].value_counts()[:5]"
   ]
  },
  {
   "cell_type": "markdown",
   "id": "prostate-stuff",
   "metadata": {},
   "source": [
    "### 10 самых медленных паркранов (где женские рекорды пока не высокие)"
   ]
  },
  {
   "cell_type": "code",
   "execution_count": 15,
   "id": "seven-correlation",
   "metadata": {},
   "outputs": [
    {
     "output_type": "execute_result",
     "data": {
      "text/plain": [
       "                     Parkrun Женщины\n",
       "                     Паркран   Время\n",
       "0  Strezhevoy Gorodskoy Park   29:09\n",
       "1    Yarmarochnaya Ploshchad   25:38\n",
       "2      Maykop Gorodskoy Park   23:52\n",
       "3      Lobnya Gorodskoy Park   23:43\n",
       "4                Nizhny Prud   22:28\n",
       "5        Kurgan Central Park   22:17\n",
       "6                Komsomolsky   22:09\n",
       "7           Lesopark Severny   22:08\n",
       "8                Starye Sady   22:08\n",
       "9        Tver Rechnoy Vokzal   22:06"
      ],
      "text/html": "<div>\n<style scoped>\n    .dataframe tbody tr th:only-of-type {\n        vertical-align: middle;\n    }\n\n    .dataframe tbody tr th {\n        vertical-align: top;\n    }\n\n    .dataframe thead tr th {\n        text-align: left;\n    }\n</style>\n<table border=\"1\" class=\"dataframe\">\n  <thead>\n    <tr>\n      <th></th>\n      <th>Parkrun</th>\n      <th>Женщины</th>\n    </tr>\n    <tr>\n      <th></th>\n      <th>Паркран</th>\n      <th>Время</th>\n    </tr>\n  </thead>\n  <tbody>\n    <tr>\n      <th>0</th>\n      <td>Strezhevoy Gorodskoy Park</td>\n      <td>29:09</td>\n    </tr>\n    <tr>\n      <th>1</th>\n      <td>Yarmarochnaya Ploshchad</td>\n      <td>25:38</td>\n    </tr>\n    <tr>\n      <th>2</th>\n      <td>Maykop Gorodskoy Park</td>\n      <td>23:52</td>\n    </tr>\n    <tr>\n      <th>3</th>\n      <td>Lobnya Gorodskoy Park</td>\n      <td>23:43</td>\n    </tr>\n    <tr>\n      <th>4</th>\n      <td>Nizhny Prud</td>\n      <td>22:28</td>\n    </tr>\n    <tr>\n      <th>5</th>\n      <td>Kurgan Central Park</td>\n      <td>22:17</td>\n    </tr>\n    <tr>\n      <th>6</th>\n      <td>Komsomolsky</td>\n      <td>22:09</td>\n    </tr>\n    <tr>\n      <th>7</th>\n      <td>Lesopark Severny</td>\n      <td>22:08</td>\n    </tr>\n    <tr>\n      <th>8</th>\n      <td>Starye Sady</td>\n      <td>22:08</td>\n    </tr>\n    <tr>\n      <th>9</th>\n      <td>Tver Rechnoy Vokzal</td>\n      <td>22:06</td>\n    </tr>\n  </tbody>\n</table>\n</div>"
     },
     "metadata": {},
     "execution_count": 15
    }
   ],
   "source": [
    "data.drop(data.iloc[:,3:], axis=1).drop(data.columns[1], axis=1)\\\n",
    ".sort_values(by=[data.columns[2]], ascending=False).reset_index(drop=True).head(10)"
   ]
  },
  {
   "cell_type": "markdown",
   "id": "former-italian",
   "metadata": {},
   "source": [
    "## Разное"
   ]
  },
  {
   "cell_type": "markdown",
   "id": "alleged-preservation",
   "metadata": {},
   "source": [
    "Проверка данных на консистентность"
   ]
  },
  {
   "cell_type": "code",
   "execution_count": 16,
   "id": "selected-copying",
   "metadata": {},
   "outputs": [
    {
     "output_type": "stream",
     "name": "stdout",
     "text": [
      "<class 'pandas.core.frame.DataFrame'>\nRangeIndex: 92 entries, 0 to 91\nData columns (total 7 columns):\n #   Column               Non-Null Count  Dtype \n---  ------               --------------  ----- \n 0   (Parkrun, Паркран)   92 non-null     object\n 1   (Женщины, Участник)  92 non-null     object\n 2   (Женщины, Время)     92 non-null     object\n 3   (Женщины, Дата)      92 non-null     object\n 4   (Мужчины, Участник)  92 non-null     object\n 5   (Мужчины, Время)     92 non-null     object\n 6   (Мужчины, Дата)      92 non-null     object\ndtypes: object(7)\nmemory usage: 5.2+ KB\n"
     ]
    }
   ],
   "source": [
    "data.info()"
   ]
  },
  {
   "cell_type": "code",
   "execution_count": 17,
   "id": "internal-party",
   "metadata": {
    "scrolled": true
   },
   "outputs": [
    {
     "output_type": "execute_result",
     "data": {
      "text/plain": [
       "(92, 7)"
      ]
     },
     "metadata": {},
     "execution_count": 17
    }
   ],
   "source": [
    "data.shape"
   ]
  },
  {
   "cell_type": "code",
   "execution_count": 18,
   "id": "informal-death",
   "metadata": {},
   "outputs": [
    {
     "output_type": "execute_result",
     "data": {
      "text/plain": [
       "MultiIndex([('Parkrun',  'Паркран'),\n",
       "            ('Женщины', 'Участник'),\n",
       "            ('Женщины',    'Время'),\n",
       "            ('Женщины',     'Дата'),\n",
       "            ('Мужчины', 'Участник'),\n",
       "            ('Мужчины',    'Время'),\n",
       "            ('Мужчины',     'Дата')],\n",
       "           )"
      ]
     },
     "metadata": {},
     "execution_count": 18
    }
   ],
   "source": [
    "data.columns"
   ]
  },
  {
   "cell_type": "code",
   "execution_count": 19,
   "id": "annual-portugal",
   "metadata": {},
   "outputs": [],
   "source": [
    "data[data.columns[5]] = ('00:' + data[data.columns[5]]).apply(pd.to_timedelta)"
   ]
  },
  {
   "cell_type": "code",
   "execution_count": 20,
   "id": "supposed-modern",
   "metadata": {},
   "outputs": [
    {
     "output_type": "execute_result",
     "data": {
      "text/plain": [
       "                      Parkrun                Женщины         \\\n",
       "                      Паркран               Участник  Время   \n",
       "0             Angarskie Prudy        Марина ЖАЛЫБИНА  20:24   \n",
       "1       Babushkinsky na Yauze                 Женя Л  19:58   \n",
       "2       Balashikha Zarechnaya    Наталья СТУДЕНИКИНА  17:53   \n",
       "3        Belgorod Park Pobedy         Ксения АВДЕЕВА  19:56   \n",
       "4                       Bitsa         Анна БАЛАКШИНА  18:52   \n",
       "5                 Boeva Dacha           Анна КАРАСЮК  19:36   \n",
       "6                      Butovo        Дарья ЧУДАЙКИНА  18:39   \n",
       "7     Cheboksary naberezhnaya       Людмила ХОДАКОВА  19:14   \n",
       "8                 Chelyabinsk  Антонина ОГОРОДНИКОВА  18:18   \n",
       "9         Chelyabinsk Ekopark     Анастасия СОКОЛОВА  20:48   \n",
       "10  Chertanovo Pokrovsky Park        Elena SHAMSHINA  20:14   \n",
       "11                Dolgoprudny       Марина ГЕОРГИЕВА  19:22   \n",
       "12                    Druzhba            Nina ZARINA  17:45   \n",
       "13              Elagin Ostrov      Анжелика ШЕВЧЕНКО  17:14   \n",
       "14                Filatov Lug        Диана МАРТЫНОВА  20:42   \n",
       "15                       Fili      Екатерина ШЛЯХОВА  20:45   \n",
       "16        Gatchina Prioratsky       Вера ВИНОГРАДОВА  20:45   \n",
       "17                 Gorky Park         Мария БЫСТРОВА  17:26   \n",
       "18       Gorodskoy Park Semya        Оксана ХАФИЗОВА  20:40   \n",
       "19             Gubernsky Park        Ирина КУЗЬМЕНКО  22:03   \n",
       "\n",
       "                                           Мужчины                  \\\n",
       "                           Дата           Участник           Время   \n",
       "0                    27/07/2019      Фёдор БАКУЛОВ 0 days 00:16:53   \n",
       "1                    03/04/2021   Александр ХАНКОВ 0 days 00:16:41   \n",
       "2                    03/04/2021      Роман САЗОНОВ 0 days 00:15:40   \n",
       "3                    10/08/2019   Михаил ЗВЯГИНЦЕВ 0 days 00:16:26   \n",
       "4                    12/08/2017    Виктор НИКОЛАЕВ 0 days 00:16:04   \n",
       "5                    19/12/2020        Иван БУБНОВ 0 days 00:15:58   \n",
       "6                    22/08/2015    Виктор НИКОЛАЕВ 0 days 00:15:57   \n",
       "7                    27/07/2019       Михаил УМНОВ 0 days 00:16:51   \n",
       "8                    23/07/2016      Алексей РЫЖОВ 0 days 00:16:17   \n",
       "9   Новый рекорд на этой неделе    Евгений КУЛИКОВ 0 days 00:17:46   \n",
       "10                   09/11/2019    Андрей ТАРАБРИН 0 days 00:17:43   \n",
       "11                   01/06/2019     Платон КИСЕЛЕВ 0 days 00:16:24   \n",
       "12                   08/06/2019    Алекс БАЗАРЕЛЛО 0 days 00:17:15   \n",
       "13                   10/08/2019   Валентин СМИРНОВ 0 days 00:14:53   \n",
       "14                   10/04/2021    Dmitry MARTYNOV 0 days 00:17:10   \n",
       "15                   10/04/2021    Андрей ТАРАБРИН 0 days 00:17:27   \n",
       "16                   05/10/2019    Yury VINOGRADOV 0 days 00:18:00   \n",
       "17                   21/05/2016   Вячеслав СОКОЛОВ 0 days 00:14:50   \n",
       "18  Новый рекорд на этой неделе  Динар ФАХРИСЛАМОВ 0 days 00:19:35   \n",
       "19                   20/03/2021     Андрей НАЗАРОВ 0 days 00:18:50   \n",
       "\n",
       "                                 \n",
       "                           Дата  \n",
       "0                    28/09/2019  \n",
       "1                    10/04/2021  \n",
       "2                    08/09/2018  \n",
       "3                    07/03/2020  \n",
       "4                    27/10/2018  \n",
       "5                    10/04/2021  \n",
       "6                    06/07/2019  \n",
       "7   Новый рекорд на этой неделе  \n",
       "8                    24/09/2016  \n",
       "9                    14/09/2019  \n",
       "10                   09/11/2019  \n",
       "11                   04/05/2019  \n",
       "12                   18/01/2020  \n",
       "13                   10/08/2019  \n",
       "14                   10/04/2021  \n",
       "15                   10/04/2021  \n",
       "16                   20/07/2019  \n",
       "17                   27/04/2019  \n",
       "18  Новый рекорд на этой неделе  \n",
       "19                   16/01/2021  "
      ],
      "text/html": "<div>\n<style scoped>\n    .dataframe tbody tr th:only-of-type {\n        vertical-align: middle;\n    }\n\n    .dataframe tbody tr th {\n        vertical-align: top;\n    }\n\n    .dataframe thead tr th {\n        text-align: left;\n    }\n</style>\n<table border=\"1\" class=\"dataframe\">\n  <thead>\n    <tr>\n      <th></th>\n      <th>Parkrun</th>\n      <th colspan=\"3\" halign=\"left\">Женщины</th>\n      <th colspan=\"3\" halign=\"left\">Мужчины</th>\n    </tr>\n    <tr>\n      <th></th>\n      <th>Паркран</th>\n      <th>Участник</th>\n      <th>Время</th>\n      <th>Дата</th>\n      <th>Участник</th>\n      <th>Время</th>\n      <th>Дата</th>\n    </tr>\n  </thead>\n  <tbody>\n    <tr>\n      <th>0</th>\n      <td>Angarskie Prudy</td>\n      <td>Марина ЖАЛЫБИНА</td>\n      <td>20:24</td>\n      <td>27/07/2019</td>\n      <td>Фёдор БАКУЛОВ</td>\n      <td>0 days 00:16:53</td>\n      <td>28/09/2019</td>\n    </tr>\n    <tr>\n      <th>1</th>\n      <td>Babushkinsky na Yauze</td>\n      <td>Женя Л</td>\n      <td>19:58</td>\n      <td>03/04/2021</td>\n      <td>Александр ХАНКОВ</td>\n      <td>0 days 00:16:41</td>\n      <td>10/04/2021</td>\n    </tr>\n    <tr>\n      <th>2</th>\n      <td>Balashikha Zarechnaya</td>\n      <td>Наталья СТУДЕНИКИНА</td>\n      <td>17:53</td>\n      <td>03/04/2021</td>\n      <td>Роман САЗОНОВ</td>\n      <td>0 days 00:15:40</td>\n      <td>08/09/2018</td>\n    </tr>\n    <tr>\n      <th>3</th>\n      <td>Belgorod Park Pobedy</td>\n      <td>Ксения АВДЕЕВА</td>\n      <td>19:56</td>\n      <td>10/08/2019</td>\n      <td>Михаил ЗВЯГИНЦЕВ</td>\n      <td>0 days 00:16:26</td>\n      <td>07/03/2020</td>\n    </tr>\n    <tr>\n      <th>4</th>\n      <td>Bitsa</td>\n      <td>Анна БАЛАКШИНА</td>\n      <td>18:52</td>\n      <td>12/08/2017</td>\n      <td>Виктор НИКОЛАЕВ</td>\n      <td>0 days 00:16:04</td>\n      <td>27/10/2018</td>\n    </tr>\n    <tr>\n      <th>5</th>\n      <td>Boeva Dacha</td>\n      <td>Анна КАРАСЮК</td>\n      <td>19:36</td>\n      <td>19/12/2020</td>\n      <td>Иван БУБНОВ</td>\n      <td>0 days 00:15:58</td>\n      <td>10/04/2021</td>\n    </tr>\n    <tr>\n      <th>6</th>\n      <td>Butovo</td>\n      <td>Дарья ЧУДАЙКИНА</td>\n      <td>18:39</td>\n      <td>22/08/2015</td>\n      <td>Виктор НИКОЛАЕВ</td>\n      <td>0 days 00:15:57</td>\n      <td>06/07/2019</td>\n    </tr>\n    <tr>\n      <th>7</th>\n      <td>Cheboksary naberezhnaya</td>\n      <td>Людмила ХОДАКОВА</td>\n      <td>19:14</td>\n      <td>27/07/2019</td>\n      <td>Михаил УМНОВ</td>\n      <td>0 days 00:16:51</td>\n      <td>Новый рекорд на этой неделе</td>\n    </tr>\n    <tr>\n      <th>8</th>\n      <td>Chelyabinsk</td>\n      <td>Антонина ОГОРОДНИКОВА</td>\n      <td>18:18</td>\n      <td>23/07/2016</td>\n      <td>Алексей РЫЖОВ</td>\n      <td>0 days 00:16:17</td>\n      <td>24/09/2016</td>\n    </tr>\n    <tr>\n      <th>9</th>\n      <td>Chelyabinsk Ekopark</td>\n      <td>Анастасия СОКОЛОВА</td>\n      <td>20:48</td>\n      <td>Новый рекорд на этой неделе</td>\n      <td>Евгений КУЛИКОВ</td>\n      <td>0 days 00:17:46</td>\n      <td>14/09/2019</td>\n    </tr>\n    <tr>\n      <th>10</th>\n      <td>Chertanovo Pokrovsky Park</td>\n      <td>Elena SHAMSHINA</td>\n      <td>20:14</td>\n      <td>09/11/2019</td>\n      <td>Андрей ТАРАБРИН</td>\n      <td>0 days 00:17:43</td>\n      <td>09/11/2019</td>\n    </tr>\n    <tr>\n      <th>11</th>\n      <td>Dolgoprudny</td>\n      <td>Марина ГЕОРГИЕВА</td>\n      <td>19:22</td>\n      <td>01/06/2019</td>\n      <td>Платон КИСЕЛЕВ</td>\n      <td>0 days 00:16:24</td>\n      <td>04/05/2019</td>\n    </tr>\n    <tr>\n      <th>12</th>\n      <td>Druzhba</td>\n      <td>Nina ZARINA</td>\n      <td>17:45</td>\n      <td>08/06/2019</td>\n      <td>Алекс БАЗАРЕЛЛО</td>\n      <td>0 days 00:17:15</td>\n      <td>18/01/2020</td>\n    </tr>\n    <tr>\n      <th>13</th>\n      <td>Elagin Ostrov</td>\n      <td>Анжелика ШЕВЧЕНКО</td>\n      <td>17:14</td>\n      <td>10/08/2019</td>\n      <td>Валентин СМИРНОВ</td>\n      <td>0 days 00:14:53</td>\n      <td>10/08/2019</td>\n    </tr>\n    <tr>\n      <th>14</th>\n      <td>Filatov Lug</td>\n      <td>Диана МАРТЫНОВА</td>\n      <td>20:42</td>\n      <td>10/04/2021</td>\n      <td>Dmitry MARTYNOV</td>\n      <td>0 days 00:17:10</td>\n      <td>10/04/2021</td>\n    </tr>\n    <tr>\n      <th>15</th>\n      <td>Fili</td>\n      <td>Екатерина ШЛЯХОВА</td>\n      <td>20:45</td>\n      <td>10/04/2021</td>\n      <td>Андрей ТАРАБРИН</td>\n      <td>0 days 00:17:27</td>\n      <td>10/04/2021</td>\n    </tr>\n    <tr>\n      <th>16</th>\n      <td>Gatchina Prioratsky</td>\n      <td>Вера ВИНОГРАДОВА</td>\n      <td>20:45</td>\n      <td>05/10/2019</td>\n      <td>Yury VINOGRADOV</td>\n      <td>0 days 00:18:00</td>\n      <td>20/07/2019</td>\n    </tr>\n    <tr>\n      <th>17</th>\n      <td>Gorky Park</td>\n      <td>Мария БЫСТРОВА</td>\n      <td>17:26</td>\n      <td>21/05/2016</td>\n      <td>Вячеслав СОКОЛОВ</td>\n      <td>0 days 00:14:50</td>\n      <td>27/04/2019</td>\n    </tr>\n    <tr>\n      <th>18</th>\n      <td>Gorodskoy Park Semya</td>\n      <td>Оксана ХАФИЗОВА</td>\n      <td>20:40</td>\n      <td>Новый рекорд на этой неделе</td>\n      <td>Динар ФАХРИСЛАМОВ</td>\n      <td>0 days 00:19:35</td>\n      <td>Новый рекорд на этой неделе</td>\n    </tr>\n    <tr>\n      <th>19</th>\n      <td>Gubernsky Park</td>\n      <td>Ирина КУЗЬМЕНКО</td>\n      <td>22:03</td>\n      <td>20/03/2021</td>\n      <td>Андрей НАЗАРОВ</td>\n      <td>0 days 00:18:50</td>\n      <td>16/01/2021</td>\n    </tr>\n  </tbody>\n</table>\n</div>"
     },
     "metadata": {},
     "execution_count": 20
    }
   ],
   "source": [
    "data.head(20)"
   ]
  },
  {
   "cell_type": "code",
   "execution_count": 21,
   "id": "necessary-milwaukee",
   "metadata": {},
   "outputs": [
    {
     "output_type": "stream",
     "name": "stdout",
     "text": [
      "<class 'pandas.core.frame.DataFrame'>\nRangeIndex: 92 entries, 0 to 91\nData columns (total 7 columns):\n #   Column               Non-Null Count  Dtype          \n---  ------               --------------  -----          \n 0   (Parkrun, Паркран)   92 non-null     object         \n 1   (Женщины, Участник)  92 non-null     object         \n 2   (Женщины, Время)     92 non-null     object         \n 3   (Женщины, Дата)      92 non-null     object         \n 4   (Мужчины, Участник)  92 non-null     object         \n 5   (Мужчины, Время)     92 non-null     timedelta64[ns]\n 6   (Мужчины, Дата)      92 non-null     object         \ndtypes: object(6), timedelta64[ns](1)\nmemory usage: 5.2+ KB\n"
     ]
    }
   ],
   "source": [
    "data.info()"
   ]
  },
  {
   "cell_type": "code",
   "execution_count": 22,
   "id": "modern-benjamin",
   "metadata": {},
   "outputs": [
    {
     "output_type": "execute_result",
     "data": {
      "text/plain": [
       "0    0 days 00:20:24\n",
       "1    0 days 00:19:58\n",
       "2    0 days 00:17:53\n",
       "3    0 days 00:19:56\n",
       "4    0 days 00:18:52\n",
       "5    0 days 00:19:36\n",
       "6    0 days 00:18:39\n",
       "7    0 days 00:19:14\n",
       "8    0 days 00:18:18\n",
       "9    0 days 00:20:48\n",
       "10   0 days 00:20:14\n",
       "11   0 days 00:19:22\n",
       "12   0 days 00:17:45\n",
       "13   0 days 00:17:14\n",
       "14   0 days 00:20:42\n",
       "15   0 days 00:20:45\n",
       "16   0 days 00:20:45\n",
       "17   0 days 00:17:26\n",
       "18   0 days 00:20:40\n",
       "19   0 days 00:22:03\n",
       "20   0 days 00:18:27\n",
       "21   0 days 00:20:29\n",
       "22   0 days 00:19:57\n",
       "23   0 days 00:19:34\n",
       "24   0 days 00:19:18\n",
       "25   0 days 00:17:57\n",
       "26   0 days 00:20:10\n",
       "27   0 days 00:22:09\n",
       "28   0 days 00:19:11\n",
       "29   0 days 00:18:47\n",
       "30   0 days 00:19:05\n",
       "31   0 days 00:22:17\n",
       "32   0 days 00:18:16\n",
       "33   0 days 00:22:08\n",
       "34   0 days 00:23:43\n",
       "35   0 days 00:23:52\n",
       "36   0 days 00:19:07\n",
       "37   0 days 00:18:12\n",
       "38   0 days 00:19:14\n",
       "39   0 days 00:18:22\n",
       "40   0 days 00:21:01\n",
       "41   0 days 00:18:01\n",
       "42   0 days 00:19:42\n",
       "43   0 days 00:22:28\n",
       "44   0 days 00:21:26\n",
       "45   0 days 00:19:57\n",
       "46   0 days 00:19:06\n",
       "47   0 days 00:19:59\n",
       "48   0 days 00:20:00\n",
       "49   0 days 00:20:56\n",
       "50   0 days 00:21:54\n",
       "51   0 days 00:21:50\n",
       "52   0 days 00:21:39\n",
       "53   0 days 00:18:39\n",
       "54   0 days 00:18:23\n",
       "55   0 days 00:19:25\n",
       "56   0 days 00:17:42\n",
       "57   0 days 00:18:32\n",
       "58   0 days 00:21:23\n",
       "59   0 days 00:17:24\n",
       "60   0 days 00:19:02\n",
       "61   0 days 00:18:59\n",
       "62   0 days 00:17:42\n",
       "63   0 days 00:19:27\n",
       "64   0 days 00:20:54\n",
       "65   0 days 00:18:42\n",
       "66   0 days 00:19:34\n",
       "67   0 days 00:21:23\n",
       "68   0 days 00:19:32\n",
       "69   0 days 00:20:17\n",
       "70   0 days 00:18:08\n",
       "71   0 days 00:22:08\n",
       "72   0 days 00:18:31\n",
       "73   0 days 00:20:29\n",
       "74   0 days 00:29:09\n",
       "75   0 days 00:19:04\n",
       "76   0 days 00:18:17\n",
       "77   0 days 00:22:05\n",
       "78   0 days 00:19:59\n",
       "79   0 days 00:18:11\n",
       "80   0 days 00:22:06\n",
       "81   0 days 00:16:02\n",
       "82   0 days 00:19:24\n",
       "83   0 days 00:18:39\n",
       "84   0 days 00:18:25\n",
       "85   0 days 00:19:12\n",
       "86   0 days 00:20:24\n",
       "87   0 days 00:25:38\n",
       "88   0 days 00:20:13\n",
       "89   0 days 00:20:02\n",
       "90   0 days 00:18:43\n",
       "91   0 days 00:20:19\n",
       "Name: (Женщины, Время), dtype: timedelta64[ns]"
      ]
     },
     "metadata": {},
     "execution_count": 22
    }
   ],
   "source": [
    "pd.to_timedelta('00:' + data[data.columns[2]])"
   ]
  },
  {
   "cell_type": "code",
   "execution_count": 23,
   "id": "enormous-dinner",
   "metadata": {},
   "outputs": [],
   "source": [
    "data[data.columns[6]] = data[data.columns[6]].astype('str')\n",
    "#df['B'] = df['B'].astype('str')"
   ]
  },
  {
   "cell_type": "code",
   "execution_count": null,
   "id": "liked-salem",
   "metadata": {},
   "outputs": [],
   "source": []
  }
 ],
 "metadata": {
  "kernelspec": {
   "display_name": "Python 3",
   "language": "python",
   "name": "python3"
  },
  "language_info": {
   "codemirror_mode": {
    "name": "ipython",
    "version": 3
   },
   "file_extension": ".py",
   "mimetype": "text/x-python",
   "name": "python",
   "nbconvert_exporter": "python",
   "pygments_lexer": "ipython3",
   "version": "3.8.6-final"
  }
 },
 "nbformat": 4,
 "nbformat_minor": 5
}