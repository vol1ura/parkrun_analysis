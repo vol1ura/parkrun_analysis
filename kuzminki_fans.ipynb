{
 "cells": [
  {
   "cell_type": "code",
   "execution_count": 1,
   "id": "aboriginal-corpus",
   "metadata": {},
   "outputs": [],
   "source": [
    "import re\n",
    "import requests\n",
    "import pandas as pd\n",
    "import matplotlib.pyplot as plt\n",
    "import seaborn as sns\n",
    "%matplotlib inline"
   ]
  },
  {
   "cell_type": "markdown",
   "id": "local-distribution",
   "metadata": {},
   "source": [
    "# Wake&Run на parkrun Кузьминки"
   ]
  },
  {
   "cell_type": "markdown",
   "id": "specialized-template",
   "metadata": {},
   "source": [
    "Здесь, в принципе, можно подставить идентификатор любого другого паркрана и ID любого другого клуба."
   ]
  },
  {
   "cell_type": "code",
   "execution_count": 2,
   "id": "refined-surveillance",
   "metadata": {},
   "outputs": [],
   "source": [
    "parkrun = 'kuzminki'\n",
    "club_id = 23212\n",
    "club_name = 'Wake&Run'"
   ]
  },
  {
   "cell_type": "markdown",
   "id": "south-requirement",
   "metadata": {},
   "source": [
    "Список идентификаторов всех российских паркранов находится в файле `russian_parkruns.csv`."
   ]
  },
  {
   "cell_type": "code",
   "execution_count": 3,
   "id": "smoking-thing",
   "metadata": {},
   "outputs": [],
   "source": [
    "url = f'https://www.parkrun.ru/{parkrun}/results/clubhistory/?clubNum=' + str(club_id)\n",
    "page_all_results = requests.get(url, headers={'User-Agent': 'Mozilla/5.0 (X11; Ubuntu; Linux x86_64; rv:86.0) Gecko/20100101 Firefox/86.0'})"
   ]
  },
  {
   "cell_type": "code",
   "execution_count": 4,
   "id": "according-listening",
   "metadata": {},
   "outputs": [],
   "source": [
    "data = pd.read_html(page_all_results.text)[0]\n",
    "data.drop(data.columns[[1, 5, 9, 12]], axis=1, inplace=True)\n",
    "data.rename(columns={data.columns[0][0]: 'Участник', data.columns[0][1]: club_name}, inplace=True)"
   ]
  },
  {
   "cell_type": "code",
   "execution_count": 5,
   "id": "statewide-atmosphere",
   "metadata": {},
   "outputs": [
    {
     "output_type": "execute_result",
     "data": {
      "text/plain": [
       "                 Участник  Время                 Рейтинги                    \\\n",
       "                 Wake&Run  Лучш. Средн.    Худш.    Лучш.   Средн.    Худш.   \n",
       "0            Герман ЖАРОВ  16:07  20:21    29:46  80.04 %  65.68 %  43.51 %   \n",
       "1        Сергей БАБУШИНОВ  17:01  17:42    18:23  79.04 %  76.06 %  73.16 %   \n",
       "2         Максим ПЕТРИЩЕВ  17:22  22:08    32:50  75.46 %  61.00 %  39.59 %   \n",
       "3        Дмитрий АРДАБЬЕВ  18:00  18:39    20:04  71.67 %  69.18 %  64.29 %   \n",
       "4      Алексей МИЛОВЗОРОВ  18:11  22:45    37:08  70.94 %  58.58 %  34.74 %   \n",
       "..                    ...    ...    ...      ...      ...      ...      ...   \n",
       "154   Виктория СОЛОПАНОВА  38:23  39:26    40:30  38.56 %  37.55 %  36.54 %   \n",
       "155  Александра ПОСТОЯЛКО  45:18  45:21    45:24  32.82 %  32.78 %  32.75 %   \n",
       "156        Антон ЧЕРНИКОВ  45:37  46:07    46:37  32.59 %  32.24 %  31.89 %   \n",
       "157     Дмитрий КАТАНСКИЙ  45:48  45:48    45:48  28.17 %  28.17 %  28.17 %   \n",
       "158    Мирослава САВЕЛОВА  55:56  58:31  1:01:06  36.95 %  34.46 %  31.97 %   \n",
       "\n",
       "       Число    Всего  \n",
       "    Пробежки Пробежки  \n",
       "0        106      110  \n",
       "1          3       40  \n",
       "2         31      100  \n",
       "3         10       10  \n",
       "4         84       89  \n",
       "..       ...      ...  \n",
       "154        2        2  \n",
       "155        2        2  \n",
       "156        2        2  \n",
       "157        1        1  \n",
       "158        2        2  \n",
       "\n",
       "[159 rows x 9 columns]"
      ],
      "text/html": "<div>\n<style scoped>\n    .dataframe tbody tr th:only-of-type {\n        vertical-align: middle;\n    }\n\n    .dataframe tbody tr th {\n        vertical-align: top;\n    }\n\n    .dataframe thead tr th {\n        text-align: left;\n    }\n</style>\n<table border=\"1\" class=\"dataframe\">\n  <thead>\n    <tr>\n      <th></th>\n      <th>Участник</th>\n      <th colspan=\"3\" halign=\"left\">Время</th>\n      <th colspan=\"3\" halign=\"left\">Рейтинги</th>\n      <th>Число</th>\n      <th>Всего</th>\n    </tr>\n    <tr>\n      <th></th>\n      <th>Wake&amp;Run</th>\n      <th>Лучш.</th>\n      <th>Средн.</th>\n      <th>Худш.</th>\n      <th>Лучш.</th>\n      <th>Средн.</th>\n      <th>Худш.</th>\n      <th>Пробежки</th>\n      <th>Пробежки</th>\n    </tr>\n  </thead>\n  <tbody>\n    <tr>\n      <th>0</th>\n      <td>Герман ЖАРОВ</td>\n      <td>16:07</td>\n      <td>20:21</td>\n      <td>29:46</td>\n      <td>80.04 %</td>\n      <td>65.68 %</td>\n      <td>43.51 %</td>\n      <td>106</td>\n      <td>110</td>\n    </tr>\n    <tr>\n      <th>1</th>\n      <td>Сергей БАБУШИНОВ</td>\n      <td>17:01</td>\n      <td>17:42</td>\n      <td>18:23</td>\n      <td>79.04 %</td>\n      <td>76.06 %</td>\n      <td>73.16 %</td>\n      <td>3</td>\n      <td>40</td>\n    </tr>\n    <tr>\n      <th>2</th>\n      <td>Максим ПЕТРИЩЕВ</td>\n      <td>17:22</td>\n      <td>22:08</td>\n      <td>32:50</td>\n      <td>75.46 %</td>\n      <td>61.00 %</td>\n      <td>39.59 %</td>\n      <td>31</td>\n      <td>100</td>\n    </tr>\n    <tr>\n      <th>3</th>\n      <td>Дмитрий АРДАБЬЕВ</td>\n      <td>18:00</td>\n      <td>18:39</td>\n      <td>20:04</td>\n      <td>71.67 %</td>\n      <td>69.18 %</td>\n      <td>64.29 %</td>\n      <td>10</td>\n      <td>10</td>\n    </tr>\n    <tr>\n      <th>4</th>\n      <td>Алексей МИЛОВЗОРОВ</td>\n      <td>18:11</td>\n      <td>22:45</td>\n      <td>37:08</td>\n      <td>70.94 %</td>\n      <td>58.58 %</td>\n      <td>34.74 %</td>\n      <td>84</td>\n      <td>89</td>\n    </tr>\n    <tr>\n      <th>...</th>\n      <td>...</td>\n      <td>...</td>\n      <td>...</td>\n      <td>...</td>\n      <td>...</td>\n      <td>...</td>\n      <td>...</td>\n      <td>...</td>\n      <td>...</td>\n    </tr>\n    <tr>\n      <th>154</th>\n      <td>Виктория СОЛОПАНОВА</td>\n      <td>38:23</td>\n      <td>39:26</td>\n      <td>40:30</td>\n      <td>38.56 %</td>\n      <td>37.55 %</td>\n      <td>36.54 %</td>\n      <td>2</td>\n      <td>2</td>\n    </tr>\n    <tr>\n      <th>155</th>\n      <td>Александра ПОСТОЯЛКО</td>\n      <td>45:18</td>\n      <td>45:21</td>\n      <td>45:24</td>\n      <td>32.82 %</td>\n      <td>32.78 %</td>\n      <td>32.75 %</td>\n      <td>2</td>\n      <td>2</td>\n    </tr>\n    <tr>\n      <th>156</th>\n      <td>Антон ЧЕРНИКОВ</td>\n      <td>45:37</td>\n      <td>46:07</td>\n      <td>46:37</td>\n      <td>32.59 %</td>\n      <td>32.24 %</td>\n      <td>31.89 %</td>\n      <td>2</td>\n      <td>2</td>\n    </tr>\n    <tr>\n      <th>157</th>\n      <td>Дмитрий КАТАНСКИЙ</td>\n      <td>45:48</td>\n      <td>45:48</td>\n      <td>45:48</td>\n      <td>28.17 %</td>\n      <td>28.17 %</td>\n      <td>28.17 %</td>\n      <td>1</td>\n      <td>1</td>\n    </tr>\n    <tr>\n      <th>158</th>\n      <td>Мирослава САВЕЛОВА</td>\n      <td>55:56</td>\n      <td>58:31</td>\n      <td>1:01:06</td>\n      <td>36.95 %</td>\n      <td>34.46 %</td>\n      <td>31.97 %</td>\n      <td>2</td>\n      <td>2</td>\n    </tr>\n  </tbody>\n</table>\n<p>159 rows × 9 columns</p>\n</div>"
     },
     "metadata": {},
     "execution_count": 5
    }
   ],
   "source": [
    "data"
   ]
  },
  {
   "cell_type": "markdown",
   "id": "possible-console",
   "metadata": {},
   "source": [
    "### Участники клуба с наибольшим количеством пробежек на паркране Кузьминки"
   ]
  },
  {
   "cell_type": "code",
   "execution_count": 6,
   "id": "virtual-mozambique",
   "metadata": {},
   "outputs": [
    {
     "output_type": "execute_result",
     "data": {
      "text/plain": [
       "            Участник    Число\n",
       "            Wake&Run Пробежки\n",
       "0       Андрей ЧИВИН      154\n",
       "1      Максим СИЛАЕВ      143\n",
       "2       Иван АРТЮШОВ      128\n",
       "3       Герман ЖАРОВ      106\n",
       "4  Александр ЩЁЛОКОВ      106\n",
       "5     Алексей ЗЕРНОВ      102\n",
       "6        Сергей СЕРЖ      102\n",
       "7  Наталия ДУЛЕБЕНЕЦ       97\n",
       "8     Даниил ЯШНИКОВ       97\n",
       "9    Сергей РОМАШКИН       97"
      ],
      "text/html": "<div>\n<style scoped>\n    .dataframe tbody tr th:only-of-type {\n        vertical-align: middle;\n    }\n\n    .dataframe tbody tr th {\n        vertical-align: top;\n    }\n\n    .dataframe thead tr th {\n        text-align: left;\n    }\n</style>\n<table border=\"1\" class=\"dataframe\">\n  <thead>\n    <tr>\n      <th></th>\n      <th>Участник</th>\n      <th>Число</th>\n    </tr>\n    <tr>\n      <th></th>\n      <th>Wake&amp;Run</th>\n      <th>Пробежки</th>\n    </tr>\n  </thead>\n  <tbody>\n    <tr>\n      <th>0</th>\n      <td>Андрей ЧИВИН</td>\n      <td>154</td>\n    </tr>\n    <tr>\n      <th>1</th>\n      <td>Максим СИЛАЕВ</td>\n      <td>143</td>\n    </tr>\n    <tr>\n      <th>2</th>\n      <td>Иван АРТЮШОВ</td>\n      <td>128</td>\n    </tr>\n    <tr>\n      <th>3</th>\n      <td>Герман ЖАРОВ</td>\n      <td>106</td>\n    </tr>\n    <tr>\n      <th>4</th>\n      <td>Александр ЩЁЛОКОВ</td>\n      <td>106</td>\n    </tr>\n    <tr>\n      <th>5</th>\n      <td>Алексей ЗЕРНОВ</td>\n      <td>102</td>\n    </tr>\n    <tr>\n      <th>6</th>\n      <td>Сергей СЕРЖ</td>\n      <td>102</td>\n    </tr>\n    <tr>\n      <th>7</th>\n      <td>Наталия ДУЛЕБЕНЕЦ</td>\n      <td>97</td>\n    </tr>\n    <tr>\n      <th>8</th>\n      <td>Даниил ЯШНИКОВ</td>\n      <td>97</td>\n    </tr>\n    <tr>\n      <th>9</th>\n      <td>Сергей РОМАШКИН</td>\n      <td>97</td>\n    </tr>\n  </tbody>\n</table>\n</div>"
     },
     "metadata": {},
     "execution_count": 6
    }
   ],
   "source": [
    "data.drop(data.iloc[:,1:7], axis=1).drop(data.columns[8], axis=1).sort_values(by=[data.columns[7]], ascending=False).reset_index(drop=True).head(10)"
   ]
  },
  {
   "cell_type": "markdown",
   "id": "governing-wheel",
   "metadata": {},
   "source": [
    "### Участники клуба с наибольшим количеством всех паркранов"
   ]
  },
  {
   "cell_type": "code",
   "execution_count": 7,
   "id": "stuffed-declaration",
   "metadata": {},
   "outputs": [
    {
     "output_type": "execute_result",
     "data": {
      "text/plain": [
       "            Участник    Всего\n",
       "            Wake&Run Пробежки\n",
       "0       Андрей ЧИВИН      249\n",
       "1  Наталия ДУЛЕБЕНЕЦ      243\n",
       "2     Наталья ЧИВИНА      168\n",
       "3      Максим СИЛАЕВ      154\n",
       "4  Александр ЩЁЛОКОВ      146\n",
       "5       Иван АРТЮШОВ      128\n",
       "6     Алексей ЗЕРНОВ      126\n",
       "7        Сергей СЕРЖ      124\n",
       "8    Василий ВЕРЯЛИН      112\n",
       "9   Наталия ВЕРЯЛИНА      112"
      ],
      "text/html": "<div>\n<style scoped>\n    .dataframe tbody tr th:only-of-type {\n        vertical-align: middle;\n    }\n\n    .dataframe tbody tr th {\n        vertical-align: top;\n    }\n\n    .dataframe thead tr th {\n        text-align: left;\n    }\n</style>\n<table border=\"1\" class=\"dataframe\">\n  <thead>\n    <tr>\n      <th></th>\n      <th>Участник</th>\n      <th>Всего</th>\n    </tr>\n    <tr>\n      <th></th>\n      <th>Wake&amp;Run</th>\n      <th>Пробежки</th>\n    </tr>\n  </thead>\n  <tbody>\n    <tr>\n      <th>0</th>\n      <td>Андрей ЧИВИН</td>\n      <td>249</td>\n    </tr>\n    <tr>\n      <th>1</th>\n      <td>Наталия ДУЛЕБЕНЕЦ</td>\n      <td>243</td>\n    </tr>\n    <tr>\n      <th>2</th>\n      <td>Наталья ЧИВИНА</td>\n      <td>168</td>\n    </tr>\n    <tr>\n      <th>3</th>\n      <td>Максим СИЛАЕВ</td>\n      <td>154</td>\n    </tr>\n    <tr>\n      <th>4</th>\n      <td>Александр ЩЁЛОКОВ</td>\n      <td>146</td>\n    </tr>\n    <tr>\n      <th>5</th>\n      <td>Иван АРТЮШОВ</td>\n      <td>128</td>\n    </tr>\n    <tr>\n      <th>6</th>\n      <td>Алексей ЗЕРНОВ</td>\n      <td>126</td>\n    </tr>\n    <tr>\n      <th>7</th>\n      <td>Сергей СЕРЖ</td>\n      <td>124</td>\n    </tr>\n    <tr>\n      <th>8</th>\n      <td>Василий ВЕРЯЛИН</td>\n      <td>112</td>\n    </tr>\n    <tr>\n      <th>9</th>\n      <td>Наталия ВЕРЯЛИНА</td>\n      <td>112</td>\n    </tr>\n  </tbody>\n</table>\n</div>"
     },
     "metadata": {},
     "execution_count": 7
    }
   ],
   "source": [
    "data.drop(data.iloc[:,1:8], axis=1).sort_values(by=[data.columns[8]], ascending=False).reset_index(drop=True).head(10)"
   ]
  },
  {
   "cell_type": "markdown",
   "id": "breathing-astrology",
   "metadata": {},
   "source": [
    "### Самые быстрые бегуны клуба"
   ]
  },
  {
   "cell_type": "code",
   "execution_count": 8,
   "id": "unusual-headquarters",
   "metadata": {},
   "outputs": [
    {
     "output_type": "execute_result",
     "data": {
      "text/plain": [
       "                 Участник  Время\n",
       "                 Wake&Run  Лучш.\n",
       "0            Герман ЖАРОВ  16:07\n",
       "1        Сергей БАБУШИНОВ  17:01\n",
       "2         Максим ПЕТРИЩЕВ  17:22\n",
       "3        Дмитрий АРДАБЬЕВ  18:00\n",
       "4      Алексей МИЛОВЗОРОВ  18:11\n",
       "5           Максим СИЛАЕВ  18:12\n",
       "6       Адильхан МУРЗАШЕВ  18:19\n",
       "7            Андрей ЧИВИН  18:27\n",
       "8         Владимир ШИРЯЕВ  18:43\n",
       "9  Гаджимурад АБДУРАШИДОВ  18:46"
      ],
      "text/html": "<div>\n<style scoped>\n    .dataframe tbody tr th:only-of-type {\n        vertical-align: middle;\n    }\n\n    .dataframe tbody tr th {\n        vertical-align: top;\n    }\n\n    .dataframe thead tr th {\n        text-align: left;\n    }\n</style>\n<table border=\"1\" class=\"dataframe\">\n  <thead>\n    <tr>\n      <th></th>\n      <th>Участник</th>\n      <th>Время</th>\n    </tr>\n    <tr>\n      <th></th>\n      <th>Wake&amp;Run</th>\n      <th>Лучш.</th>\n    </tr>\n  </thead>\n  <tbody>\n    <tr>\n      <th>0</th>\n      <td>Герман ЖАРОВ</td>\n      <td>16:07</td>\n    </tr>\n    <tr>\n      <th>1</th>\n      <td>Сергей БАБУШИНОВ</td>\n      <td>17:01</td>\n    </tr>\n    <tr>\n      <th>2</th>\n      <td>Максим ПЕТРИЩЕВ</td>\n      <td>17:22</td>\n    </tr>\n    <tr>\n      <th>3</th>\n      <td>Дмитрий АРДАБЬЕВ</td>\n      <td>18:00</td>\n    </tr>\n    <tr>\n      <th>4</th>\n      <td>Алексей МИЛОВЗОРОВ</td>\n      <td>18:11</td>\n    </tr>\n    <tr>\n      <th>5</th>\n      <td>Максим СИЛАЕВ</td>\n      <td>18:12</td>\n    </tr>\n    <tr>\n      <th>6</th>\n      <td>Адильхан МУРЗАШЕВ</td>\n      <td>18:19</td>\n    </tr>\n    <tr>\n      <th>7</th>\n      <td>Андрей ЧИВИН</td>\n      <td>18:27</td>\n    </tr>\n    <tr>\n      <th>8</th>\n      <td>Владимир ШИРЯЕВ</td>\n      <td>18:43</td>\n    </tr>\n    <tr>\n      <th>9</th>\n      <td>Гаджимурад АБДУРАШИДОВ</td>\n      <td>18:46</td>\n    </tr>\n  </tbody>\n</table>\n</div>"
     },
     "metadata": {},
     "execution_count": 8
    }
   ],
   "source": [
    "data.drop(data.iloc[:,2:], axis=1).sort_values(by=[data.columns[1]]).reset_index(drop=True).head(10)"
   ]
  },
  {
   "cell_type": "code",
   "execution_count": null,
   "id": "square-cabin",
   "metadata": {},
   "outputs": [],
   "source": []
  }
 ],
 "metadata": {
  "kernelspec": {
   "display_name": "Python 3.8.6 64-bit",
   "language": "python",
   "name": "python38664bit1abcd6f326aa42be8eacd70a48930446"
  },
  "language_info": {
   "codemirror_mode": {
    "name": "ipython",
    "version": 3
   },
   "file_extension": ".py",
   "mimetype": "text/x-python",
   "name": "python",
   "nbconvert_exporter": "python",
   "pygments_lexer": "ipython3",
   "version": "3.8.6-final"
  }
 },
 "nbformat": 4,
 "nbformat_minor": 5
}