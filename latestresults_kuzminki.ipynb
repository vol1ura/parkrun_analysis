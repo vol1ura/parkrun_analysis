{
 "cells": [
  {
   "cell_type": "code",
   "execution_count": 1,
   "id": "expected-script",
   "metadata": {},
   "outputs": [],
   "source": [
    "import requests\n",
    "import pandas as pd"
   ]
  },
  {
   "cell_type": "code",
   "execution_count": 2,
   "id": "smoking-thing",
   "metadata": {},
   "outputs": [],
   "source": [
    "page_all_results = requests.get('https://www.parkrun.ru/kuzminki/results/latestresults/', \n",
    "                                headers={'User-Agent': 'Mozilla/5.0 (X11; Ubuntu; Linux x86_64; rv:86.0) Gecko/20100101 Firefox/86.0'})"
   ]
  },
  {
   "cell_type": "code",
   "execution_count": 3,
   "id": "according-listening",
   "metadata": {},
   "outputs": [],
   "source": [
    "data = pd.read_html(page_all_results.text)[0]"
   ]
  },
  {
   "cell_type": "code",
   "execution_count": 4,
   "id": "naval-veteran",
   "metadata": {},
   "outputs": [
    {
     "data": {
      "text/html": [
       "<div>\n",
       "<style scoped>\n",
       "    .dataframe tbody tr th:only-of-type {\n",
       "        vertical-align: middle;\n",
       "    }\n",
       "\n",
       "    .dataframe tbody tr th {\n",
       "        vertical-align: top;\n",
       "    }\n",
       "\n",
       "    .dataframe thead th {\n",
       "        text-align: right;\n",
       "    }\n",
       "</style>\n",
       "<table border=\"1\" class=\"dataframe\">\n",
       "  <thead>\n",
       "    <tr style=\"text-align: right;\">\n",
       "      <th></th>\n",
       "      <th>Позиция</th>\n",
       "      <th>Участник</th>\n",
       "      <th>Пол</th>\n",
       "      <th>Возр. группа</th>\n",
       "      <th>Клуб</th>\n",
       "      <th>Время</th>\n",
       "    </tr>\n",
       "  </thead>\n",
       "  <tbody>\n",
       "    <tr>\n",
       "      <th>0</th>\n",
       "      <td>1</td>\n",
       "      <td>Виктор НИКОЛАЕВ41 забеги parkrun | Мужской  1 ...</td>\n",
       "      <td>Мужской  1</td>\n",
       "      <td>СМ30-3482.45% возрастной рейтинг</td>\n",
       "      <td>NaN</td>\n",
       "      <td>15:46Новый ЛР!</td>\n",
       "    </tr>\n",
       "    <tr>\n",
       "      <th>1</th>\n",
       "      <td>2</td>\n",
       "      <td>Алексей КАТРЕНКО13 забеги parkrun | Мужской  2...</td>\n",
       "      <td>Мужской  2</td>\n",
       "      <td>СМ30-3475.46% возрастной рейтинг</td>\n",
       "      <td>NaN</td>\n",
       "      <td>17:23Новый ЛР!</td>\n",
       "    </tr>\n",
       "    <tr>\n",
       "      <th>2</th>\n",
       "      <td>3</td>\n",
       "      <td>Александр ТАГАНЦЕВ56 забеги parkrun | Мужской ...</td>\n",
       "      <td>Мужской  3</td>\n",
       "      <td>СМ25-2971.27% возрастной рейтинг</td>\n",
       "      <td>Парсек</td>\n",
       "      <td>18:06ЛР 16:54</td>\n",
       "    </tr>\n",
       "    <tr>\n",
       "      <th>3</th>\n",
       "      <td>4</td>\n",
       "      <td>Владимир ИВАНОВ54 забеги parkrun | Мужской  4 ...</td>\n",
       "      <td>Мужской  4</td>\n",
       "      <td>СМ25-2968.74% возрастной рейтинг</td>\n",
       "      <td>NaN</td>\n",
       "      <td>18:46ЛР 17:31</td>\n",
       "    </tr>\n",
       "    <tr>\n",
       "      <th>4</th>\n",
       "      <td>5</td>\n",
       "      <td>Leonardo GONZALEZ52 забеги parkrun | Мужской  ...</td>\n",
       "      <td>Мужской  5</td>\n",
       "      <td>ВМ45-4977.08% возрастной рейтинг</td>\n",
       "      <td>NaN</td>\n",
       "      <td>18:50ЛР 18:40</td>\n",
       "    </tr>\n",
       "    <tr>\n",
       "      <th>...</th>\n",
       "      <td>...</td>\n",
       "      <td>...</td>\n",
       "      <td>...</td>\n",
       "      <td>...</td>\n",
       "      <td>...</td>\n",
       "      <td>...</td>\n",
       "    </tr>\n",
       "    <tr>\n",
       "      <th>149</th>\n",
       "      <td>150</td>\n",
       "      <td>Мария ЭЗАУ18 забеги parkrun | Женский  47  СЖ2...</td>\n",
       "      <td>Женский  47</td>\n",
       "      <td>СЖ20-2438.93% возрастной рейтинг</td>\n",
       "      <td>NaN</td>\n",
       "      <td>38:01ЛР 28:24</td>\n",
       "    </tr>\n",
       "    <tr>\n",
       "      <th>150</th>\n",
       "      <td>151</td>\n",
       "      <td>Анастасия САВЧЕНКО1 забег parkrun | Женский  4...</td>\n",
       "      <td>Женский  48</td>\n",
       "      <td>СЖ20-2435.04% возрастной рейтинг</td>\n",
       "      <td>NaN</td>\n",
       "      <td>42:14Первый паркран!</td>\n",
       "    </tr>\n",
       "    <tr>\n",
       "      <th>151</th>\n",
       "      <td>152</td>\n",
       "      <td>Любовь КАЗАНЦЕВА21 забеги parkrun | Женский  4...</td>\n",
       "      <td>Женский  49</td>\n",
       "      <td>ВЖ55-5937.90% возрастной рейтинг</td>\n",
       "      <td>NaN</td>\n",
       "      <td>49:47ЛР 43:53</td>\n",
       "    </tr>\n",
       "    <tr>\n",
       "      <th>152</th>\n",
       "      <td>153</td>\n",
       "      <td>Андрей ЧИВИН245 забеги parkrun | Мужской  94  ...</td>\n",
       "      <td>Мужской  94</td>\n",
       "      <td>ВМ40-4427.32% возрастной рейтинг</td>\n",
       "      <td>Wake&amp;Run</td>\n",
       "      <td>49:58ЛР 18:27</td>\n",
       "    </tr>\n",
       "    <tr>\n",
       "      <th>153</th>\n",
       "      <td>154</td>\n",
       "      <td>Марина УСИЧЕНКО4 забеги parkrun | Женский  50 ...</td>\n",
       "      <td>Женский  50</td>\n",
       "      <td>ВЖ40-4430.62% возрастной рейтинг</td>\n",
       "      <td>NaN</td>\n",
       "      <td>49:58ЛР 35:38</td>\n",
       "    </tr>\n",
       "  </tbody>\n",
       "</table>\n",
       "<p>154 rows × 6 columns</p>\n",
       "</div>"
      ],
      "text/plain": [
       "     Позиция                                           Участник          Пол  \\\n",
       "0          1  Виктор НИКОЛАЕВ41 забеги parkrun | Мужской  1 ...   Мужской  1   \n",
       "1          2  Алексей КАТРЕНКО13 забеги parkrun | Мужской  2...   Мужской  2   \n",
       "2          3  Александр ТАГАНЦЕВ56 забеги parkrun | Мужской ...   Мужской  3   \n",
       "3          4  Владимир ИВАНОВ54 забеги parkrun | Мужской  4 ...   Мужской  4   \n",
       "4          5  Leonardo GONZALEZ52 забеги parkrun | Мужской  ...   Мужской  5   \n",
       "..       ...                                                ...          ...   \n",
       "149      150  Мария ЭЗАУ18 забеги parkrun | Женский  47  СЖ2...  Женский  47   \n",
       "150      151  Анастасия САВЧЕНКО1 забег parkrun | Женский  4...  Женский  48   \n",
       "151      152  Любовь КАЗАНЦЕВА21 забеги parkrun | Женский  4...  Женский  49   \n",
       "152      153  Андрей ЧИВИН245 забеги parkrun | Мужской  94  ...  Мужской  94   \n",
       "153      154  Марина УСИЧЕНКО4 забеги parkrun | Женский  50 ...  Женский  50   \n",
       "\n",
       "                         Возр. группа      Клуб                 Время  \n",
       "0    СМ30-3482.45% возрастной рейтинг       NaN        15:46Новый ЛР!  \n",
       "1    СМ30-3475.46% возрастной рейтинг       NaN        17:23Новый ЛР!  \n",
       "2    СМ25-2971.27% возрастной рейтинг    Парсек         18:06ЛР 16:54  \n",
       "3    СМ25-2968.74% возрастной рейтинг       NaN         18:46ЛР 17:31  \n",
       "4    ВМ45-4977.08% возрастной рейтинг       NaN         18:50ЛР 18:40  \n",
       "..                                ...       ...                   ...  \n",
       "149  СЖ20-2438.93% возрастной рейтинг       NaN         38:01ЛР 28:24  \n",
       "150  СЖ20-2435.04% возрастной рейтинг       NaN  42:14Первый паркран!  \n",
       "151  ВЖ55-5937.90% возрастной рейтинг       NaN         49:47ЛР 43:53  \n",
       "152  ВМ40-4427.32% возрастной рейтинг  Wake&Run         49:58ЛР 18:27  \n",
       "153  ВЖ40-4430.62% возрастной рейтинг       NaN         49:58ЛР 35:38  \n",
       "\n",
       "[154 rows x 6 columns]"
      ]
     },
     "execution_count": 4,
     "metadata": {},
     "output_type": "execute_result"
    }
   ],
   "source": [
    "data"
   ]
  },
  {
   "cell_type": "code",
   "execution_count": 5,
   "id": "concerned-farmer",
   "metadata": {},
   "outputs": [
    {
     "name": "stdout",
     "output_type": "stream",
     "text": [
      "<class 'pandas.core.frame.DataFrame'>\n",
      "RangeIndex: 154 entries, 0 to 153\n",
      "Data columns (total 6 columns):\n",
      " #   Column        Non-Null Count  Dtype \n",
      "---  ------        --------------  ----- \n",
      " 0   Позиция       154 non-null    int64 \n",
      " 1   Участник      154 non-null    object\n",
      " 2   Пол           144 non-null    object\n",
      " 3   Возр. группа  144 non-null    object\n",
      " 4   Клуб          44 non-null     object\n",
      " 5   Время         144 non-null    object\n",
      "dtypes: int64(1), object(5)\n",
      "memory usage: 7.3+ KB\n"
     ]
    }
   ],
   "source": [
    "data.info()"
   ]
  },
  {
   "cell_type": "code",
   "execution_count": 8,
   "id": "conservative-causing",
   "metadata": {},
   "outputs": [
    {
     "data": {
      "text/plain": [
       "'Алексей КАТРЕНКО13 забеги parkrun | Мужской  2  СМ30-34 | 75.46%'"
      ]
     },
     "execution_count": 8,
     "metadata": {},
     "output_type": "execute_result"
    }
   ],
   "source": [
    "data[data.columns[1]][1]"
   ]
  },
  {
   "cell_type": "code",
   "execution_count": null,
   "id": "extreme-yorkshire",
   "metadata": {},
   "outputs": [],
   "source": []
  }
 ],
 "metadata": {
  "kernelspec": {
   "display_name": "Python 3",
   "language": "python",
   "name": "python3"
  },
  "language_info": {
   "codemirror_mode": {
    "name": "ipython",
    "version": 3
   },
   "file_extension": ".py",
   "mimetype": "text/x-python",
   "name": "python",
   "nbconvert_exporter": "python",
   "pygments_lexer": "ipython3",
   "version": "3.8.6"
  }
 },
 "nbformat": 4,
 "nbformat_minor": 5
}
