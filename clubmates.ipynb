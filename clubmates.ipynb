{
  "cells": [
    {
      "cell_type": "markdown",
      "metadata": {
        "colab_type": "text",
        "id": "view-in-github"
      },
      "source": [
        "<a href=\"https://colab.research.google.com/github/vol1ura/parkrun_analysis/blob/master/clubmates.ipynb\" target=\"_parent\"><img src=\"https://colab.research.google.com/assets/colab-badge.svg\" alt=\"Open In Colab\"/></a>"
      ]
    },
    {
      "cell_type": "code",
      "execution_count": 1,
      "metadata": {
        "id": "zRg0J0r6ztxV"
      },
      "outputs": [],
      "source": [
        "import pandas as pd\n",
        "import random\n",
        "import re\n",
        "import requests\n",
        "import time\n",
        "from tqdm.notebook import tqdm\n",
        "\n",
        "pd.set_option('display.max_rows', None)"
      ]
    },
    {
      "cell_type": "code",
      "execution_count": 2,
      "metadata": {
        "colab": {
          "base_uri": "https://localhost:8080/"
        },
        "id": "Z61g9j-HFebY",
        "outputId": "498bfe36-2636-4f5c-a19d-dbf6e1392705"
      },
      "outputs": [
        {
          "name": "stdout",
          "output_type": "stream",
          "text": [
            "Collecting random_user_agent\n",
            "  Downloading random_user_agent-1.0.1-py3-none-any.whl (8.2 MB)\n",
            "\u001b[K     |████████████████████████████████| 8.2 MB 7.0 MB/s \n",
            "\u001b[?25hInstalling collected packages: random-user-agent\n",
            "Successfully installed random-user-agent-1.0.1\n"
          ]
        }
      ],
      "source": [
        "%pip install random_user_agent"
      ]
    },
    {
      "cell_type": "code",
      "execution_count": 3,
      "metadata": {
        "id": "bZnw6iEPFy36"
      },
      "outputs": [],
      "source": [
        "from random_user_agent.user_agent import UserAgent\n",
        "\n",
        "user_agent_rotator = UserAgent()"
      ]
    },
    {
      "cell_type": "code",
      "execution_count": 4,
      "metadata": {
        "id": "clo0v2xzzyLU"
      },
      "outputs": [],
      "source": [
        "club_id = 23212 # Wake&Run\n",
        "home_parkrun = 'Kuzminki'"
      ]
    },
    {
      "cell_type": "code",
      "execution_count": 5,
      "metadata": {
        "id": "JMntqd19z4bw"
      },
      "outputs": [],
      "source": [
        "headers = {\n",
        "    'Host': 'www.parkrun.ru',\n",
        "    'User-Agent': user_agent_rotator.get_random_user_agent(),\n",
        "    'Accept': 'text/html,application/xhtml+xml,application/xml;q=0.9,image/webp,*/*;q=0.8',\n",
        "    'Accept-Language': 'ru-RU,ru;q=0.8,en-US;q=0.5,en;q=0.3',\n",
        "    'Accept-Encoding': 'gzip, deflate, br',\n",
        "    'Connection': 'keep-alive',\n",
        "    'Upgrade-Insecure-Requests': '1',\n",
        "    'Sec-GPC': '1',\n",
        "    'TE': 'Trailers'\n",
        "}"
      ]
    },
    {
      "cell_type": "code",
      "execution_count": 6,
      "metadata": {
        "id": "ctIMuJuVz7T9"
      },
      "outputs": [],
      "source": [
        "page_all_results = requests.get('https://www.parkrun.ru/results/courserecords/', headers=headers)\n",
        "data = pd.read_html(page_all_results.text)[0]\n",
        "russian_parkruns = data[data.columns[0]]"
      ]
    },
    {
      "cell_type": "code",
      "execution_count": 7,
      "metadata": {
        "colab": {
          "base_uri": "https://localhost:8080/",
          "height": 49,
          "referenced_widgets": [
            "92c63af22b904a768632821783e4fe5e",
            "57c5336cc41a4eb2b9bf4af8a07473a5",
            "9dd065b729dd45d795d6fcb2ddfee0f5",
            "97b38833eac848c6a9c7a49b7ac6634b",
            "37f9e5eb5fc641ad894cd905fc0e765d",
            "b0a641a992ea46a88e3eb4effcb1f8f0",
            "d1bc6cd1519a4ba68d6954bd67c62738",
            "fa9676b4893e4bf5aa9b4884dd4126a4",
            "442b6658af4a42428b577fb47b947656",
            "97288b93d5cc422f902661e4a0151845",
            "ab67e49b8c1d49869969b4e77e262076"
          ]
        },
        "id": "pB86PSu40JiI",
        "outputId": "d484b481-8801-4928-9a31-c5322c391618"
      },
      "outputs": [
        {
          "data": {
            "application/vnd.jupyter.widget-view+json": {
              "model_id": "92c63af22b904a768632821783e4fe5e",
              "version_major": 2,
              "version_minor": 0
            },
            "text/plain": [
              "  0%|          | 0/108 [00:00<?, ?it/s]"
            ]
          },
          "metadata": {},
          "output_type": "display_data"
        }
      ],
      "source": [
        "dfs = []\n",
        "for parkrun in tqdm(russian_parkruns):\n",
        "    time.sleep(3 + 5*random.random())\n",
        "    parkrun_trim = re.sub(r'[\\s-]', '', parkrun)\n",
        "    url = f'https://www.parkrun.ru/{parkrun_trim}/results/clubhistory/?clubNum={club_id}'\n",
        "    headers['User-Agent'] = user_agent_rotator.get_random_user_agent()\n",
        "    club_results = requests.get(url, headers=headers)\n",
        "    try:\n",
        "        df = pd.read_html(club_results.text)[0]\n",
        "        dfs.append(df[df.columns[0]])\n",
        "        if parkrun == home_parkrun:\n",
        "            home_list = df[df.columns[0]]\n",
        "    except:\n",
        "      print('ОШИБКА - операция завершилась досрочно. Паркран временно заблокировал IP.')\n",
        "      break"
      ]
    },
    {
      "cell_type": "code",
      "execution_count": 8,
      "metadata": {
        "id": "JGv4TY_5LOho"
      },
      "outputs": [],
      "source": [
        "def last_name_first(full_name: str):\n",
        "    names = full_name.split()\n",
        "    last_name = names.pop(1).capitalize()\n",
        "    names.insert(0, last_name)\n",
        "    return ' '.join(names)"
      ]
    },
    {
      "cell_type": "code",
      "execution_count": 9,
      "metadata": {
        "id": "u-ij29bnAOaq"
      },
      "outputs": [],
      "source": [
        "full_list = pd.concat(dfs).drop_duplicates(keep='last')\n",
        "outer_home_list = pd.concat([full_list, home_list]).apply(last_name_first).sort_values().drop_duplicates(keep=False).reset_index(drop=True)"
      ]
    },
    {
      "cell_type": "markdown",
      "metadata": {
        "id": "QmpqdvUI8Hsx"
      },
      "source": [
        "### Одноклубники, не бегавшие на домашнем паркране:"
      ]
    },
    {
      "cell_type": "code",
      "execution_count": 10,
      "metadata": {
        "colab": {
          "base_uri": "https://localhost:8080/"
        },
        "id": "526myT8CFL74",
        "outputId": "932fc386-91ad-4772-f4d5-6f18a32e18f5"
      },
      "outputs": [
        {
          "data": {
            "text/plain": [
              "0    ________Фамилия_Имя___\n",
              "1         Мелеховец Василий\n",
              "2           Пантюхин Андрей\n",
              "3             Степанов Ника\n",
              "4             Супонева Инна\n",
              "5         Харченко Владимир\n",
              "6           Ширинкин Максим\n",
              "Name: (Unnamed: 0_level_0, Участник), dtype: object"
            ]
          },
          "execution_count": 10,
          "metadata": {},
          "output_type": "execute_result"
        }
      ],
      "source": [
        "outer_home_list.shift(1, fill_value='________Фамилия_Имя___')"
      ]
    },
    {
      "cell_type": "markdown",
      "metadata": {
        "id": "5Ka2TdEp8a4_"
      },
      "source": [
        "### Полный список одноклубников:"
      ]
    },
    {
      "cell_type": "code",
      "execution_count": 11,
      "metadata": {
        "colab": {
          "base_uri": "https://localhost:8080/"
        },
        "id": "ImhNvi-aS6I_",
        "outputId": "8524d22f-764d-441b-ef30-37d9d4ae1d7f"
      },
      "outputs": [
        {
          "data": {
            "text/plain": [
              "0      ________Фамилия_Имя___\n",
              "1               Agievich Ivan\n",
              "2             Gamzinov Sergey\n",
              "3             Gamzinova Irina\n",
              "4             Ganina Victoria\n",
              "5              Nagibin Evgeny\n",
              "6        Papodopoulos Ganikus\n",
              "7              Pominova Elena\n",
              "8             Savova Veselina\n",
              "9           Suvorov Aleksandr\n",
              "10             Timofeeva Yana\n",
              "11                Voynov Egor\n",
              "12     Абдурашидов Гаджимурад\n",
              "13              Акимова Ольга\n",
              "14            Андрюшенко Глеб\n",
              "15         Андрюшенко Татьяна\n",
              "16           Ардабьев Дмитрий\n",
              "17               Артюшов Иван\n",
              "18           Бабаева Кристина\n",
              "19           Бабушинов Сергей\n",
              "20              Баташева Ника\n",
              "21              Батяева Дарья\n",
              "22              Берг Светлана\n",
              "23            Березина Оксана\n",
              "24            Березной Степан\n",
              "25          Бусалаева Евгения\n",
              "26          Быковский Дмитрий\n",
              "27              Вавилина Анна\n",
              "28           Варнавский Павел\n",
              "29              Вегель Сергей\n",
              "30         Веденеева Кристина\n",
              "31            Верялин Василий\n",
              "32           Верялина Наталия\n",
              "33             Веселов Сергей\n",
              "34              Влазнева Юлия\n",
              "35           Водяная Светлана\n",
              "36               Волков Роман\n",
              "37       Гавриленко Александр\n",
              "38         Гавриленко Дмитрий\n",
              "39           Гавриленко Ирина\n",
              "40              Гамзин Михаил\n",
              "41             Гамзина Оксана\n",
              "42                 Гева Илона\n",
              "43          Гильманова Венера\n",
              "44              Гульянц Артем\n",
              "45            Гусева Ангелина\n",
              "46          Давыдов Александр\n",
              "47               Дахина Ольга\n",
              "48           Диденко Светлана\n",
              "49          Дулебенец Наталия\n",
              "50             Ермакова Ирина\n",
              "51               Ермолов Юрий\n",
              "52               Жаров Герман\n",
              "53               Жуков Сергей\n",
              "54            Заживихина Леся\n",
              "55           Зазуля Екатерина\n",
              "56             Заливин Сергей\n",
              "57             Зернов Алексей\n",
              "58            Иванова Евгения\n",
              "59                 Ионов Олег\n",
              "60            Ионова Светлана\n",
              "61        Казанцева Анастасия\n",
              "62            Калюжин Дмитрий\n",
              "63             Карцев Дмитрий\n",
              "64          Катанский Дмитрий\n",
              "65           Кириакиди Сергей\n",
              "66           Ковалева Людмила\n",
              "67              Коняхин Антон\n",
              "68               Копачёв Олег\n",
              "69                Корзан Вика\n",
              "70          Корниенко Наталия\n",
              "71               Костин Антон\n",
              "72          Кругликов Дмитрий\n",
              "73            Круглов Дмитрий\n",
              "74             Круцких Никита\n",
              "75           Кузьменко Марина\n",
              "76          Кучкаров Шохжахон\n",
              "77          Левыкин Александр\n",
              "78         Летуновский Андрей\n",
              "79       Летуновский Владимир\n",
              "80               Литвин Мария\n",
              "81         Магдысюк Анастасия\n",
              "82           Макарова Наталья\n",
              "83            Мамедова Эсмира\n",
              "84          Маммадбайов Фариз\n",
              "85               Манн Николай\n",
              "86          Мелеховец Василий\n",
              "87         Миловзоров Алексей\n",
              "88           Моторный Дмитрий\n",
              "89          Мурзашев Адильхан\n",
              "90              Нестеров Дима\n",
              "91            Никишов Евгений\n",
              "92           Николаев Дмитрий\n",
              "93             Николаев Игорь\n",
              "94        Николаева Анастасия\n",
              "95          Николаева Валерия\n",
              "96          Николаевич Сергей\n",
              "97            Николай Борисов\n",
              "98             Новикова Света\n",
              "99            Орлов Александр\n",
              "100              Орлова Елена\n",
              "101          Осипенко Алексей\n",
              "102           Пантюхин Андрей\n",
              "103              Пашина Елена\n",
              "104           Перфильева Таня\n",
              "105           Петрищев Максим\n",
              "106            Петров Дмитрий\n",
              "107           Полынкина Арина\n",
              "108      Постоялко Александра\n",
              "109         Постоялко Дмитрий\n",
              "110             Раби Стефания\n",
              "111            Радченко Алиса\n",
              "112         Распопов Валентин\n",
              "113           Резнова Татьяна\n",
              "114            Рогозин Кирилл\n",
              "115             Ромашкан Юлия\n",
              "116           Ромашкин Сергей\n",
              "117            Рыськов Андрей\n",
              "118            Савелов Виктор\n",
              "119        Савелова Мирослава\n",
              "120            Савичев Максим\n",
              "121          Самойленко Роман\n",
              "122            Самофалова Яна\n",
              "123               Серж Сергей\n",
              "124             Силаев Максим\n",
              "125             Силаева Ольга\n",
              "126              Силашин Леон\n",
              "127         Сколис Александра\n",
              "128         Скороход Виктория\n",
              "129             Смирнов Павел\n",
              "130             Смирнова Анна\n",
              "131            Смирнова Елена\n",
              "132          Снежков Владимир\n",
              "133             Соболева Лиза\n",
              "134             Соболева Софи\n",
              "135           Соколов Дмитрий\n",
              "136         Соловьёв Анатолий\n",
              "137          Солопанов Михаил\n",
              "138       Солопанова Виктория\n",
              "139       Старникова Виктория\n",
              "140             Степанов Ника\n",
              "141          Субботин Валерий\n",
              "142             Супонева Инна\n",
              "143           Тагаева Наталья\n",
              "144         Тарелкин Анатолий\n",
              "145           Тельман Анар Г.\n",
              "146        Тимонина Анастасия\n",
              "147            Тимшин Дмитрий\n",
              "148         Тихоненко Евгений\n",
              "149              Туфлин Антон\n",
              "150        Узгорова Екатерина\n",
              "151              Усачев Игорь\n",
              "152         Фейзулла Гульнара\n",
              "153         Харченко Владимир\n",
              "154             Хлопков Антон\n",
              "155           Хлопкова Марина\n",
              "156          Хмелевская Ольга\n",
              "157             Хныкина Ирина\n",
              "158           Цыганов Виталий\n",
              "159            Черников Антон\n",
              "160              Чивин Андрей\n",
              "161            Чивина Наталья\n",
              "162            Чигарина Мария\n",
              "163         Чиченкина Наталья\n",
              "164                 Шило Алла\n",
              "165           Ширинкин Максим\n",
              "166           Ширяев Владимир\n",
              "167             Шлыков Сергей\n",
              "168                Щекин Олег\n",
              "169         Щёлоков Александр\n",
              "170            Яшников Даниил\n",
              "Name: (Unnamed: 0_level_0, Участник), dtype: object"
            ]
          },
          "execution_count": 11,
          "metadata": {},
          "output_type": "execute_result"
        }
      ],
      "source": [
        "full_list.apply(last_name_first).sort_values().reset_index(drop=True).shift(1, fill_value='________Фамилия_Имя___')"
      ]
    }
  ],
  "metadata": {
    "colab": {
      "authorship_tag": "ABX9TyMSbfzztz2IMxYL6dDXQJeG",
      "collapsed_sections": [],
      "include_colab_link": true,
      "name": "clubmates.ipynb",
      "provenance": []
    },
    "kernelspec": {
      "display_name": "Python 3",
      "name": "python3"
    },
    "language_info": {
      "name": "python"
    },
    "widgets": {
      "application/vnd.jupyter.widget-state+json": {
        "37f9e5eb5fc641ad894cd905fc0e765d": {
          "model_module": "@jupyter-widgets/controls",
          "model_module_version": "1.5.0",
          "model_name": "HTMLModel",
          "state": {
            "_dom_classes": [],
            "_model_module": "@jupyter-widgets/controls",
            "_model_module_version": "1.5.0",
            "_model_name": "HTMLModel",
            "_view_count": null,
            "_view_module": "@jupyter-widgets/controls",
            "_view_module_version": "1.5.0",
            "_view_name": "HTMLView",
            "description": "",
            "description_tooltip": null,
            "layout": "IPY_MODEL_ab67e49b8c1d49869969b4e77e262076",
            "placeholder": "​",
            "style": "IPY_MODEL_97288b93d5cc422f902661e4a0151845",
            "value": " 108/108 [15:58&lt;00:00,  9.11s/it]"
          }
        },
        "442b6658af4a42428b577fb47b947656": {
          "model_module": "@jupyter-widgets/base",
          "model_module_version": "1.2.0",
          "model_name": "LayoutModel",
          "state": {
            "_model_module": "@jupyter-widgets/base",
            "_model_module_version": "1.2.0",
            "_model_name": "LayoutModel",
            "_view_count": null,
            "_view_module": "@jupyter-widgets/base",
            "_view_module_version": "1.2.0",
            "_view_name": "LayoutView",
            "align_content": null,
            "align_items": null,
            "align_self": null,
            "border": null,
            "bottom": null,
            "display": null,
            "flex": null,
            "flex_flow": null,
            "grid_area": null,
            "grid_auto_columns": null,
            "grid_auto_flow": null,
            "grid_auto_rows": null,
            "grid_column": null,
            "grid_gap": null,
            "grid_row": null,
            "grid_template_areas": null,
            "grid_template_columns": null,
            "grid_template_rows": null,
            "height": null,
            "justify_content": null,
            "justify_items": null,
            "left": null,
            "margin": null,
            "max_height": null,
            "max_width": null,
            "min_height": null,
            "min_width": null,
            "object_fit": null,
            "object_position": null,
            "order": null,
            "overflow": null,
            "overflow_x": null,
            "overflow_y": null,
            "padding": null,
            "right": null,
            "top": null,
            "visibility": null,
            "width": null
          }
        },
        "57c5336cc41a4eb2b9bf4af8a07473a5": {
          "model_module": "@jupyter-widgets/base",
          "model_module_version": "1.2.0",
          "model_name": "LayoutModel",
          "state": {
            "_model_module": "@jupyter-widgets/base",
            "_model_module_version": "1.2.0",
            "_model_name": "LayoutModel",
            "_view_count": null,
            "_view_module": "@jupyter-widgets/base",
            "_view_module_version": "1.2.0",
            "_view_name": "LayoutView",
            "align_content": null,
            "align_items": null,
            "align_self": null,
            "border": null,
            "bottom": null,
            "display": null,
            "flex": null,
            "flex_flow": null,
            "grid_area": null,
            "grid_auto_columns": null,
            "grid_auto_flow": null,
            "grid_auto_rows": null,
            "grid_column": null,
            "grid_gap": null,
            "grid_row": null,
            "grid_template_areas": null,
            "grid_template_columns": null,
            "grid_template_rows": null,
            "height": null,
            "justify_content": null,
            "justify_items": null,
            "left": null,
            "margin": null,
            "max_height": null,
            "max_width": null,
            "min_height": null,
            "min_width": null,
            "object_fit": null,
            "object_position": null,
            "order": null,
            "overflow": null,
            "overflow_x": null,
            "overflow_y": null,
            "padding": null,
            "right": null,
            "top": null,
            "visibility": null,
            "width": null
          }
        },
        "92c63af22b904a768632821783e4fe5e": {
          "model_module": "@jupyter-widgets/controls",
          "model_module_version": "1.5.0",
          "model_name": "HBoxModel",
          "state": {
            "_dom_classes": [],
            "_model_module": "@jupyter-widgets/controls",
            "_model_module_version": "1.5.0",
            "_model_name": "HBoxModel",
            "_view_count": null,
            "_view_module": "@jupyter-widgets/controls",
            "_view_module_version": "1.5.0",
            "_view_name": "HBoxView",
            "box_style": "",
            "children": [
              "IPY_MODEL_9dd065b729dd45d795d6fcb2ddfee0f5",
              "IPY_MODEL_97b38833eac848c6a9c7a49b7ac6634b",
              "IPY_MODEL_37f9e5eb5fc641ad894cd905fc0e765d"
            ],
            "layout": "IPY_MODEL_57c5336cc41a4eb2b9bf4af8a07473a5"
          }
        },
        "97288b93d5cc422f902661e4a0151845": {
          "model_module": "@jupyter-widgets/controls",
          "model_module_version": "1.5.0",
          "model_name": "DescriptionStyleModel",
          "state": {
            "_model_module": "@jupyter-widgets/controls",
            "_model_module_version": "1.5.0",
            "_model_name": "DescriptionStyleModel",
            "_view_count": null,
            "_view_module": "@jupyter-widgets/base",
            "_view_module_version": "1.2.0",
            "_view_name": "StyleView",
            "description_width": ""
          }
        },
        "97b38833eac848c6a9c7a49b7ac6634b": {
          "model_module": "@jupyter-widgets/controls",
          "model_module_version": "1.5.0",
          "model_name": "FloatProgressModel",
          "state": {
            "_dom_classes": [],
            "_model_module": "@jupyter-widgets/controls",
            "_model_module_version": "1.5.0",
            "_model_name": "FloatProgressModel",
            "_view_count": null,
            "_view_module": "@jupyter-widgets/controls",
            "_view_module_version": "1.5.0",
            "_view_name": "ProgressView",
            "bar_style": "success",
            "description": "",
            "description_tooltip": null,
            "layout": "IPY_MODEL_442b6658af4a42428b577fb47b947656",
            "max": 108,
            "min": 0,
            "orientation": "horizontal",
            "style": "IPY_MODEL_fa9676b4893e4bf5aa9b4884dd4126a4",
            "value": 108
          }
        },
        "9dd065b729dd45d795d6fcb2ddfee0f5": {
          "model_module": "@jupyter-widgets/controls",
          "model_module_version": "1.5.0",
          "model_name": "HTMLModel",
          "state": {
            "_dom_classes": [],
            "_model_module": "@jupyter-widgets/controls",
            "_model_module_version": "1.5.0",
            "_model_name": "HTMLModel",
            "_view_count": null,
            "_view_module": "@jupyter-widgets/controls",
            "_view_module_version": "1.5.0",
            "_view_name": "HTMLView",
            "description": "",
            "description_tooltip": null,
            "layout": "IPY_MODEL_d1bc6cd1519a4ba68d6954bd67c62738",
            "placeholder": "​",
            "style": "IPY_MODEL_b0a641a992ea46a88e3eb4effcb1f8f0",
            "value": "100%"
          }
        },
        "ab67e49b8c1d49869969b4e77e262076": {
          "model_module": "@jupyter-widgets/base",
          "model_module_version": "1.2.0",
          "model_name": "LayoutModel",
          "state": {
            "_model_module": "@jupyter-widgets/base",
            "_model_module_version": "1.2.0",
            "_model_name": "LayoutModel",
            "_view_count": null,
            "_view_module": "@jupyter-widgets/base",
            "_view_module_version": "1.2.0",
            "_view_name": "LayoutView",
            "align_content": null,
            "align_items": null,
            "align_self": null,
            "border": null,
            "bottom": null,
            "display": null,
            "flex": null,
            "flex_flow": null,
            "grid_area": null,
            "grid_auto_columns": null,
            "grid_auto_flow": null,
            "grid_auto_rows": null,
            "grid_column": null,
            "grid_gap": null,
            "grid_row": null,
            "grid_template_areas": null,
            "grid_template_columns": null,
            "grid_template_rows": null,
            "height": null,
            "justify_content": null,
            "justify_items": null,
            "left": null,
            "margin": null,
            "max_height": null,
            "max_width": null,
            "min_height": null,
            "min_width": null,
            "object_fit": null,
            "object_position": null,
            "order": null,
            "overflow": null,
            "overflow_x": null,
            "overflow_y": null,
            "padding": null,
            "right": null,
            "top": null,
            "visibility": null,
            "width": null
          }
        },
        "b0a641a992ea46a88e3eb4effcb1f8f0": {
          "model_module": "@jupyter-widgets/controls",
          "model_module_version": "1.5.0",
          "model_name": "DescriptionStyleModel",
          "state": {
            "_model_module": "@jupyter-widgets/controls",
            "_model_module_version": "1.5.0",
            "_model_name": "DescriptionStyleModel",
            "_view_count": null,
            "_view_module": "@jupyter-widgets/base",
            "_view_module_version": "1.2.0",
            "_view_name": "StyleView",
            "description_width": ""
          }
        },
        "d1bc6cd1519a4ba68d6954bd67c62738": {
          "model_module": "@jupyter-widgets/base",
          "model_module_version": "1.2.0",
          "model_name": "LayoutModel",
          "state": {
            "_model_module": "@jupyter-widgets/base",
            "_model_module_version": "1.2.0",
            "_model_name": "LayoutModel",
            "_view_count": null,
            "_view_module": "@jupyter-widgets/base",
            "_view_module_version": "1.2.0",
            "_view_name": "LayoutView",
            "align_content": null,
            "align_items": null,
            "align_self": null,
            "border": null,
            "bottom": null,
            "display": null,
            "flex": null,
            "flex_flow": null,
            "grid_area": null,
            "grid_auto_columns": null,
            "grid_auto_flow": null,
            "grid_auto_rows": null,
            "grid_column": null,
            "grid_gap": null,
            "grid_row": null,
            "grid_template_areas": null,
            "grid_template_columns": null,
            "grid_template_rows": null,
            "height": null,
            "justify_content": null,
            "justify_items": null,
            "left": null,
            "margin": null,
            "max_height": null,
            "max_width": null,
            "min_height": null,
            "min_width": null,
            "object_fit": null,
            "object_position": null,
            "order": null,
            "overflow": null,
            "overflow_x": null,
            "overflow_y": null,
            "padding": null,
            "right": null,
            "top": null,
            "visibility": null,
            "width": null
          }
        },
        "fa9676b4893e4bf5aa9b4884dd4126a4": {
          "model_module": "@jupyter-widgets/controls",
          "model_module_version": "1.5.0",
          "model_name": "ProgressStyleModel",
          "state": {
            "_model_module": "@jupyter-widgets/controls",
            "_model_module_version": "1.5.0",
            "_model_name": "ProgressStyleModel",
            "_view_count": null,
            "_view_module": "@jupyter-widgets/base",
            "_view_module_version": "1.2.0",
            "_view_name": "StyleView",
            "bar_color": null,
            "description_width": ""
          }
        }
      }
    }
  },
  "nbformat": 4,
  "nbformat_minor": 0
}
